{
 "cells": [
  {
   "cell_type": "code",
   "execution_count": 8,
   "metadata": {},
   "outputs": [
    {
     "name": "stdout",
     "output_type": "stream",
     "text": [
      "5 \n",
      "5 5 5 4 4\n",
      "5 4 \n",
      "3\n"
     ]
    }
   ],
   "source": [
    "#Task1.1\n",
    "n = int(input())\n",
    "mas = list(map(int, input().split()))\n",
    "myset = set()\n",
    "for i in range(n):\n",
    "    if (mas[i] not in myset):\n",
    "        print(mas[i], end=' ')\n",
    "    myset.add(mas[i])\n",
    "\n",
    "print('')\n",
    "print(n - len(myset))"
   ]
  },
  {
   "cell_type": "code",
   "execution_count": 30,
   "metadata": {},
   "outputs": [
    {
     "name": "stdout",
     "output_type": "stream",
     "text": [
      "3\n",
      "14 23 22\n",
      "22 14 23 "
     ]
    }
   ],
   "source": [
    "#Task1.2\n",
    "def get_sum_of_digits(x):\n",
    "    otv=0\n",
    "    tek=x\n",
    "    while (tek!=0):\n",
    "        otv+=tek%10\n",
    "        tek=tek//10\n",
    "    return tuple([otv,x])\n",
    "\n",
    "n = int(input())\n",
    "mas = list(map(int, input().split()))\n",
    "otv=sorted(mas,key=get_sum_of_digits)\n",
    "for i in range(n):\n",
    "    print(otv[i],end=' ')"
   ]
  },
  {
   "cell_type": "code",
   "execution_count": 60,
   "metadata": {},
   "outputs": [
    {
     "name": "stdout",
     "output_type": "stream",
     "text": [
      "74.90\n",
      "10.00\t7 \n",
      " 2.00\t2 \n",
      " 0.50\t1 \n",
      " 0.10\t4 \n"
     ]
    }
   ],
   "source": [
    "#Task1.3\n",
    "a = float(input())\n",
    "a_rub = int(a)\n",
    "a_kop = int((a - a_rub)*100)\n",
    "\n",
    "nominals_rub=[10,5,2,1]\n",
    "nominals_kop=[50,10,5,1]\n",
    "amt_rub=[]\n",
    "amt_kop=[]\n",
    "for i in range(len(nominals_rub)):\n",
    "    amt_rub.append(a_rub//nominals_rub[i])\n",
    "    a_rub=a_rub%nominals_rub[i]\n",
    "    \n",
    "for i in range(len(nominals_kop)):\n",
    "    amt_kop.append(a_kop//nominals_kop[i])\n",
    "    a_kop=a_kop%nominals_kop[i]\n",
    "\n",
    "for i in range(len(nominals_rub)):\n",
    "    if (amt_rub[i]!=0):\n",
    "        print(\"{:5.2f}\\t{} \".format(float(nominals_rub[i]),amt_rub[i] ))\n",
    "for i in range(len(nominals_kop)):\n",
    "    if (amt_kop[i]!=0):\n",
    "        print(\"{:5.2f}\\t{} \".format(float(nominals_kop[i]/100),amt_kop[i] ))"
   ]
  },
  {
   "cell_type": "code",
   "execution_count": 71,
   "metadata": {},
   "outputs": [
    {
     "name": "stdout",
     "output_type": "stream",
     "text": [
      "3 0\n",
      "0\n"
     ]
    }
   ],
   "source": [
    "#Task1.4\n",
    "def get_amt_digits(x):\n",
    "    otv = 0\n",
    "    while(x != 0):\n",
    "        otv = otv + 1\n",
    "        x = x // 10\n",
    "    return otv\n",
    "N, K = map(int, input().split())\n",
    "tek = N\n",
    "otv = 0\n",
    "for i in range(1, K+1):\n",
    "    otv = otv + tek\n",
    "    tek = 10**get_amt_digits(N) * tek + N\n",
    "print(otv)"
   ]
  },
  {
   "cell_type": "code",
   "execution_count": 100,
   "metadata": {},
   "outputs": [
    {
     "name": "stdout",
     "output_type": "stream",
     "text": [
      "CPU times: user 2 µs, sys: 0 ns, total: 2 µs\n",
      "Wall time: 4.77 µs\n",
      "немка \n",
      "немота монета отмена \n",
      "манекен \n",
      "каприз приказ \n"
     ]
    }
   ],
   "source": [
    "#Task1.5 Timelimit exceeded\n",
    "\n",
    "n=7\n",
    "data=[\"немка\", \"немота\", \"манекен\", \"монета\", \"каприз\",\"приказ\", \"отмена\"]\n",
    "\n",
    "# n = int(input())\n",
    "# data=[]\n",
    "# for i in range(n):\n",
    "#     data.append(str(input()))\n",
    "\n",
    "\n",
    "mas_of_used=[0 for i in range(len(data))]\n",
    "for i in range(len(data)):\n",
    "    if (mas_of_used[i]==1):\n",
    "        continue\n",
    "    tek_similars=[data[i]]\n",
    "    myset_i=set(data[i])\n",
    "    for j in range(i+1, len(data)):\n",
    "        if (mas_of_used[j]==1):\n",
    "            continue\n",
    "        if myset_i==set(data[j]):\n",
    "            res=1\n",
    "            for elem in myset_i:\n",
    "                if (data[i].count(elem) != data[j].count(elem)):\n",
    "                    res=0\n",
    "                    break\n",
    "            if (res==1):\n",
    "                tek_similars.append(data[j])\n",
    "                mas_of_used[j]=1\n",
    "    for elem in tek_similars:\n",
    "        print(elem,end=' ')\n",
    "    print('')\n",
    "\n",
    "    \n",
    "    "
   ]
  },
  {
   "cell_type": "code",
   "execution_count": null,
   "metadata": {},
   "outputs": [],
   "source": []
  },
  {
   "cell_type": "code",
   "execution_count": 162,
   "metadata": {},
   "outputs": [
    {
     "name": "stdout",
     "output_type": "stream",
     "text": [
      "7\n",
      "немка\n",
      "немота\n",
      "манекен\n",
      "монета\n",
      "приказ\n",
      "каприз\n",
      "отмена\n",
      "манекен \n",
      "немка \n",
      "немота монета отмена \n",
      "приказ каприз "
     ]
    }
   ],
   "source": [
    "# Task1.5 Good\n",
    "n = int(input())\n",
    "data=[]\n",
    "for i in range(n):\n",
    "    data.append(str(input()))\n",
    "\n",
    "otv=[]\n",
    "for i,name in enumerate(data):\n",
    "    mas_of_letters=sorted(list(name))\n",
    "    string_of_letters=str()\n",
    "    for el in mas_of_letters:\n",
    "        string_of_letters=string_of_letters+str(el)\n",
    "    otv.append(tuple([string_of_letters,i]))\n",
    "\n",
    "otv=sorted(otv)\n",
    "\n",
    "prev_str=otv[0][0]\n",
    "for i in range(len(otv)):\n",
    "    tek_str=otv[i][0]\n",
    "    tek_word=data[otv[i][1]]\n",
    "    if (tek_str != prev_str):\n",
    "        print('')\n",
    "    print(tek_word, end=' ')\n",
    "    prev_str=tek_str\n",
    "    "
   ]
  },
  {
   "cell_type": "code",
   "execution_count": 231,
   "metadata": {},
   "outputs": [
    {
     "name": "stdout",
     "output_type": "stream",
     "text": [
      "Вопросов всегда больше чем ответов\n",
      "Ответов всегда больше чем вопросов\n",
      "YES\n",
      "\n"
     ]
    }
   ],
   "source": [
    "import collections\n",
    "mas1=list(map(str, input().split()))\n",
    "mas2=list(map(str, input().split()))\n",
    "for i in range(len(mas1)):\n",
    "    mas1[i]=mas1[i].lower()\n",
    "for i in range(len(mas2)):\n",
    "    mas2[i]=mas2[i].lower()\n",
    "\n",
    "otv=1\n",
    "mydict1=collections.defaultdict(int, dict(collections.Counter(mas1)))\n",
    "mydict2=collections.defaultdict(int, dict(collections.Counter(mas2)))\n",
    "for k in mydict1.keys():\n",
    "    if (mydict1[k]<mydict2[k]):\n",
    "        otv=0\n",
    "        break\n",
    "if (otv==1):\n",
    "    print(\"YES\")\n",
    "else:\n",
    "    print(\"NO\")"
   ]
  },
  {
   "cell_type": "code",
   "execution_count": 220,
   "metadata": {},
   "outputs": [
    {
     "name": "stdout",
     "output_type": "stream",
     "text": [
      "? 10001\n",
      "? 20001\n",
      "? 30001\n",
      "? 40001\n",
      "? 50001\n",
      "? 60001\n",
      "? 70001\n",
      "? 80001\n",
      "? 90001\n",
      "? 100000\n",
      "+\n",
      "1\n",
      "1\n",
      "1\n",
      "1\n",
      "1\n",
      "1\n",
      "1\n",
      "1\n",
      "1\n",
      "1\n",
      "? 1001\n",
      "? 2001\n",
      "? 3001\n",
      "? 4001\n",
      "? 5001\n",
      "? 6001\n",
      "? 7001\n",
      "? 8001\n",
      "? 9001\n",
      "? 10001\n",
      "+\n",
      "1\n",
      "1\n",
      "1\n",
      "1\n",
      "1\n",
      "1\n",
      "1\n",
      "1\n",
      "1\n",
      "1\n",
      "? 101\n",
      "? 201\n",
      "? 301\n",
      "? 401\n",
      "? 501\n",
      "? 601\n",
      "? 701\n",
      "? 801\n",
      "? 901\n",
      "? 1001\n",
      "+\n",
      "1\n",
      "1\n",
      "1\n",
      "1\n",
      "1\n",
      "1\n",
      "1\n",
      "1\n",
      "1\n",
      "1\n",
      "? 11\n",
      "? 21\n",
      "? 31\n",
      "? 41\n",
      "? 51\n",
      "? 61\n",
      "? 71\n",
      "? 81\n",
      "? 91\n",
      "? 101\n",
      "+\n",
      "1\n",
      "1\n",
      "1\n",
      "1\n",
      "1\n",
      "1\n",
      "1\n",
      "1\n",
      "1\n",
      "1\n",
      "? 2\n",
      "? 3\n",
      "? 4\n",
      "? 5\n",
      "? 6\n",
      "? 7\n",
      "? 8\n",
      "? 9\n",
      "? 10\n",
      "? 11\n",
      "+\n",
      "1\n",
      "1\n",
      "1\n",
      "1\n",
      "1\n",
      "1\n",
      "1\n",
      "1\n",
      "1\n",
      "1\n",
      "! 1\n"
     ]
    }
   ],
   "source": [
    "import sys\n",
    "\n",
    "\n",
    "def safe_input():\n",
    "    try:\n",
    "        return input()\n",
    "    except EOFError:\n",
    "        sys.exit(0)\n",
    "\n",
    "\n",
    "def one_round(start, stop):\n",
    "    step = (stop - start) // 10\n",
    "    for i in range(10):\n",
    "        if (i==9 and stop==100001):\n",
    "            print('?', start + (i + 1) * step - 1 )\n",
    "            \n",
    "        else:\n",
    "            print('?', start + (i + 1) * step )\n",
    "        \n",
    "    print(\"+\")\n",
    "    has1=0\n",
    "    for i in range(10):\n",
    "        tek_answer = int(safe_input())\n",
    "        if (tek_answer == 1 and has1==0):\n",
    "            otv = tuple([start + i * step, start + (i + 1) * step])\n",
    "            has1=1\n",
    "    if (has1==0):\n",
    "        otv = tuple([100001-step, 100001])\n",
    "    return otv\n",
    "\n",
    "\n",
    "start = 1 # included\n",
    "stop = 100001 # excluded\n",
    "for i in range(5):\n",
    "    start1, stop1 = one_round(start, stop)\n",
    "    start = start1\n",
    "    stop = stop1\n",
    "print('!', start)\n"
   ]
  },
  {
   "cell_type": "code",
   "execution_count": null,
   "metadata": {},
   "outputs": [],
   "source": []
  }
 ],
 "metadata": {
  "kernelspec": {
   "display_name": "Python 3",
   "language": "python",
   "name": "python3"
  },
  "language_info": {
   "codemirror_mode": {
    "name": "ipython",
    "version": 3
   },
   "file_extension": ".py",
   "mimetype": "text/x-python",
   "name": "python",
   "nbconvert_exporter": "python",
   "pygments_lexer": "ipython3",
   "version": "3.7.3"
  }
 },
 "nbformat": 4,
 "nbformat_minor": 2
}
