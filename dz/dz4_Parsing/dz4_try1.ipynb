{
 "cells": [
  {
   "cell_type": "code",
   "execution_count": 2,
   "metadata": {},
   "outputs": [],
   "source": [
    "import requests\n",
    "\n",
    "page = requests.get('https://gg.deals/game/tricky-towers/')\n",
    "game_html=page.text"
   ]
  },
  {
   "cell_type": "code",
   "execution_count": 11,
   "metadata": {},
   "outputs": [],
   "source": [
    "from bs4 import BeautifulSoup\n",
    "soup = BeautifulSoup(game_html, 'lxml')"
   ]
  },
  {
   "cell_type": "code",
   "execution_count": 12,
   "metadata": {},
   "outputs": [
    {
     "data": {
      "text/plain": [
       "[<span itemprop=\"name\">Home</span>,\n",
       " <span itemprop=\"name\">Games</span>,\n",
       " <span itemprop=\"name\">Casual</span>,\n",
       " <span itemprop=\"name\">Tricky Towers</span>]"
      ]
     },
     "execution_count": 12,
     "metadata": {},
     "output_type": "execute_result"
    }
   ],
   "source": [
    "soup.find_all('span', itemprop='name')"
   ]
  },
  {
   "cell_type": "code",
   "execution_count": 13,
   "metadata": {},
   "outputs": [
    {
     "data": {
      "text/plain": [
       "'https://img.gg.deals/70/ae/26c780669e69d3cd65f6bcd9f5aefa6dfaa6_307xt176.jpg'"
      ]
     },
     "execution_count": 13,
     "metadata": {},
     "output_type": "execute_result"
    }
   ],
   "source": [
    "soup.find('img',class_=\"image-game\")['src']"
   ]
  },
  {
   "cell_type": "code",
   "execution_count": 15,
   "metadata": {},
   "outputs": [
    {
     "data": {
      "text/plain": [
       "[<p class=\"game-info-details-content\">02 Aug 2016</p>,\n",
       " <p class=\"game-info-details-content\">WeirdBeard</p>]"
      ]
     },
     "execution_count": 15,
     "metadata": {},
     "output_type": "execute_result"
    }
   ],
   "source": [
    "soup.find_all('p',class_=\"game-info-details-content\")"
   ]
  },
  {
   "cell_type": "code",
   "execution_count": 16,
   "metadata": {},
   "outputs": [
    {
     "data": {
      "text/plain": [
       "[<span class=\"overlay\">80</span>, <span class=\"overlay\">6.8</span>]"
      ]
     },
     "execution_count": 16,
     "metadata": {},
     "output_type": "execute_result"
    }
   ],
   "source": [
    "soup.find_all('span',class_=\"overlay\")"
   ]
  },
  {
   "cell_type": "code",
   "execution_count": 19,
   "metadata": {},
   "outputs": [
    {
     "data": {
      "text/plain": [
       "[<span class=\"reviews-label\" data-tippy-animatefill=\"false\" data-tippy-arrow=\"false\" data-tippy-duration=\"0\" data-tippy-followcursor=\"1\" data-tippy-theme=\"translucent\" title=\"90% of the 6,630 user reviews for this game are positive.\">Very Positive<span class=\"semi-transparent\"> (6,630)</span></span>]"
      ]
     },
     "execution_count": 19,
     "metadata": {},
     "output_type": "execute_result"
    }
   ],
   "source": [
    "soup.find_all('span',class_=\"reviews-label\")"
   ]
  },
  {
   "cell_type": "code",
   "execution_count": 21,
   "metadata": {},
   "outputs": [
    {
     "data": {
      "text/plain": [
       "[<a class=\"badge red-badge hoverable white-text\" data-class=\"risk-modal\" data-dismiss=\"modal\" data-target=\"#ajax-modal\" data-toggle=\"modal\" data-url=\"/ru/shops/risks/63/\" href=\"#\">8 risks</a>,\n",
       " <a class=\"badge red-badge hoverable white-text\" data-class=\"risk-modal\" data-dismiss=\"modal\" data-target=\"#ajax-modal\" data-toggle=\"modal\" data-url=\"/ru/shops/risks/62/\" href=\"#\">8 risks</a>,\n",
       " <a class=\"badge red-badge hoverable white-text\" data-class=\"risk-modal\" data-dismiss=\"modal\" data-target=\"#ajax-modal\" data-toggle=\"modal\" data-url=\"/ru/shops/risks/60/\" href=\"#\">3 risks</a>,\n",
       " <a class=\"badge red-badge hoverable white-text\" data-class=\"risk-modal\" data-dismiss=\"modal\" data-target=\"#ajax-modal\" data-toggle=\"modal\" data-url=\"/ru/shops/risks/59/\" href=\"#\">1 risk</a>,\n",
       " <a class=\"badge\" href=\"/games/?genre=10\">Casual</a>,\n",
       " <a class=\"badge\" href=\"/games/?genre=1\">Indie</a>,\n",
       " <a class=\"badge\" href=\"/games/?tag=422\">Party Game</a>,\n",
       " <a class=\"badge\" href=\"/games/?tag=10\">Casual</a>,\n",
       " <a class=\"badge\" href=\"/games/?tag=37\">Puzzle</a>,\n",
       " <a class=\"badge\" href=\"/games/?tag=53\">Physics</a>,\n",
       " <a class=\"badge\" href=\"/games/?tag=137\">Building</a>,\n",
       " <a class=\"badge\" href=\"/games/?tag=85\">Funny</a>,\n",
       " <a class=\"badge\" href=\"/games/?tag=49\">Family Friendly</a>,\n",
       " <a class=\"badge\" href=\"/games/?tag=77\">Multiplayer</a>,\n",
       " <a class=\"badge\" href=\"/games/?tag=266\">Cartoony</a>,\n",
       " <a class=\"badge\" href=\"/games/?tag=148\">Arcade</a>,\n",
       " <a class=\"badge\" href=\"/games/?tag=34\">Singleplayer</a>,\n",
       " <a class=\"badge\" href=\"/games/?tag=138\">Online Co-Op</a>,\n",
       " <a class=\"badge\" href=\"/games/?tag=73\">Local Multiplayer</a>,\n",
       " <a class=\"badge\" href=\"/games/?tag=151\">Local Co-Op</a>,\n",
       " <a class=\"badge\" href=\"/games/?tag=74\">4 Player Local</a>,\n",
       " <a class=\"badge\" href=\"/games/?tag=223\">PvP</a>,\n",
       " <a class=\"badge\" href=\"/games/?tag=6\">Strategy</a>,\n",
       " <a class=\"badge\" href=\"/games/?tag=420\">Party</a>,\n",
       " <a class=\"badge\" href=\"/games/?tag=71\">Colorful</a>,\n",
       " <a class=\"badge\" href=\"/games/?tag=236\">Stylized</a>,\n",
       " <a class=\"badge\" href=\"/games/?tag=1\">Indie</a>,\n",
       " <a class=\"badge\" href=\"/games/?feature=2\">Single-player</a>,\n",
       " <a class=\"badge\" href=\"/games/?feature=46\">Online PvP</a>,\n",
       " <a class=\"badge\" href=\"/games/?feature=50\">Shared/Split Screen PvP</a>,\n",
       " <a class=\"badge\" href=\"/games/?feature=3\">Steam Achievements</a>,\n",
       " <a class=\"badge\" href=\"/games/?feature=10\">Full controller support</a>,\n",
       " <a class=\"badge\" href=\"/games/?feature=4\">Steam Trading Cards</a>,\n",
       " <a class=\"badge\" href=\"/games/?feature=7\">Steam Leaderboards</a>,\n",
       " <a class=\"badge\" href=\"/games/?feature=41\">Remote Play on Phone</a>,\n",
       " <a class=\"badge\" href=\"/games/?feature=42\">Remote Play on Tablet</a>,\n",
       " <a class=\"badge\" href=\"/games/?feature=40\">Remote Play on TV</a>,\n",
       " <a class=\"badge\" href=\"/games/?feature=43\">Remote Play Together</a>]"
      ]
     },
     "execution_count": 21,
     "metadata": {},
     "output_type": "execute_result"
    }
   ],
   "source": [
    "soup.find_all('a',class_=\"badge\")"
   ]
  },
  {
   "cell_type": "code",
   "execution_count": 22,
   "metadata": {},
   "outputs": [
    {
     "data": {
      "text/plain": [
       "[]"
      ]
     },
     "execution_count": 22,
     "metadata": {},
     "output_type": "execute_result"
    }
   ],
   "source": [
    "soup.find_all('section',id_=\"game_dlcs\")"
   ]
  },
  {
   "cell_type": "code",
   "execution_count": 23,
   "metadata": {},
   "outputs": [
    {
     "data": {
      "text/plain": [
       "[]"
      ]
     },
     "execution_count": 23,
     "metadata": {},
     "output_type": "execute_result"
    }
   ],
   "source": [
    "soup.find_all('a',id_=\"requirement-tab-trigger-pc-requirements\")"
   ]
  },
  {
   "cell_type": "code",
   "execution_count": null,
   "metadata": {},
   "outputs": [],
   "source": []
  },
  {
   "cell_type": "code",
   "execution_count": 5,
   "metadata": {},
   "outputs": [],
   "source": [
    "def process_page(url):\n",
    "    soup=BeautifulSoup(requests.get(url).text, 'lxml')\n",
    "    my_dict={\n",
    "            'url':url,\n",
    "            'name':soup.find_all('span', itemprop='name')[3].text,\n",
    "            'img':soup.find('img',class_=\"image-game\")['src']\n",
    "    }\n",
    "    return my_dict"
   ]
  },
  {
   "cell_type": "code",
   "execution_count": 6,
   "metadata": {},
   "outputs": [
    {
     "data": {
      "text/plain": [
       "{'url': 'https://gg.deals/game/resident-evil-5/',\n",
       " 'name': 'Resident Evil 5',\n",
       " 'img': 'https://img.gg.deals/34/15/1f0b040d7435357286447aaff259898cf2ae_307xt176.jpg'}"
      ]
     },
     "execution_count": 6,
     "metadata": {},
     "output_type": "execute_result"
    }
   ],
   "source": [
    "process_page('https://gg.deals/game/resident-evil-5/')"
   ]
  },
  {
   "cell_type": "code",
   "execution_count": null,
   "metadata": {},
   "outputs": [],
   "source": []
  },
  {
   "cell_type": "code",
   "execution_count": 7,
   "metadata": {},
   "outputs": [
    {
     "data": {
      "text/plain": [
       "[{'url': 'https://gg.deals/game/days-gone/',\n",
       "  'name': 'Days Gone',\n",
       "  'img': 'https://img.gg.deals/38/22/2e05636aadb3da72d2a06eb902ac1667dbbd_307xt176.jpg'},\n",
       " {'url': 'https://gg.deals/game/tekken-7/',\n",
       "  'name': 'TEKKEN 7',\n",
       "  'img': 'https://img.gg.deals/db/7f/9c9c5a85b6a0be5cb9b8353c643fa1c19b6b_307xt176.jpg'},\n",
       " {'url': 'https://gg.deals/game/outriders/',\n",
       "  'name': 'OUTRIDERS',\n",
       "  'img': 'https://img.gg.deals/b8/85/ce85db8fc7ec96b3e1bac6eeadd71fc466a3_307xt176.jpg'},\n",
       " {'url': 'https://gg.deals/game/the-forest/',\n",
       "  'name': 'The Forest',\n",
       "  'img': 'https://img.gg.deals/8c/77/1f40768dcebbad3bde5b562193648b848e0c_307xt176.jpg'},\n",
       " {'url': 'https://gg.deals/game/filament/',\n",
       "  'name': 'Filament',\n",
       "  'img': 'https://img.gg.deals/18/55/adac90bb63ab0f71c88d65596f6afbd42ea6_307xt176.jpg'},\n",
       " {'url': 'https://gg.deals/game/horizon-zero-dawn-complete-edition/',\n",
       "  'name': 'Horizon Zero Dawn Complete Edition',\n",
       "  'img': 'https://img.gg.deals/0a/46/221cb09ac5debb227c08fc2303fbebd6c3f9_307xt176.jpg'},\n",
       " {'url': 'https://gg.deals/game/it-takes-two/',\n",
       "  'name': 'It Takes Two',\n",
       "  'img': 'https://img.gg.deals/ed/84/0b7488e858ae5599892567286dcf6b05ab4e_307xt176.jpg'},\n",
       " {'url': 'https://gg.deals/game/cyberpunk-2077/',\n",
       "  'name': 'Cyberpunk 2077',\n",
       "  'img': 'https://img.gg.deals/83/fb/798bb3232e497ab2a8082a6e040e94ce0c7e_307xt176.jpg'},\n",
       " {'url': 'https://gg.deals/game/valheim/',\n",
       "  'name': 'Valheim',\n",
       "  'img': 'https://img.gg.deals/08/d4/6128f8e9f75dd55b40b51885360dcc611876_307xt176.jpg'},\n",
       " {'url': 'https://gg.deals/game/red-dead-redemption-ii/',\n",
       "  'name': 'Red Dead Redemption 2',\n",
       "  'img': 'https://img.gg.deals/6b/85/96dd83fb1b39465eb7825f43d9eecf0b47cc_307xt176.jpg'},\n",
       " {'url': 'https://gg.deals/game/nier-replicant-ver122474487139/',\n",
       "  'name': 'NieR Replicant ver.1.22474487139...',\n",
       "  'img': 'https://img.gg.deals/24/a3/f2faeb72a2615d368c87c8bbb0e328e00532_307xt176.jpg'},\n",
       " {'url': 'https://gg.deals/game/divinity-original-sin-2/',\n",
       "  'name': 'Divinity: Original Sin 2 - Definitive Edition',\n",
       "  'img': 'https://img.gg.deals/66/e1/181f6aaf61b9b634e82d56c59c34fc0560ff_307xt176.jpg'},\n",
       " {'url': 'https://gg.deals/game/pine/',\n",
       "  'name': 'Pine',\n",
       "  'img': 'https://img.gg.deals/2e/2d/9739a248199f5ee43da1a6d788a41b519ce1_307xt176.jpg'},\n",
       " {'url': 'https://gg.deals/game/monster-hunter-world/',\n",
       "  'name': 'Monster Hunter: World',\n",
       "  'img': 'https://img.gg.deals/31/32/a4f965328694ccebdeec929bb1d7007304fa_307xt176.jpg'},\n",
       " {'url': 'https://gg.deals/game/assassins-creed-valhalla/',\n",
       "  'name': \"Assassin's Creed Valhalla\",\n",
       "  'img': 'https://img.gg.deals/e0/33/373ed27d91cc87f237bcf8768c65c0cb8409_307xt176.jpg'},\n",
       " {'url': 'https://gg.deals/game/bladed-fury/',\n",
       "  'name': 'Bladed fury',\n",
       "  'img': 'https://img.gg.deals/a0/87/2659955635de029faf767c37e9c55d0565ef_307xt176.jpg'},\n",
       " {'url': 'https://gg.deals/game/doraemon-story-of-seasons/',\n",
       "  'name': 'DORAEMON  STORY OF SEASONS',\n",
       "  'img': 'https://img.gg.deals/f5/d1/9652466a8443be455df7543e973bbbcb6aa0_307xt176.jpg'},\n",
       " {'url': 'https://gg.deals/game/sea-of-thieves/',\n",
       "  'name': 'Sea of Thieves',\n",
       "  'img': 'https://img.gg.deals/ae/d4/82d40299c6d3d410356c0af89da4357e1f40_307xt176.jpg'},\n",
       " {'url': 'https://gg.deals/game/call-of-duty-black-ops-cold-war/',\n",
       "  'name': 'Call of Duty: Black Ops Cold War',\n",
       "  'img': 'https://img.gg.deals/f1/85/32d770096f534ee4a6db049fe54cab6312cf_307xt176.jpg'},\n",
       " {'url': 'https://gg.deals/game/pummel-party/',\n",
       "  'name': 'Pummel Party',\n",
       "  'img': 'https://img.gg.deals/28/55/7b43b6c0a9fd86b6d07bc3be1c7dd464501e_307xt176.jpg'},\n",
       " {'url': 'https://gg.deals/game/mortal-kombat11/',\n",
       "  'name': 'Mortal Kombat 11',\n",
       "  'img': 'https://img.gg.deals/b7/3e/7fd9584992270f4c623d5ea864a8df407254_307xt176.jpg'},\n",
       " {'url': 'https://gg.deals/game/satisfactory/',\n",
       "  'name': 'Satisfactory',\n",
       "  'img': 'https://img.gg.deals/39/27/d08d787969917edda0e88ad45a3790030126_307xt176.jpg'},\n",
       " {'url': 'https://gg.deals/game/resident-evil-village/',\n",
       "  'name': 'Resident Evil Village',\n",
       "  'img': 'https://img.gg.deals/52/22/084c4619ec25c30c42365ab682b6293bb4e6_307xt176.jpg'},\n",
       " {'url': 'https://gg.deals/game/ghostrunner/',\n",
       "  'name': 'Ghostrunner',\n",
       "  'img': 'https://img.gg.deals/12/17/05a7be4d6af388cf06390859168958697eb8_307xt176.jpg'}]"
      ]
     },
     "execution_count": 7,
     "metadata": {},
     "output_type": "execute_result"
    }
   ],
   "source": [
    "mas_of_kartochki=[]\n",
    "mas_of_urls=[]\n",
    "soup = BeautifulSoup(requests.get('https://gg.deals/games/?type=1&page=1').text, 'lxml')\n",
    "mas_of_candidats=soup.find_all('a', class_=\"main-image\")\n",
    "for cand in mas_of_candidats:\n",
    "    tek_url='https://gg.deals' + str(cand['href'])\n",
    "    mas_of_urls.append(tek_url)\n",
    "    mas_of_kartochki.append(process_page(tek_url))\n",
    "    \n",
    "mas_of_kartochki"
   ]
  },
  {
   "cell_type": "code",
   "execution_count": null,
   "metadata": {},
   "outputs": [],
   "source": []
  },
  {
   "cell_type": "code",
   "execution_count": 12,
   "metadata": {},
   "outputs": [
    {
     "name": "stderr",
     "output_type": "stream",
     "text": [
      "  8%|▊         | 2/24 [00:00<00:08,  2.47it/s]"
     ]
    },
    {
     "name": "stdout",
     "output_type": "stream",
     "text": [
      "{'url': 'https://gg.deals/game/days-gone/', 'name': 'Days Gone', 'img': 'https://img.gg.deals/38/22/2e05636aadb3da72d2a06eb902ac1667dbbd_307xt176.jpg'}\n",
      "{'url': 'https://gg.deals/game/tekken-7/', 'name': 'TEKKEN 7', 'img': 'https://img.gg.deals/db/7f/9c9c5a85b6a0be5cb9b8353c643fa1c19b6b_307xt176.jpg'}\n"
     ]
    },
    {
     "name": "stderr",
     "output_type": "stream",
     "text": [
      "\r",
      " 12%|█▎        | 3/24 [00:00<00:07,  2.70it/s]"
     ]
    },
    {
     "name": "stdout",
     "output_type": "stream",
     "text": [
      "{'url': 'https://gg.deals/game/outriders/', 'name': 'OUTRIDERS', 'img': 'https://img.gg.deals/b8/85/ce85db8fc7ec96b3e1bac6eeadd71fc466a3_307xt176.jpg'}\n"
     ]
    },
    {
     "name": "stderr",
     "output_type": "stream",
     "text": [
      "\r",
      " 17%|█▋        | 4/24 [00:01<00:07,  2.73it/s]"
     ]
    },
    {
     "name": "stdout",
     "output_type": "stream",
     "text": [
      "{'url': 'https://gg.deals/game/the-forest/', 'name': 'The Forest', 'img': 'https://img.gg.deals/8c/77/1f40768dcebbad3bde5b562193648b848e0c_307xt176.jpg'}\n"
     ]
    },
    {
     "name": "stderr",
     "output_type": "stream",
     "text": [
      "\r",
      " 21%|██        | 5/24 [00:01<00:06,  2.91it/s]"
     ]
    },
    {
     "name": "stdout",
     "output_type": "stream",
     "text": [
      "{'url': 'https://gg.deals/game/filament/', 'name': 'Filament', 'img': 'https://img.gg.deals/18/55/adac90bb63ab0f71c88d65596f6afbd42ea6_307xt176.jpg'}\n"
     ]
    },
    {
     "name": "stderr",
     "output_type": "stream",
     "text": [
      "\r",
      " 25%|██▌       | 6/24 [00:01<00:06,  3.00it/s]"
     ]
    },
    {
     "name": "stdout",
     "output_type": "stream",
     "text": [
      "{'url': 'https://gg.deals/game/horizon-zero-dawn-complete-edition/', 'name': 'Horizon Zero Dawn Complete Edition', 'img': 'https://img.gg.deals/0a/46/221cb09ac5debb227c08fc2303fbebd6c3f9_307xt176.jpg'}\n"
     ]
    },
    {
     "name": "stderr",
     "output_type": "stream",
     "text": [
      "\r",
      " 29%|██▉       | 7/24 [00:02<00:05,  3.20it/s]"
     ]
    },
    {
     "name": "stdout",
     "output_type": "stream",
     "text": [
      "{'url': 'https://gg.deals/game/it-takes-two/', 'name': 'It Takes Two', 'img': 'https://img.gg.deals/ed/84/0b7488e858ae5599892567286dcf6b05ab4e_307xt176.jpg'}\n"
     ]
    },
    {
     "name": "stderr",
     "output_type": "stream",
     "text": [
      " 38%|███▊      | 9/24 [00:02<00:04,  3.57it/s]"
     ]
    },
    {
     "name": "stdout",
     "output_type": "stream",
     "text": [
      "{'url': 'https://gg.deals/game/cyberpunk-2077/', 'name': 'Cyberpunk 2077', 'img': 'https://img.gg.deals/83/fb/798bb3232e497ab2a8082a6e040e94ce0c7e_307xt176.jpg'}\n",
      "{'url': 'https://gg.deals/game/valheim/', 'name': 'Valheim', 'img': 'https://img.gg.deals/08/d4/6128f8e9f75dd55b40b51885360dcc611876_307xt176.jpg'}\n"
     ]
    },
    {
     "name": "stderr",
     "output_type": "stream",
     "text": [
      " 46%|████▌     | 11/24 [00:03<00:03,  3.33it/s]"
     ]
    },
    {
     "name": "stdout",
     "output_type": "stream",
     "text": [
      "{'url': 'https://gg.deals/game/red-dead-redemption-ii/', 'name': 'Red Dead Redemption 2', 'img': 'https://img.gg.deals/6b/85/96dd83fb1b39465eb7825f43d9eecf0b47cc_307xt176.jpg'}\n",
      "{'url': 'https://gg.deals/game/nier-replicant-ver122474487139/', 'name': 'NieR Replicant ver.1.22474487139...', 'img': 'https://img.gg.deals/24/a3/f2faeb72a2615d368c87c8bbb0e328e00532_307xt176.jpg'}\n"
     ]
    },
    {
     "name": "stderr",
     "output_type": "stream",
     "text": [
      " 54%|█████▍    | 13/24 [00:04<00:03,  3.37it/s]"
     ]
    },
    {
     "name": "stdout",
     "output_type": "stream",
     "text": [
      "{'url': 'https://gg.deals/game/divinity-original-sin-2/', 'name': 'Divinity: Original Sin 2 - Definitive Edition', 'img': 'https://img.gg.deals/66/e1/181f6aaf61b9b634e82d56c59c34fc0560ff_307xt176.jpg'}\n",
      "{'url': 'https://gg.deals/game/pine/', 'name': 'Pine', 'img': 'https://img.gg.deals/2e/2d/9739a248199f5ee43da1a6d788a41b519ce1_307xt176.jpg'}\n"
     ]
    },
    {
     "name": "stderr",
     "output_type": "stream",
     "text": [
      "\r",
      " 58%|█████▊    | 14/24 [00:04<00:04,  2.26it/s]"
     ]
    },
    {
     "name": "stdout",
     "output_type": "stream",
     "text": [
      "{'url': 'https://gg.deals/game/assassins-creed-valhalla/', 'name': \"Assassin's Creed Valhalla\", 'img': 'https://img.gg.deals/e0/33/373ed27d91cc87f237bcf8768c65c0cb8409_307xt176.jpg'}\n",
      "{'url': 'https://gg.deals/game/monster-hunter-world/', 'name': 'Monster Hunter: World', 'img': 'https://img.gg.deals/31/32/a4f965328694ccebdeec929bb1d7007304fa_307xt176.jpg'}\n"
     ]
    },
    {
     "name": "stderr",
     "output_type": "stream",
     "text": [
      "\r",
      " 67%|██████▋   | 16/24 [00:05<00:03,  2.41it/s]"
     ]
    },
    {
     "name": "stdout",
     "output_type": "stream",
     "text": [
      "{'url': 'https://gg.deals/game/doraemon-story-of-seasons/', 'name': 'DORAEMON  STORY OF SEASONS', 'img': 'https://img.gg.deals/f5/d1/9652466a8443be455df7543e973bbbcb6aa0_307xt176.jpg'}\n",
      "{'url': 'https://gg.deals/game/bladed-fury/', 'name': 'Bladed fury', 'img': 'https://img.gg.deals/a0/87/2659955635de029faf767c37e9c55d0565ef_307xt176.jpg'}\n"
     ]
    },
    {
     "name": "stderr",
     "output_type": "stream",
     "text": [
      "\r",
      " 75%|███████▌  | 18/24 [00:06<00:02,  2.46it/s]"
     ]
    },
    {
     "name": "stdout",
     "output_type": "stream",
     "text": [
      "{'url': 'https://gg.deals/game/sea-of-thieves/', 'name': 'Sea of Thieves', 'img': 'https://img.gg.deals/ae/d4/82d40299c6d3d410356c0af89da4357e1f40_307xt176.jpg'}\n",
      "{'url': 'https://gg.deals/game/call-of-duty-black-ops-cold-war/', 'name': 'Call of Duty: Black Ops Cold War', 'img': 'https://img.gg.deals/f1/85/32d770096f534ee4a6db049fe54cab6312cf_307xt176.jpg'}\n"
     ]
    },
    {
     "name": "stderr",
     "output_type": "stream",
     "text": [
      "\r",
      " 83%|████████▎ | 20/24 [00:06<00:01,  2.82it/s]"
     ]
    },
    {
     "name": "stdout",
     "output_type": "stream",
     "text": [
      "{'url': 'https://gg.deals/game/pummel-party/', 'name': 'Pummel Party', 'img': 'https://img.gg.deals/28/55/7b43b6c0a9fd86b6d07bc3be1c7dd464501e_307xt176.jpg'}\n"
     ]
    },
    {
     "name": "stderr",
     "output_type": "stream",
     "text": [
      "\r",
      " 88%|████████▊ | 21/24 [00:07<00:01,  2.90it/s]"
     ]
    },
    {
     "name": "stdout",
     "output_type": "stream",
     "text": [
      "{'url': 'https://gg.deals/game/mortal-kombat11/', 'name': 'Mortal Kombat 11', 'img': 'https://img.gg.deals/b7/3e/7fd9584992270f4c623d5ea864a8df407254_307xt176.jpg'}\n"
     ]
    },
    {
     "name": "stderr",
     "output_type": "stream",
     "text": [
      "\r",
      " 92%|█████████▏| 22/24 [00:07<00:00,  3.07it/s]"
     ]
    },
    {
     "name": "stdout",
     "output_type": "stream",
     "text": [
      "{'url': 'https://gg.deals/game/satisfactory/', 'name': 'Satisfactory', 'img': 'https://img.gg.deals/39/27/d08d787969917edda0e88ad45a3790030126_307xt176.jpg'}\n"
     ]
    },
    {
     "name": "stderr",
     "output_type": "stream",
     "text": [
      "\r",
      " 96%|█████████▌| 23/24 [00:07<00:00,  3.22it/s]"
     ]
    },
    {
     "name": "stdout",
     "output_type": "stream",
     "text": [
      "{'url': 'https://gg.deals/game/resident-evil-village/', 'name': 'Resident Evil Village', 'img': 'https://img.gg.deals/52/22/084c4619ec25c30c42365ab682b6293bb4e6_307xt176.jpg'}\n"
     ]
    },
    {
     "name": "stderr",
     "output_type": "stream",
     "text": [
      "\r",
      "100%|██████████| 24/24 [00:07<00:00,  3.51it/s]"
     ]
    },
    {
     "name": "stdout",
     "output_type": "stream",
     "text": [
      "{'url': 'https://gg.deals/game/ghostrunner/', 'name': 'Ghostrunner', 'img': 'https://img.gg.deals/12/17/05a7be4d6af388cf06390859168958697eb8_307xt176.jpg'}\n"
     ]
    },
    {
     "name": "stderr",
     "output_type": "stream",
     "text": [
      "\n"
     ]
    }
   ],
   "source": [
    "import gzip\n",
    "import json\n",
    "import codecs\n",
    "from tqdm import tqdm\n",
    "from multiprocessing.dummy import Pool, Queue\n",
    "\n",
    "queue = Queue()\n",
    "for el in mas_of_urls:\n",
    "    queue.put(el)  # очередь ссылок на книги\n",
    "\n",
    "\n",
    "def process_page_wrapper(nomer_potoka):\n",
    "    with gzip.open('data/part_{:05d}.jsonl.gz'.format(nomer_potoka), mode='wb') as f_json:\n",
    "        f_json = codecs.getwriter('utf8')(f_json)\n",
    "\n",
    "        while not queue.empty():\n",
    "            record = process_page(queue.get())\n",
    "            print(record)\n",
    "            record_str = json.dumps(record, ensure_ascii=False)\n",
    "            print(record_str, file=f_json)\n",
    "\n",
    "            # счетчик должен атомарно обновиться\n",
    "            with lock:\n",
    "                pbar.update(1)\n",
    "\n",
    "\n",
    "with Pool(processes=2) as pool, tqdm(total=queue.qsize()) as pbar:\n",
    "    lock = pbar.get_lock()\n",
    "    pool.map(process_page_wrapper, range(pool._processes))"
   ]
  },
  {
   "cell_type": "code",
   "execution_count": 3,
   "metadata": {},
   "outputs": [],
   "source": [
    "href=\"https://gg.deals/redirect/2a8957805c99632e75cf1a2b18826629773e0355/?utm_source=games%2Fsingle\"\n",
    "response = requests.get(href)"
   ]
  },
  {
   "cell_type": "code",
   "execution_count": 4,
   "metadata": {},
   "outputs": [
    {
     "data": {
      "text/plain": [
       "'https://store.steampowered.com/app/437920/'"
      ]
     },
     "execution_count": 4,
     "metadata": {},
     "output_type": "execute_result"
    }
   ],
   "source": [
    "response.url"
   ]
  },
  {
   "cell_type": "code",
   "execution_count": null,
   "metadata": {},
   "outputs": [],
   "source": []
  }
 ],
 "metadata": {
  "kernelspec": {
   "display_name": "Python 3",
   "language": "python",
   "name": "python3"
  },
  "language_info": {
   "codemirror_mode": {
    "name": "ipython",
    "version": 3
   },
   "file_extension": ".py",
   "mimetype": "text/x-python",
   "name": "python",
   "nbconvert_exporter": "python",
   "pygments_lexer": "ipython3",
   "version": "3.7.3"
  }
 },
 "nbformat": 4,
 "nbformat_minor": 2
}
