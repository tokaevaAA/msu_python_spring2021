{
 "cells": [
  {
   "cell_type": "code",
   "execution_count": 258,
   "metadata": {},
   "outputs": [],
   "source": [
    "import requests\n",
    "import re\n",
    "page = requests.get('https://gg.deals/game/tricky-towers/')\n",
    "game_html=page.text"
   ]
  },
  {
   "cell_type": "code",
   "execution_count": 259,
   "metadata": {},
   "outputs": [],
   "source": [
    "from bs4 import BeautifulSoup\n",
    "soup = BeautifulSoup(game_html, 'lxml')"
   ]
  },
  {
   "cell_type": "code",
   "execution_count": null,
   "metadata": {},
   "outputs": [],
   "source": []
  },
  {
   "cell_type": "code",
   "execution_count": 260,
   "metadata": {},
   "outputs": [
    {
     "data": {
      "text/plain": [
       "<div class=\"list-show-more list-show-more-visible-md list-show-more-visible\"><a class=\"widget-link-more news-list-show-more-link load-more-button\" data-url=\"/ru/games/relations/21937/?type=dlc&amp;offset=4&amp;hideKeyshops=0\" href=\"#\">Show more</a></div>"
      ]
     },
     "execution_count": 260,
     "metadata": {},
     "output_type": "execute_result"
    }
   ],
   "source": [
    "soup.find('div',class_=\"list-show-more\")"
   ]
  },
  {
   "cell_type": "code",
   "execution_count": 254,
   "metadata": {},
   "outputs": [
    {
     "data": {
      "text/plain": [
       "<span itemprop=\"name\">NieR Replicant ver.1.22474487139...</span>"
      ]
     },
     "execution_count": 254,
     "metadata": {},
     "output_type": "execute_result"
    }
   ],
   "source": [
    "soup.find_all('span', itemprop='name')[3]"
   ]
  },
  {
   "cell_type": "code",
   "execution_count": null,
   "metadata": {},
   "outputs": [],
   "source": []
  },
  {
   "cell_type": "code",
   "execution_count": 255,
   "metadata": {},
   "outputs": [
    {
     "data": {
      "text/plain": [
       "'https://img.gg.deals/24/a3/f2faeb72a2615d368c87c8bbb0e328e00532_307xt176.jpg'"
      ]
     },
     "execution_count": 255,
     "metadata": {},
     "output_type": "execute_result"
    }
   ],
   "source": [
    "soup.find('img',class_=\"image-game\")['src']"
   ]
  },
  {
   "cell_type": "code",
   "execution_count": 256,
   "metadata": {},
   "outputs": [
    {
     "data": {
      "text/plain": [
       "'https://store.steampowered.com/app/1113560/'"
      ]
     },
     "execution_count": 256,
     "metadata": {},
     "output_type": "execute_result"
    }
   ],
   "source": [
    "requests.get(soup.find_all('a',class_=\"game-link-widget\")[0]['href']).url"
   ]
  },
  {
   "cell_type": "code",
   "execution_count": 257,
   "metadata": {},
   "outputs": [
    {
     "ename": "TypeError",
     "evalue": "'NoneType' object is not subscriptable",
     "output_type": "error",
     "traceback": [
      "\u001b[0;31m---------------------------------------------------------------------------\u001b[0m",
      "\u001b[0;31mTypeError\u001b[0m                                 Traceback (most recent call last)",
      "\u001b[0;32m<ipython-input-257-dd154638a762>\u001b[0m in \u001b[0;36m<module>\u001b[0;34m\u001b[0m\n\u001b[0;32m----> 1\u001b[0;31m \u001b[0msoup\u001b[0m\u001b[0;34m.\u001b[0m\u001b[0mfind\u001b[0m\u001b[0;34m(\u001b[0m\u001b[0;34m'a'\u001b[0m\u001b[0;34m,\u001b[0m \u001b[0mclass_\u001b[0m\u001b[0;34m=\u001b[0m\u001b[0;34m'score-grade'\u001b[0m\u001b[0;34m)\u001b[0m\u001b[0;34m[\u001b[0m\u001b[0;34m'href'\u001b[0m\u001b[0;34m]\u001b[0m\u001b[0;34m\u001b[0m\u001b[0;34m\u001b[0m\u001b[0m\n\u001b[0m",
      "\u001b[0;31mTypeError\u001b[0m: 'NoneType' object is not subscriptable"
     ]
    }
   ],
   "source": [
    "soup.find('a', class_='score-grade')['href']"
   ]
  },
  {
   "cell_type": "code",
   "execution_count": null,
   "metadata": {},
   "outputs": [],
   "source": []
  },
  {
   "cell_type": "code",
   "execution_count": 262,
   "metadata": {},
   "outputs": [
    {
     "data": {
      "text/plain": [
       "<span class=\"count\">527</span>"
      ]
     },
     "execution_count": 262,
     "metadata": {},
     "output_type": "execute_result"
    }
   ],
   "source": [
    "soup.find_all('span',class_=\"user-count\")[0].find(\"span\",class_='count')"
   ]
  },
  {
   "cell_type": "code",
   "execution_count": 73,
   "metadata": {},
   "outputs": [
    {
     "data": {
      "text/plain": [
       "<span class=\"count\">47</span>"
      ]
     },
     "execution_count": 73,
     "metadata": {},
     "output_type": "execute_result"
    }
   ],
   "source": [
    "soup.find_all('span',class_=\"user-count\")[2].find(\"span\",class_='count')"
   ]
  },
  {
   "cell_type": "code",
   "execution_count": 74,
   "metadata": {},
   "outputs": [
    {
     "data": {
      "text/plain": [
       "<span class=\"count\">3886</span>"
      ]
     },
     "execution_count": 74,
     "metadata": {},
     "output_type": "execute_result"
    }
   ],
   "source": [
    "soup.find_all('span',class_=\"user-count\")[4].find(\"span\",class_='count')"
   ]
  },
  {
   "cell_type": "code",
   "execution_count": null,
   "metadata": {},
   "outputs": [],
   "source": []
  },
  {
   "cell_type": "code",
   "execution_count": 51,
   "metadata": {},
   "outputs": [
    {
     "data": {
      "text/plain": [
       "<p class=\"game-info-details-content\">20 Dec 2017</p>"
      ]
     },
     "execution_count": 51,
     "metadata": {},
     "output_type": "execute_result"
    }
   ],
   "source": [
    "soup.find('div', class_=\"game-info-details-section game-info-details-section-release\").find(\"p\", class_=\"game-info-details-content\")"
   ]
  },
  {
   "cell_type": "code",
   "execution_count": 52,
   "metadata": {},
   "outputs": [
    {
     "data": {
      "text/plain": [
       "<p class=\"game-info-details-content\">FS FlightControl</p>"
      ]
     },
     "execution_count": 52,
     "metadata": {},
     "output_type": "execute_result"
    }
   ],
   "source": [
    "soup.find('div', class_=\"game-info-details-section game-info-details-section-developer\").find(\"p\", class_=\"game-info-details-content\")"
   ]
  },
  {
   "cell_type": "code",
   "execution_count": 76,
   "metadata": {},
   "outputs": [
    {
     "data": {
      "text/plain": [
       "<span class=\"overlay\">80</span>"
      ]
     },
     "execution_count": 76,
     "metadata": {},
     "output_type": "execute_result"
    }
   ],
   "source": [
    "soup.find('a', class_=\"score-circle score-metascore\").find(\"span\",class_=\"overlay\")"
   ]
  },
  {
   "cell_type": "code",
   "execution_count": 77,
   "metadata": {},
   "outputs": [
    {
     "data": {
      "text/plain": [
       "<span class=\"overlay\">6.8</span>"
      ]
     },
     "execution_count": 77,
     "metadata": {},
     "output_type": "execute_result"
    }
   ],
   "source": [
    "soup.find('a', class_=\"score-circle score-userscore\").find(\"span\",class_=\"overlay\")"
   ]
  },
  {
   "cell_type": "code",
   "execution_count": 97,
   "metadata": {},
   "outputs": [
    {
     "data": {
      "text/plain": [
       "6630"
      ]
     },
     "execution_count": 97,
     "metadata": {},
     "output_type": "execute_result"
    }
   ],
   "source": [
    "int(re.sub(r'[,-.]', '',soup.find('span', class_=\"reviews-label\").find(\"span\",class_=\"semi-transparent\").text.strip().strip(\"()\")))"
   ]
  },
  {
   "cell_type": "code",
   "execution_count": 129,
   "metadata": {},
   "outputs": [
    {
     "data": {
      "text/plain": [
       "'VeryPositive'"
      ]
     },
     "execution_count": 129,
     "metadata": {},
     "output_type": "execute_result"
    }
   ],
   "source": [
    "re.sub(r'[\\d (),]','', soup.find('span', class_=\"reviews-label\").text)"
   ]
  },
  {
   "cell_type": "code",
   "execution_count": 132,
   "metadata": {},
   "outputs": [
    {
     "data": {
      "text/plain": [
       "'90'"
      ]
     },
     "execution_count": 132,
     "metadata": {},
     "output_type": "execute_result"
    }
   ],
   "source": [
    "soup.find('span', class_=\"reviews-label\")['title'][0:2]"
   ]
  },
  {
   "cell_type": "code",
   "execution_count": 162,
   "metadata": {},
   "outputs": [
    {
     "data": {
      "text/plain": [
       "['Casual', 'Indie']"
      ]
     },
     "execution_count": 162,
     "metadata": {},
     "output_type": "execute_result"
    }
   ],
   "source": [
    "[x.text for x in soup.find('div', id='game-info-genres').find_all('a', class_='badge')]"
   ]
  },
  {
   "cell_type": "code",
   "execution_count": 160,
   "metadata": {},
   "outputs": [
    {
     "data": {
      "text/plain": [
       "['Party Game',\n",
       " 'Casual',\n",
       " 'Puzzle',\n",
       " 'Physics',\n",
       " 'Building',\n",
       " 'Funny',\n",
       " 'Family Friendly',\n",
       " 'Multiplayer',\n",
       " 'Cartoony',\n",
       " 'Arcade',\n",
       " 'Singleplayer',\n",
       " 'Online Co-Op',\n",
       " 'Local Multiplayer',\n",
       " 'Local Co-Op',\n",
       " '4 Player Local',\n",
       " 'PvP',\n",
       " 'Strategy',\n",
       " 'Party',\n",
       " 'Colorful',\n",
       " 'Stylized',\n",
       " 'Indie']"
      ]
     },
     "execution_count": 160,
     "metadata": {},
     "output_type": "execute_result"
    }
   ],
   "source": [
    "[x.text for x in soup.find('div', id='game-info-tags').find_all('a', class_='badge')]"
   ]
  },
  {
   "cell_type": "code",
   "execution_count": 161,
   "metadata": {},
   "outputs": [
    {
     "data": {
      "text/plain": [
       "['Single-player',\n",
       " 'Online PvP',\n",
       " 'Shared/Split Screen PvP',\n",
       " 'Steam Achievements',\n",
       " 'Full controller support',\n",
       " 'Steam Trading Cards',\n",
       " 'Steam Leaderboards',\n",
       " 'Remote Play on Phone',\n",
       " 'Remote Play on Tablet',\n",
       " 'Remote Play on TV',\n",
       " 'Remote Play Together']"
      ]
     },
     "execution_count": 161,
     "metadata": {},
     "output_type": "execute_result"
    }
   ],
   "source": [
    "[x.text for x in soup.find('div', id='game-info-features').find_all('a', class_='badge')]"
   ]
  },
  {
   "cell_type": "code",
   "execution_count": null,
   "metadata": {},
   "outputs": [],
   "source": [
    "https://gg.deals/ru/games/relations/21937/?type=dlc&amp;offset=4&amp;hideKeyshops=0"
   ]
  },
  {
   "cell_type": "code",
   "execution_count": null,
   "metadata": {},
   "outputs": [],
   "source": []
  },
  {
   "cell_type": "code",
   "execution_count": null,
   "metadata": {},
   "outputs": [],
   "source": []
  },
  {
   "cell_type": "code",
   "execution_count": 247,
   "metadata": {},
   "outputs": [
    {
     "data": {
      "text/plain": [
       "['https://gg.deals/ru/dlc/tricky-towers-indie-friends-pack/',\n",
       " 'https://gg.deals/ru/dlc/tricky-towers-spirit-animal-pack/',\n",
       " 'https://gg.deals/ru/dlc/tricky-towers-galaxy-bricks/',\n",
       " 'https://gg.deals/ru/dlc/tricky-towers-candy-bricks/']"
      ]
     },
     "execution_count": 247,
     "metadata": {},
     "output_type": "execute_result"
    }
   ],
   "source": [
    "['https://gg.deals'+x['href'] for x in soup.find('section', id='game-dlcs').find_all('a', class_='game-info-title')]"
   ]
  },
  {
   "cell_type": "code",
   "execution_count": 203,
   "metadata": {},
   "outputs": [
    {
     "data": {
      "text/plain": [
       "[<a class=\"game-info-title\" href=\"/ru/dlc/tricky-towers-indie-friends-pack/\">Indie Friends Pack</a>,\n",
       " <a class=\"game-info-title\" href=\"/ru/dlc/tricky-towers-spirit-animal-pack/\">Spirit Animal Pack</a>,\n",
       " <a class=\"game-info-title\" href=\"/ru/dlc/tricky-towers-galaxy-bricks/\">Tricky Towers - Galaxy Bricks</a>,\n",
       " <a class=\"game-info-title\" href=\"/ru/dlc/tricky-towers-candy-bricks/\">Tricky Towers - Candy Bricks</a>]"
      ]
     },
     "execution_count": 203,
     "metadata": {},
     "output_type": "execute_result"
    }
   ],
   "source": [
    "soup.find_all('a', href=lambda s: s and s.startswith(\"/ru/dlc\"),class_=\"game-info-title\")"
   ]
  },
  {
   "cell_type": "code",
   "execution_count": null,
   "metadata": {},
   "outputs": [],
   "source": []
  },
  {
   "cell_type": "code",
   "execution_count": 220,
   "metadata": {},
   "outputs": [
    {
     "data": {
      "text/plain": [
       "[<a data-target=\"#requirement-tab-pc_requirements\" id=\"requirement-tab-trigger-pc_requirements\" role=\"button\">Windows</a>,\n",
       " <a data-target=\"#requirement-tab-mac_requirements\" id=\"requirement-tab-trigger-mac_requirements\" role=\"button\">Mac</a>,\n",
       " <a data-target=\"#requirement-tab-linux_requirements\" id=\"requirement-tab-trigger-linux_requirements\" role=\"button\">Linux</a>,\n",
       " <a data-target=\"#game-lowest-tab-price\" id=\"game-lowest-tab-trigger-price\" role=\"button\">By Price</a>,\n",
       " <a data-target=\"#game-lowest-tab-time\" id=\"game-lowest-tab-trigger-time\" role=\"button\">By Time</a>]"
      ]
     },
     "execution_count": 220,
     "metadata": {},
     "output_type": "execute_result"
    }
   ],
   "source": [
    "soup.find_all(\"a\",role='button')"
   ]
  },
  {
   "cell_type": "code",
   "execution_count": 246,
   "metadata": {},
   "outputs": [
    {
     "data": {
      "text/plain": [
       "['Windows', 'Mac', 'Linux']"
      ]
     },
     "execution_count": 246,
     "metadata": {},
     "output_type": "execute_result"
    }
   ],
   "source": [
    "[x.text for x in soup.find('div', class_='game-requirements-tabs').find_all('a')]"
   ]
  },
  {
   "cell_type": "code",
   "execution_count": null,
   "metadata": {},
   "outputs": [],
   "source": []
  },
  {
   "cell_type": "code",
   "execution_count": 250,
   "metadata": {},
   "outputs": [],
   "source": [
    "def process_page(url):\n",
    "    soup=BeautifulSoup(requests.get(url).text, 'lxml')\n",
    "    my_dict={\n",
    "            'url':url,\n",
    "            'name':soup.find_all('span', itemprop='name')[3].text,\n",
    "        \n",
    "            'img':soup.find('img',class_=\"image-game\")['src'],\n",
    "            'market_url':soup.find('a', class_='score-grade')['href'],\n",
    "        \n",
    "            'wishlist_count':int(soup.find_all('span',class_=\"user-count\")[0].find(\"span\",class_='count').text),\n",
    "            'alert_count':int(soup.find_all('span',class_=\"user-count\")[2].find(\"span\",class_='count').text),\n",
    "            'owners_count':int(soup.find_all('span',class_=\"user-count\")[4].find(\"span\",class_='count').text),\n",
    "        \n",
    "            'release_date':soup.find('div', class_=\"game-info-details-section game-info-details-section-release\").find(\"p\", class_=\"game-info-details-content\").text,\n",
    "            'developer':soup.find('div', class_=\"game-info-details-section game-info-details-section-developer\").find(\"p\", class_=\"game-info-details-content\").text,\n",
    "            'metacritic_score':int(soup.find('a', class_=\"score-circle score-metascore\").find(\"span\",class_=\"overlay\").text),\n",
    "            'user_score': float(soup.find('a', class_=\"score-circle score-userscore\").find(\"span\",class_=\"overlay\").text),\n",
    "            'review_label':re.sub(r'[\\d (),]','', soup.find('span', class_=\"reviews-label\").text),\n",
    "            'review_positive_pctg': int(soup.find('span', class_=\"reviews-label\")['title'][0:2]),\n",
    "            'review_count':int(re.sub(r'[,-.]', '',soup.find('span', class_=\"reviews-label\").find(\"span\",class_=\"semi-transparent\").text.strip().strip(\"()\"))),\n",
    "            'genres':[x.text for x in soup.find('div', id='game-info-genres').find_all('a', class_='badge')],\n",
    "            'tags': [x.text for x in soup.find('div', id='game-info-tags').find_all('a', class_='badge')],\n",
    "            'features':[x.text for x in soup.find('div', id='game-info-features').find_all('a', class_='badge')],\n",
    "        \n",
    "            'pc_systems':[x.text for x in soup.find('div', class_='game-requirements-tabs').find_all('a')],\n",
    "            'dlcs':['https://gg.deals'+x['href'] for x in soup.find('section', id='game-dlcs').find_all('a', class_='game-info-title')]\n",
    "            \n",
    "        \n",
    "    }\n",
    "    return my_dict"
   ]
  },
  {
   "cell_type": "code",
   "execution_count": 251,
   "metadata": {},
   "outputs": [
    {
     "data": {
      "text/plain": [
       "{'url': 'https://gg.deals/game/tricky-towers/',\n",
       " 'name': 'Tricky Towers',\n",
       " 'img': 'https://img.gg.deals/70/ae/26c780669e69d3cd65f6bcd9f5aefa6dfaa6_307xt176.jpg',\n",
       " 'market_url': 'https://store.steampowered.com/app/437920/',\n",
       " 'wishlist_count': 527,\n",
       " 'alert_count': 47,\n",
       " 'owners_count': 3886,\n",
       " 'release_date': '02 Aug 2016',\n",
       " 'developer': 'WeirdBeard',\n",
       " 'metacritic_score': 80,\n",
       " 'user_score': 6.8,\n",
       " 'review_label': 'VeryPositive',\n",
       " 'review_positive_pctg': 90,\n",
       " 'review_count': 6630,\n",
       " 'genres': ['Casual', 'Indie'],\n",
       " 'tags': ['Party Game',\n",
       "  'Casual',\n",
       "  'Puzzle',\n",
       "  'Physics',\n",
       "  'Building',\n",
       "  'Funny',\n",
       "  'Family Friendly',\n",
       "  'Multiplayer',\n",
       "  'Cartoony',\n",
       "  'Arcade',\n",
       "  'Singleplayer',\n",
       "  'Online Co-Op',\n",
       "  'Local Multiplayer',\n",
       "  'Local Co-Op',\n",
       "  '4 Player Local',\n",
       "  'PvP',\n",
       "  'Strategy',\n",
       "  'Party',\n",
       "  'Colorful',\n",
       "  'Stylized',\n",
       "  'Indie'],\n",
       " 'features': ['Single-player',\n",
       "  'Online PvP',\n",
       "  'Shared/Split Screen PvP',\n",
       "  'Steam Achievements',\n",
       "  'Full controller support',\n",
       "  'Steam Trading Cards',\n",
       "  'Steam Leaderboards',\n",
       "  'Remote Play on Phone',\n",
       "  'Remote Play on Tablet',\n",
       "  'Remote Play on TV',\n",
       "  'Remote Play Together'],\n",
       " 'pc_systems': ['Windows', 'Mac', 'Linux'],\n",
       " 'dlcs': ['https://gg.deals/ru/dlc/tricky-towers-indie-friends-pack/',\n",
       "  'https://gg.deals/ru/dlc/tricky-towers-spirit-animal-pack/',\n",
       "  'https://gg.deals/ru/dlc/tricky-towers-galaxy-bricks/',\n",
       "  'https://gg.deals/ru/dlc/tricky-towers-candy-bricks/']}"
      ]
     },
     "execution_count": 251,
     "metadata": {},
     "output_type": "execute_result"
    }
   ],
   "source": [
    "process_page('https://gg.deals/game/tricky-towers/')"
   ]
  },
  {
   "cell_type": "code",
   "execution_count": null,
   "metadata": {},
   "outputs": [],
   "source": []
  },
  {
   "cell_type": "code",
   "execution_count": null,
   "metadata": {},
   "outputs": [],
   "source": []
  },
  {
   "cell_type": "code",
   "execution_count": 31,
   "metadata": {},
   "outputs": [
    {
     "data": {
      "text/plain": [
       "48"
      ]
     },
     "execution_count": 31,
     "metadata": {},
     "output_type": "execute_result"
    }
   ],
   "source": [
    "mas_of_kartochki=[]\n",
    "mas_of_urls=[]\n",
    "for n in range(1,3):\n",
    "    soup = BeautifulSoup(requests.get('https://gg.deals/games/?type=1&page='+str(n)).text, 'lxml')\n",
    "    mas_of_candidats=soup.find_all('a', class_=\"main-image\")\n",
    "    for cand in mas_of_candidats:\n",
    "        tek_url='https://gg.deals' + str(cand['href'])\n",
    "        mas_of_urls.append(tek_url)\n",
    "        mas_of_kartochki.append(process_page(tek_url))\n",
    "    \n",
    "len(mas_of_kartochki)"
   ]
  },
  {
   "cell_type": "code",
   "execution_count": 28,
   "metadata": {},
   "outputs": [
    {
     "data": {
      "text/plain": [
       "24"
      ]
     },
     "execution_count": 28,
     "metadata": {},
     "output_type": "execute_result"
    }
   ],
   "source": [
    "mas_of_kartochki=[]\n",
    "mas_of_urls=[]\n",
    "soup = BeautifulSoup(requests.get('https://gg.deals/games/?type=1&page=1').text, 'lxml')\n",
    "mas_of_candidats=soup.find_all('a', class_=\"main-image\")\n",
    "for cand in mas_of_candidats:\n",
    "    tek_url='https://gg.deals' + str(cand['href'])\n",
    "    mas_of_urls.append(tek_url)\n",
    "    mas_of_kartochki.append(process_page(tek_url))\n",
    "    \n",
    "len(mas_of_kartochki)"
   ]
  },
  {
   "cell_type": "code",
   "execution_count": null,
   "metadata": {},
   "outputs": [],
   "source": []
  },
  {
   "cell_type": "code",
   "execution_count": 12,
   "metadata": {},
   "outputs": [
    {
     "name": "stderr",
     "output_type": "stream",
     "text": [
      "  8%|▊         | 2/24 [00:00<00:08,  2.47it/s]"
     ]
    },
    {
     "name": "stdout",
     "output_type": "stream",
     "text": [
      "{'url': 'https://gg.deals/game/days-gone/', 'name': 'Days Gone', 'img': 'https://img.gg.deals/38/22/2e05636aadb3da72d2a06eb902ac1667dbbd_307xt176.jpg'}\n",
      "{'url': 'https://gg.deals/game/tekken-7/', 'name': 'TEKKEN 7', 'img': 'https://img.gg.deals/db/7f/9c9c5a85b6a0be5cb9b8353c643fa1c19b6b_307xt176.jpg'}\n"
     ]
    },
    {
     "name": "stderr",
     "output_type": "stream",
     "text": [
      "\r",
      " 12%|█▎        | 3/24 [00:00<00:07,  2.70it/s]"
     ]
    },
    {
     "name": "stdout",
     "output_type": "stream",
     "text": [
      "{'url': 'https://gg.deals/game/outriders/', 'name': 'OUTRIDERS', 'img': 'https://img.gg.deals/b8/85/ce85db8fc7ec96b3e1bac6eeadd71fc466a3_307xt176.jpg'}\n"
     ]
    },
    {
     "name": "stderr",
     "output_type": "stream",
     "text": [
      "\r",
      " 17%|█▋        | 4/24 [00:01<00:07,  2.73it/s]"
     ]
    },
    {
     "name": "stdout",
     "output_type": "stream",
     "text": [
      "{'url': 'https://gg.deals/game/the-forest/', 'name': 'The Forest', 'img': 'https://img.gg.deals/8c/77/1f40768dcebbad3bde5b562193648b848e0c_307xt176.jpg'}\n"
     ]
    },
    {
     "name": "stderr",
     "output_type": "stream",
     "text": [
      "\r",
      " 21%|██        | 5/24 [00:01<00:06,  2.91it/s]"
     ]
    },
    {
     "name": "stdout",
     "output_type": "stream",
     "text": [
      "{'url': 'https://gg.deals/game/filament/', 'name': 'Filament', 'img': 'https://img.gg.deals/18/55/adac90bb63ab0f71c88d65596f6afbd42ea6_307xt176.jpg'}\n"
     ]
    },
    {
     "name": "stderr",
     "output_type": "stream",
     "text": [
      "\r",
      " 25%|██▌       | 6/24 [00:01<00:06,  3.00it/s]"
     ]
    },
    {
     "name": "stdout",
     "output_type": "stream",
     "text": [
      "{'url': 'https://gg.deals/game/horizon-zero-dawn-complete-edition/', 'name': 'Horizon Zero Dawn Complete Edition', 'img': 'https://img.gg.deals/0a/46/221cb09ac5debb227c08fc2303fbebd6c3f9_307xt176.jpg'}\n"
     ]
    },
    {
     "name": "stderr",
     "output_type": "stream",
     "text": [
      "\r",
      " 29%|██▉       | 7/24 [00:02<00:05,  3.20it/s]"
     ]
    },
    {
     "name": "stdout",
     "output_type": "stream",
     "text": [
      "{'url': 'https://gg.deals/game/it-takes-two/', 'name': 'It Takes Two', 'img': 'https://img.gg.deals/ed/84/0b7488e858ae5599892567286dcf6b05ab4e_307xt176.jpg'}\n"
     ]
    },
    {
     "name": "stderr",
     "output_type": "stream",
     "text": [
      " 38%|███▊      | 9/24 [00:02<00:04,  3.57it/s]"
     ]
    },
    {
     "name": "stdout",
     "output_type": "stream",
     "text": [
      "{'url': 'https://gg.deals/game/cyberpunk-2077/', 'name': 'Cyberpunk 2077', 'img': 'https://img.gg.deals/83/fb/798bb3232e497ab2a8082a6e040e94ce0c7e_307xt176.jpg'}\n",
      "{'url': 'https://gg.deals/game/valheim/', 'name': 'Valheim', 'img': 'https://img.gg.deals/08/d4/6128f8e9f75dd55b40b51885360dcc611876_307xt176.jpg'}\n"
     ]
    },
    {
     "name": "stderr",
     "output_type": "stream",
     "text": [
      " 46%|████▌     | 11/24 [00:03<00:03,  3.33it/s]"
     ]
    },
    {
     "name": "stdout",
     "output_type": "stream",
     "text": [
      "{'url': 'https://gg.deals/game/red-dead-redemption-ii/', 'name': 'Red Dead Redemption 2', 'img': 'https://img.gg.deals/6b/85/96dd83fb1b39465eb7825f43d9eecf0b47cc_307xt176.jpg'}\n",
      "{'url': 'https://gg.deals/game/nier-replicant-ver122474487139/', 'name': 'NieR Replicant ver.1.22474487139...', 'img': 'https://img.gg.deals/24/a3/f2faeb72a2615d368c87c8bbb0e328e00532_307xt176.jpg'}\n"
     ]
    },
    {
     "name": "stderr",
     "output_type": "stream",
     "text": [
      " 54%|█████▍    | 13/24 [00:04<00:03,  3.37it/s]"
     ]
    },
    {
     "name": "stdout",
     "output_type": "stream",
     "text": [
      "{'url': 'https://gg.deals/game/divinity-original-sin-2/', 'name': 'Divinity: Original Sin 2 - Definitive Edition', 'img': 'https://img.gg.deals/66/e1/181f6aaf61b9b634e82d56c59c34fc0560ff_307xt176.jpg'}\n",
      "{'url': 'https://gg.deals/game/pine/', 'name': 'Pine', 'img': 'https://img.gg.deals/2e/2d/9739a248199f5ee43da1a6d788a41b519ce1_307xt176.jpg'}\n"
     ]
    },
    {
     "name": "stderr",
     "output_type": "stream",
     "text": [
      "\r",
      " 58%|█████▊    | 14/24 [00:04<00:04,  2.26it/s]"
     ]
    },
    {
     "name": "stdout",
     "output_type": "stream",
     "text": [
      "{'url': 'https://gg.deals/game/assassins-creed-valhalla/', 'name': \"Assassin's Creed Valhalla\", 'img': 'https://img.gg.deals/e0/33/373ed27d91cc87f237bcf8768c65c0cb8409_307xt176.jpg'}\n",
      "{'url': 'https://gg.deals/game/monster-hunter-world/', 'name': 'Monster Hunter: World', 'img': 'https://img.gg.deals/31/32/a4f965328694ccebdeec929bb1d7007304fa_307xt176.jpg'}\n"
     ]
    },
    {
     "name": "stderr",
     "output_type": "stream",
     "text": [
      "\r",
      " 67%|██████▋   | 16/24 [00:05<00:03,  2.41it/s]"
     ]
    },
    {
     "name": "stdout",
     "output_type": "stream",
     "text": [
      "{'url': 'https://gg.deals/game/doraemon-story-of-seasons/', 'name': 'DORAEMON  STORY OF SEASONS', 'img': 'https://img.gg.deals/f5/d1/9652466a8443be455df7543e973bbbcb6aa0_307xt176.jpg'}\n",
      "{'url': 'https://gg.deals/game/bladed-fury/', 'name': 'Bladed fury', 'img': 'https://img.gg.deals/a0/87/2659955635de029faf767c37e9c55d0565ef_307xt176.jpg'}\n"
     ]
    },
    {
     "name": "stderr",
     "output_type": "stream",
     "text": [
      "\r",
      " 75%|███████▌  | 18/24 [00:06<00:02,  2.46it/s]"
     ]
    },
    {
     "name": "stdout",
     "output_type": "stream",
     "text": [
      "{'url': 'https://gg.deals/game/sea-of-thieves/', 'name': 'Sea of Thieves', 'img': 'https://img.gg.deals/ae/d4/82d40299c6d3d410356c0af89da4357e1f40_307xt176.jpg'}\n",
      "{'url': 'https://gg.deals/game/call-of-duty-black-ops-cold-war/', 'name': 'Call of Duty: Black Ops Cold War', 'img': 'https://img.gg.deals/f1/85/32d770096f534ee4a6db049fe54cab6312cf_307xt176.jpg'}\n"
     ]
    },
    {
     "name": "stderr",
     "output_type": "stream",
     "text": [
      "\r",
      " 83%|████████▎ | 20/24 [00:06<00:01,  2.82it/s]"
     ]
    },
    {
     "name": "stdout",
     "output_type": "stream",
     "text": [
      "{'url': 'https://gg.deals/game/pummel-party/', 'name': 'Pummel Party', 'img': 'https://img.gg.deals/28/55/7b43b6c0a9fd86b6d07bc3be1c7dd464501e_307xt176.jpg'}\n"
     ]
    },
    {
     "name": "stderr",
     "output_type": "stream",
     "text": [
      "\r",
      " 88%|████████▊ | 21/24 [00:07<00:01,  2.90it/s]"
     ]
    },
    {
     "name": "stdout",
     "output_type": "stream",
     "text": [
      "{'url': 'https://gg.deals/game/mortal-kombat11/', 'name': 'Mortal Kombat 11', 'img': 'https://img.gg.deals/b7/3e/7fd9584992270f4c623d5ea864a8df407254_307xt176.jpg'}\n"
     ]
    },
    {
     "name": "stderr",
     "output_type": "stream",
     "text": [
      "\r",
      " 92%|█████████▏| 22/24 [00:07<00:00,  3.07it/s]"
     ]
    },
    {
     "name": "stdout",
     "output_type": "stream",
     "text": [
      "{'url': 'https://gg.deals/game/satisfactory/', 'name': 'Satisfactory', 'img': 'https://img.gg.deals/39/27/d08d787969917edda0e88ad45a3790030126_307xt176.jpg'}\n"
     ]
    },
    {
     "name": "stderr",
     "output_type": "stream",
     "text": [
      "\r",
      " 96%|█████████▌| 23/24 [00:07<00:00,  3.22it/s]"
     ]
    },
    {
     "name": "stdout",
     "output_type": "stream",
     "text": [
      "{'url': 'https://gg.deals/game/resident-evil-village/', 'name': 'Resident Evil Village', 'img': 'https://img.gg.deals/52/22/084c4619ec25c30c42365ab682b6293bb4e6_307xt176.jpg'}\n"
     ]
    },
    {
     "name": "stderr",
     "output_type": "stream",
     "text": [
      "\r",
      "100%|██████████| 24/24 [00:07<00:00,  3.51it/s]"
     ]
    },
    {
     "name": "stdout",
     "output_type": "stream",
     "text": [
      "{'url': 'https://gg.deals/game/ghostrunner/', 'name': 'Ghostrunner', 'img': 'https://img.gg.deals/12/17/05a7be4d6af388cf06390859168958697eb8_307xt176.jpg'}\n"
     ]
    },
    {
     "name": "stderr",
     "output_type": "stream",
     "text": [
      "\n"
     ]
    }
   ],
   "source": [
    "import gzip\n",
    "import json\n",
    "import codecs\n",
    "from tqdm import tqdm\n",
    "from multiprocessing.dummy import Pool, Queue\n",
    "\n",
    "queue = Queue()\n",
    "for el in mas_of_urls:\n",
    "    queue.put(el)  # очередь ссылок на книги\n",
    "\n",
    "\n",
    "def process_page_wrapper(nomer_potoka):\n",
    "    with gzip.open('data/part_{:05d}.jsonl.gz'.format(nomer_potoka), mode='wb') as f_json:\n",
    "        f_json = codecs.getwriter('utf8')(f_json)\n",
    "\n",
    "        while not queue.empty():\n",
    "            record = process_page(queue.get())\n",
    "            print(record)\n",
    "            record_str = json.dumps(record, ensure_ascii=False)\n",
    "            print(record_str, file=f_json)\n",
    "\n",
    "            # счетчик должен атомарно обновиться\n",
    "            with lock:\n",
    "                pbar.update(1)\n",
    "\n",
    "\n",
    "with Pool(processes=2) as pool, tqdm(total=queue.qsize()) as pbar:\n",
    "    lock = pbar.get_lock()\n",
    "    pool.map(process_page_wrapper, range(pool._processes))"
   ]
  },
  {
   "cell_type": "code",
   "execution_count": null,
   "metadata": {},
   "outputs": [],
   "source": []
  }
 ],
 "metadata": {
  "kernelspec": {
   "display_name": "Python 3",
   "language": "python",
   "name": "python3"
  },
  "language_info": {
   "codemirror_mode": {
    "name": "ipython",
    "version": 3
   },
   "file_extension": ".py",
   "mimetype": "text/x-python",
   "name": "python",
   "nbconvert_exporter": "python",
   "pygments_lexer": "ipython3",
   "version": "3.7.3"
  }
 },
 "nbformat": 4,
 "nbformat_minor": 2
}
