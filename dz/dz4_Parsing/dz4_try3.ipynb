{
 "cells": [
  {
   "cell_type": "code",
   "execution_count": 13,
   "metadata": {},
   "outputs": [],
   "source": [
    "import requests\n",
    "import re\n",
    "from bs4 import BeautifulSoup\n",
    "from tqdm import tqdm\n",
    "\n",
    "import gzip\n",
    "import json\n",
    "import codecs\n",
    "from multiprocessing.dummy import Pool, Queue"
   ]
  },
  {
   "cell_type": "code",
   "execution_count": 11,
   "metadata": {},
   "outputs": [
    {
     "name": "stderr",
     "output_type": "stream",
     "text": [
      "100%|██████████| 13/13 [00:10<00:00,  1.28it/s]"
     ]
    },
    {
     "name": "stdout",
     "output_type": "stream",
     "text": [
      "312\n",
      "300\n"
     ]
    },
    {
     "name": "stderr",
     "output_type": "stream",
     "text": [
      "\n"
     ]
    }
   ],
   "source": [
    "mas_of_urls=[]\n",
    "for n in tqdm(range(1,14)):\n",
    "    soup = BeautifulSoup(requests.get('https://gg.deals/games/?type=1&page='+str(n)).text, 'lxml')\n",
    "    mas_of_candidats=soup.find_all('a', class_=\"main-image\")\n",
    "    for cand in mas_of_candidats:\n",
    "        tek_url='https://gg.deals' + str(cand['href'])\n",
    "        mas_of_urls.append(tek_url)\n",
    "    \n",
    "print(len(mas_of_urls))\n",
    "mas_of_urls=mas_of_urls[0:300]\n",
    "print(len(mas_of_urls))"
   ]
  },
  {
   "cell_type": "code",
   "execution_count": 91,
   "metadata": {},
   "outputs": [],
   "source": [
    "def get_user_score(soup):\n",
    "    otv=soup.find('a', class_=\"score-circle score-userscore\")\n",
    "    if otv is not None:\n",
    "        otv=otv.find(\"span\",class_=\"overlay\")\n",
    "        if otv is not None:\n",
    "            otv=float(otv.text)\n",
    "    return otv\n",
    "\n",
    "def get_review_label(soup):\n",
    "    otv=soup.find('span', class_=\"reviews-label\")\n",
    "    if otv is not None:\n",
    "        otv=re.sub(r'[\\d (),]','',otv.text)\n",
    "    return otv\n",
    "\n",
    "def get_review_positive_pctg(soup):\n",
    "    otv=soup.find('span', class_=\"reviews-label\")\n",
    "    if otv is not None:\n",
    "        otv=int(otv['title'][0:2])\n",
    "    return otv\n",
    "\n",
    "def get_review_count(soup):\n",
    "    otv=soup.find('span', class_=\"reviews-label\")\n",
    "    if otv is not None:\n",
    "        otv=otv.find(\"span\",class_=\"semi-transparent\")\n",
    "        if otv is not None:\n",
    "            otv=int(re.sub(r'[,-.]', '',otv.text.strip().strip(\"()\")))\n",
    "    return otv\n",
    "\n",
    "\n",
    "def get_dlcs(soup):\n",
    "    tmp=soup.find('section', id='game-dlcs')\n",
    "    if tmp is not None:\n",
    "        tmp=tmp.find_all('a', attrs={'class':'full-link', 'href':True})\n",
    "    otv=[x['href'] for x in tmp]\n",
    "    link_more=soup.find('div', class_='list-show-more')\n",
    "    if link_more is not None:\n",
    "        link_more=link_more.find('a')['data-url']\n",
    "        if link_more is not None:\n",
    "            headers={'x-requested-with':'XMLHttpRequest'}\n",
    "            dop_soup=BeautifulSoup(requests.get('https://gg.deals' + link_more,headers=headers).text, 'lxml')\n",
    "            dop_tmp=dop_soup.find_all('a', attrs={'class':'full-link', 'href':True})\n",
    "            for x in dop_tmp:\n",
    "                otv.append(x['href'])\n",
    "    return otv\n",
    "    \n",
    "\n",
    "\n",
    "def process_page(url):\n",
    "    soup=BeautifulSoup(requests.get(url).text, 'lxml')\n",
    "    my_dict={}\n",
    "    \n",
    "    my_dict['url']=url\n",
    "    my_dict['name']=soup.find_all('span', itemprop='name')[3].text\n",
    "    \n",
    "    my_dict['img']=soup.find('img',class_=\"image-game\")['src']\n",
    "    my_dict['market_url']=requests.get(soup.find_all('a',class_=\"game-link-widget\")[0]['href']).url\n",
    "    \n",
    "    my_dict['wishlist_count']=int(soup.find_all('span',class_=\"user-count\")[0].find(\"span\",class_='count').text)\n",
    "    my_dict['alert_count']=int(soup.find_all('span',class_=\"user-count\")[2].find(\"span\",class_='count').text)\n",
    "    my_dict['owners_count']=int(soup.find_all('span',class_=\"user-count\")[4].find(\"span\",class_='count').text)\n",
    "    \n",
    "    my_dict['release_date']=soup.find('div', class_=\"game-info-details-section game-info-details-section-release\").find(\"p\", class_=\"game-info-details-content\").text\n",
    "    my_dict['developer']=soup.find('div', class_=\"game-info-details-section game-info-details-section-developer\").find(\"p\", class_=\"game-info-details-content\").text\n",
    "    my_dict['metacritic_score']=int(soup.find('a', class_=\"score-circle score-metascore\").find(\"span\",class_=\"overlay\").text)\n",
    "    \n",
    "    if get_user_score(soup)is not None:\n",
    "        my_dict['user_score']=get_user_score(soup)\n",
    "    if get_review_label(soup) is not None:\n",
    "        my_dict['review_label']=get_review_label(soup)\n",
    "    if get_review_positive_pctg(soup) is not None:\n",
    "        my_dict['review_positive_pctg']=get_review_positive_pctg(soup)\n",
    "    if get_review_count(soup) is not None:\n",
    "        my_dict['review_count']=get_review_count(soup)\n",
    "    \n",
    "    my_dict['genres']=[x.text for x in soup.find('div', id='game-info-genres').find_all('a', class_='badge')]\n",
    "    my_dict['tags']=[x.text for x in soup.find('div', id='game-info-tags').find_all('a', class_='badge')]\n",
    "    my_dict['features']=[x.text for x in soup.find('div', id='game-info-features').find_all('a', class_='badge')]\n",
    "    \n",
    "    my_dict['pc_systems']=[x.text for x in soup.find('div', class_='game-requirements-tabs').find_all('a')]\n",
    "    \n",
    "    if get_dlcs(soup) is not None:\n",
    "        my_dict['dlcs']=get_dlcs(soup)\n",
    "    \n",
    "    \n",
    "    return my_dict"
   ]
  },
  {
   "cell_type": "code",
   "execution_count": 92,
   "metadata": {},
   "outputs": [
    {
     "data": {
      "text/plain": [
       "{'url': 'https://gg.deals/game/nier-replicant-ver122474487139/',\n",
       " 'name': 'NieR Replicant ver.1.22474487139...',\n",
       " 'img': 'https://img.gg.deals/24/a3/f2faeb72a2615d368c87c8bbb0e328e00532_307xt176.jpg',\n",
       " 'market_url': 'https://store.steampowered.com/app/1113560/',\n",
       " 'wishlist_count': 3521,\n",
       " 'alert_count': 387,\n",
       " 'owners_count': 245,\n",
       " 'release_date': '23 Apr 2021',\n",
       " 'developer': 'Square Enix, Toylogic Inc.',\n",
       " 'metacritic_score': 79,\n",
       " 'genres': ['Action', 'Adventure', 'RPG'],\n",
       " 'tags': ['Action',\n",
       "  'Action RPG',\n",
       "  'Adventure',\n",
       "  'Anime',\n",
       "  'Atmospheric',\n",
       "  'Bullet Hell',\n",
       "  'Character Action Game',\n",
       "  'Cult Classic',\n",
       "  'Dark Fantasy',\n",
       "  'Dark Humor',\n",
       "  'Great Soundtrack',\n",
       "  'Hack and Slash',\n",
       "  'JRPG',\n",
       "  'Magic',\n",
       "  'Nudity',\n",
       "  'Post-apocalyptic',\n",
       "  'RPG',\n",
       "  'Singleplayer',\n",
       "  'Story Rich',\n",
       "  'Violent'],\n",
       " 'features': ['Partial Controller Support',\n",
       "  'Single-player',\n",
       "  'Steam Achievements'],\n",
       " 'pc_systems': ['Windows'],\n",
       " 'dlcs': ['/ru/dlc/nier-replicant-4-yorha/']}"
      ]
     },
     "execution_count": 92,
     "metadata": {},
     "output_type": "execute_result"
    }
   ],
   "source": [
    "mm=process_page(mas_of_urls[0])\n",
    "mm"
   ]
  },
  {
   "cell_type": "code",
   "execution_count": 73,
   "metadata": {},
   "outputs": [
    {
     "name": "stderr",
     "output_type": "stream",
     "text": [
      "  1%|          | 2/300 [00:01<05:29,  1.11s/it]"
     ]
    },
    {
     "name": "stdout",
     "output_type": "stream",
     "text": [
      "{'url': 'https://gg.deals/game/nier-replicant-ver122474487139/', 'name': 'NieR Replicant ver.1.22474487139...', 'img': 'https://img.gg.deals/24/a3/f2faeb72a2615d368c87c8bbb0e328e00532_307xt176.jpg', 'market_url': ('https://store.steampowered.com/app/1113560/',), 'wishlist_count': (3521,), 'alert_count': (386,), 'owners_count': (245,), 'release_date': ('23 Apr 2021',), 'developer': ('Square Enix, Toylogic Inc.',), 'metacritic_score': (79,), 'genres': (['Action', 'Adventure', 'RPG'],), 'tags': (['Action', 'Action RPG', 'Adventure', 'Anime', 'Atmospheric', 'Bullet Hell', 'Character Action Game', 'Cult Classic', 'Dark Fantasy', 'Dark Humor', 'Great Soundtrack', 'Hack and Slash', 'JRPG', 'Magic', 'Nudity', 'Post-apocalyptic', 'RPG', 'Singleplayer', 'Story Rich', 'Violent'],), 'features': (['Partial Controller Support', 'Single-player', 'Steam Achievements'],), 'pc_systems': ['Windows']}\n",
      "{'url': 'https://gg.deals/game/nioh-complete-edition-complete-edition/', 'name': 'Nioh: Complete Edition / 仁王 Complete Edition', 'img': 'https://img.gg.deals/a7/29/c00a8fffb73144936df9cc3d96e7d60782a0_307xt176.jpg', 'market_url': ('https://store.steampowered.com/app/485510/',), 'wishlist_count': (4315,), 'alert_count': (683,), 'owners_count': (2502,), 'release_date': ('07 Nov 2017',), 'developer': ('KOEI TECMO GAMES CO., LTD.',), 'metacritic_score': (84,), 'genres': (['Action', 'RPG'],), 'tags': (['Souls-like', 'Action', 'RPG', 'Difficult', 'Hack and Slash', 'Dark Fantasy', 'Ninja', 'Third Person', 'Action RPG', 'JRPG', 'Singleplayer', 'Co-op', 'Multiplayer', 'Historical', 'Loot', 'Fantasy', 'Adventure', 'Atmospheric', 'Nudity', 'Great Soundtrack'],), 'features': (['Single-player', 'Online PvP', 'Online Co-op', 'Steam Achievements', 'Full controller support', 'Steam Trading Cards', 'Steam Cloud', 'Stats', 'Steam Leaderboards'],), 'pc_systems': ['Windows']}\n"
     ]
    },
    {
     "name": "stderr",
     "output_type": "stream",
     "text": [
      "  1%|▏         | 4/300 [00:03<04:30,  1.09it/s]"
     ]
    },
    {
     "name": "stdout",
     "output_type": "stream",
     "text": [
      "{'url': 'https://gg.deals/game/styx-master-of-shadows/', 'name': 'Styx: Master of Shadows', 'img': 'https://img.gg.deals/ea/8d/c68bb3c3af1fac80de73a542f4ce73b1de88_307xt176.jpg', 'market_url': ('https://store.steampowered.com/app/242640/',), 'wishlist_count': (948,), 'alert_count': (76,), 'owners_count': (7611,), 'release_date': ('07 Oct 2014',), 'developer': ('Cyanide Studio',), 'metacritic_score': (71,), 'genres': (['Action'],), 'tags': (['Stealth', 'Fantasy', 'Singleplayer', 'Action', 'Adventure', 'Third Person', 'RPG', 'Assassin', 'Parkour', 'Steampunk', 'Dark Fantasy', 'Atmospheric', 'Magic', 'Story Rich', 'Difficult', 'Open World', 'Great Soundtrack', 'Gore', 'Indie', 'Multiplayer'],), 'features': (['Single-player', 'Steam Achievements', 'Full controller support', 'Steam Trading Cards', 'Steam Cloud', 'Remote Play on TV'],), 'pc_systems': ['Windows']}\n",
      "{'url': 'https://gg.deals/game/death-stranding/', 'name': 'DEATH STRANDING', 'img': 'https://img.gg.deals/40/11/e12ed68a19f912ada67ed7c4267ff8431f81_307xt176.jpg', 'market_url': ('https://store.steampowered.com/app/1190460/',), 'wishlist_count': (6199,), 'alert_count': (1052,), 'owners_count': (2011,), 'release_date': ('14 Jul 2020',), 'developer': ('KOJIMA PRODUCTIONS',), 'metacritic_score': (86,), 'genres': (['Action', 'Adventure'],), 'tags': (['Walking Simulator', 'Open World', 'Story Rich', 'Great Soundtrack', 'Atmospheric', 'Post-apocalyptic', 'Cinematic', 'Inventory Management', 'Sci-fi', 'Third Person', 'Adventure', 'Exploration', 'Singleplayer', 'Lore-Rich', 'Surreal', 'Psychological Horror', 'Stealth', 'Action', 'Dark', 'Survival'],), 'features': (['Single-player', 'Steam Achievements', 'Full controller support', 'Steam Cloud'],), 'pc_systems': ['Windows']}\n"
     ]
    },
    {
     "name": "stderr",
     "output_type": "stream",
     "text": [
      "\r",
      "  2%|▏         | 5/300 [00:04<05:20,  1.09s/it]"
     ]
    },
    {
     "name": "stdout",
     "output_type": "stream",
     "text": [
      "{'url': 'https://gg.deals/game/yakuza-like-a-dragon/', 'name': 'Yakuza: Like a Dragon', 'img': 'https://img.gg.deals/45/01/eaa7862b158111b10d09a13ca759d9807307_307xt176.jpg', 'market_url': ('https://store.steampowered.com/app/1235140/',), 'wishlist_count': (3663,), 'alert_count': (459,), 'owners_count': (576,), 'release_date': ('10 Nov 2020',), 'developer': ('Ryu Ga Gotoku Studio',), 'metacritic_score': (83,), 'genres': (['Action', 'Adventure', 'RPG'],), 'tags': (['RPG', 'Adventure', 'Action', 'JRPG', 'Turn-Based Combat', 'Story Rich', 'Turn-Based', 'Singleplayer', 'Violent', 'Sexual Content', 'Funny', 'Crime', 'Open World', 'Great Soundtrack', 'Comedy', 'Minigames', 'Drama', 'Nudity', 'Anime', \"Beat 'em up\"],), 'features': (['Single-player', 'Steam Achievements', 'Full controller support'],), 'pc_systems': ['Windows']}\n"
     ]
    },
    {
     "name": "stderr",
     "output_type": "stream",
     "text": [
      "\r",
      "  2%|▏         | 6/300 [00:05<04:13,  1.16it/s]"
     ]
    },
    {
     "name": "stdout",
     "output_type": "stream",
     "text": [
      "{'url': 'https://gg.deals/game/dirt-rally-2-0/', 'name': 'DiRT Rally 2.0', 'img': 'https://img.gg.deals/b9/fc/1faa5d7e67b28ba74aea8ecfac3575481d0e_307xt176.jpg', 'market_url': ('https://store.steampowered.com/app/690790/',), 'wishlist_count': (865,), 'alert_count': (128,), 'owners_count': (5593,), 'release_date': ('25 Feb 2019',), 'developer': ('Codemasters',), 'metacritic_score': (84,), 'genres': (['Racing', 'Simulation', 'Sports'],), 'tags': (['Racing', 'Simulation', 'Automobile Sim', 'Sports', 'Multiplayer', 'Driving', 'Realistic', 'Offroad', 'VR', 'Singleplayer', 'Difficult', 'First-Person', 'Open World', 'Co-op', '3D Vision', 'Family Friendly', 'TrackIR', 'Controller', 'Adventure', 'Action'],), 'features': (['Single-player', 'Online PvP', 'Steam Achievements', 'Full controller support', 'Steam Cloud', 'Valve Anti-Cheat enabled', 'VR Support', 'Valve Index'],), 'pc_systems': ['Windows']}\n"
     ]
    },
    {
     "name": "stderr",
     "output_type": "stream",
     "text": [
      "\r",
      "  2%|▏         | 7/300 [00:06<05:18,  1.09s/it]"
     ]
    },
    {
     "name": "stdout",
     "output_type": "stream",
     "text": [
      "{'url': 'https://gg.deals/game/call-of-duty-black-ops-cold-war/', 'name': 'Call of Duty: Black Ops Cold War', 'img': 'https://img.gg.deals/f1/85/32d770096f534ee4a6db049fe54cab6312cf_307xt176.jpg', 'market_url': ('https://eu.shop.battle.net/en-us/product/call-of-duty-black-ops-cold-war?p=73929',), 'wishlist_count': (1920,), 'alert_count': (228,), 'owners_count': (57,), 'release_date': ('13 Nov 2020',), 'developer': ('Treyarch, Raven Software',), 'metacritic_score': (77,), 'genres': (['Action'],), 'tags': (['Action', 'Adventure', 'Cold War', 'Controller', 'First-Person', 'FPS', 'Gore', 'Horror', 'Military', 'Multiplayer', 'Shooter', 'Singleplayer', 'Story Rich', 'War', 'Zombies'],), 'features': (['Multi-player', 'Single-player'],), 'pc_systems': ['Windows']}\n"
     ]
    },
    {
     "name": "stderr",
     "output_type": "stream",
     "text": [
      "\r",
      "  3%|▎         | 8/300 [00:08<06:12,  1.27s/it]"
     ]
    },
    {
     "name": "stdout",
     "output_type": "stream",
     "text": [
      "{'url': 'https://gg.deals/game/outriders/', 'name': 'OUTRIDERS', 'img': 'https://img.gg.deals/b8/85/ce85db8fc7ec96b3e1bac6eeadd71fc466a3_307xt176.jpg', 'market_url': ('https://store.steampowered.com/app/680420/',), 'wishlist_count': (2864,), 'alert_count': (326,), 'owners_count': (471,), 'release_date': ('01 Apr 2021',), 'developer': ('People Can Fly',), 'metacritic_score': (76,), 'genres': (['Action', 'Adventure', 'RPG'],), 'tags': (['Action', 'Adventure', 'Character Customization', 'Co-op', 'Female Protagonist', 'Gore', 'Loot', 'Looter Shooter', 'Multiplayer', 'Online Co-Op', 'Open World', 'RPG', 'Sci-fi', 'Shooter', 'Singleplayer', 'Third Person', 'Third-Person Shooter', 'Violent'],), 'features': (['Cross-Platform Multiplayer', 'Full controller support', 'Online Co-op', 'Single-player', 'Steam Achievements', 'Steam Trading Cards'],), 'pc_systems': ['Windows']}\n"
     ]
    },
    {
     "name": "stderr",
     "output_type": "stream",
     "text": [
      "\r",
      "  3%|▎         | 9/300 [00:09<06:17,  1.30s/it]"
     ]
    },
    {
     "name": "stdout",
     "output_type": "stream",
     "text": [
      "{'url': 'https://gg.deals/game/horizon-zero-dawn-complete-edition/', 'name': 'Horizon Zero Dawn Complete Edition', 'img': 'https://img.gg.deals/de/92/244fbb5b7c3e8db7e5b2ef0be90fb8f492fd_307xt176.jpg', 'market_url': ('https://store.steampowered.com/app/1151640/',), 'wishlist_count': (7531,), 'alert_count': (1389,), 'owners_count': (2127,), 'release_date': ('07 Aug 2020',), 'developer': ('Guerrilla',), 'metacritic_score': (84,), 'genres': (['Action', 'Adventure', 'RPG'],), 'tags': (['Adventure', 'Open World', 'Action', 'Female Protagonist', 'RPG', 'Singleplayer', 'Story Rich', 'Post-apocalyptic', 'Robots', 'Sci-fi', 'Exploration', 'Third Person', 'Beautiful', 'Atmospheric', 'Great Soundtrack', 'Action RPG', 'Archery', 'Hunting', 'Dinosaurs', 'Stealth'],), 'features': (['Single-player', 'Steam Achievements', 'Full controller support', 'Steam Cloud', 'Remote Play on Tablet'],), 'pc_systems': ['Windows']}\n"
     ]
    },
    {
     "name": "stderr",
     "output_type": "stream",
     "text": [
      "\r",
      "  3%|▎         | 10/300 [00:11<06:30,  1.35s/it]"
     ]
    },
    {
     "name": "stdout",
     "output_type": "stream",
     "text": [
      "{'url': 'https://gg.deals/game/tekken-7/', 'name': 'TEKKEN 7', 'img': 'https://img.gg.deals/db/7f/9c9c5a85b6a0be5cb9b8353c643fa1c19b6b_307xt176.jpg', 'market_url': ('https://store.steampowered.com/app/389730/',), 'wishlist_count': (2330,), 'alert_count': (242,), 'owners_count': (3008,), 'release_date': ('01 Jun 2017',), 'developer': ('BANDAI NAMCO Studios Inc.',), 'metacritic_score': (82,), 'genres': (['Action', 'Sports'],), 'tags': (['Fighting', 'Action', 'Multiplayer', 'Competitive', 'Arcade', 'Local Multiplayer', 'Sports', 'Great Soundtrack', 'Controller', 'Singleplayer', 'eSports', 'Character Customization', 'Difficult', '3D Fighter', 'Anime', 'Story Rich', \"Beat 'em up\", 'Nudity', 'Third Person', 'Sexual Content'],), 'features': (['Single-player', 'Online PvP', 'Shared/Split Screen PvP', 'Steam Achievements', 'Full controller support', 'Steam Trading Cards', 'Steam Cloud', 'Steam Leaderboards', 'Remote Play on TV', 'Remote Play Together'],), 'pc_systems': ['Windows']}\n"
     ]
    },
    {
     "name": "stderr",
     "output_type": "stream",
     "text": [
      "\r",
      "  4%|▎         | 11/300 [00:12<06:41,  1.39s/it]"
     ]
    },
    {
     "name": "stdout",
     "output_type": "stream",
     "text": [
      "{'url': 'https://gg.deals/game/cyberpunk-2077/', 'name': 'Cyberpunk 2077', 'img': 'https://img.gg.deals/83/fb/798bb3232e497ab2a8082a6e040e94ce0c7e_307xt176.jpg', 'market_url': ('https://store.steampowered.com/app/1091500/',), 'wishlist_count': (10782,), 'alert_count': (2127,), 'owners_count': (4510,), 'release_date': ('09 Dec 2020',), 'developer': ('CD PROJEKT RED',), 'metacritic_score': (85,), 'genres': (['RPG'],), 'tags': (['Cyberpunk', 'Open World', 'RPG', 'Sci-fi', 'Futuristic', 'Singleplayer', 'FPS', 'First-Person', 'Atmospheric', 'Exploration', 'Nudity', 'Story Rich', 'Mature', 'Action', 'Violent', 'Great Soundtrack', 'Action RPG', 'Adventure', 'Immersive Sim', 'Character Customization'],), 'features': (['Single-player', 'Steam Achievements', 'Steam Trading Cards', 'Partial Controller Support', 'Steam Cloud'],), 'pc_systems': ['Windows']}\n"
     ]
    },
    {
     "name": "stderr",
     "output_type": "stream",
     "text": [
      "\r",
      "  4%|▍         | 12/300 [00:14<06:35,  1.37s/it]"
     ]
    },
    {
     "name": "stdout",
     "output_type": "stream",
     "text": [
      "{'url': 'https://gg.deals/game/nioh-2-the-complete-edition/', 'name': 'Nioh 2 - The Complete Edition', 'img': 'https://img.gg.deals/d2/05/48755cc9166cca7dc08ec73ceff46e2d9e86_307xt176.jpg', 'market_url': ('https://store.steampowered.com/app/1325200/',), 'wishlist_count': (2725,), 'alert_count': (360,), 'owners_count': (524,), 'release_date': ('05 Feb 2021',), 'developer': ('KOEI TECMO GAMES CO., LTD.',), 'metacritic_score': (86,), 'genres': (['Action', 'RPG'],), 'tags': (['RPG', 'Action', 'Souls-like', 'JRPG', 'Difficult', 'Co-op', 'Fantasy', 'Multiplayer', 'Story Rich', 'Violent', 'Historical', 'Dark Fantasy', 'Character Customization', 'Singleplayer', 'Dark', 'Medieval', 'Atmospheric', 'Hack and Slash', 'Gore', 'Female Protagonist'],), 'features': (['Single-player', 'Online Co-op', 'Steam Achievements', 'Steam Trading Cards', 'Partial Controller Support', 'Steam Cloud', 'Stats', 'Steam Leaderboards'],), 'pc_systems': ['Windows']}\n"
     ]
    },
    {
     "name": "stderr",
     "output_type": "stream",
     "text": [
      "\r",
      "  4%|▍         | 13/300 [00:15<06:35,  1.38s/it]"
     ]
    },
    {
     "name": "stdout",
     "output_type": "stream",
     "text": [
      "{'url': 'https://gg.deals/game/marvels-avengers/', 'name': \"Marvel's Avengers\", 'img': 'https://img.gg.deals/50/f8/3f1cd008964ed9addf603245b6998e7a3bf9_307xt176.jpg', 'market_url': ('https://store.steampowered.com/app/997070/',), 'wishlist_count': (1975,), 'alert_count': (225,), 'owners_count': (552,), 'release_date': ('04 Sep 2020',), 'developer': ('Crystal Dynamics, Eidos-Montréal, Nixxes',), 'metacritic_score': (68,), 'genres': (['Action', 'Adventure', 'RPG'],), 'tags': (['Action', 'Adventure', 'RPG', 'Superhero', 'Multiplayer', 'Online Co-Op', 'Open World', 'Cinematic', 'Singleplayer', 'Comic Book', 'Third Person', 'Loot', 'Sci-fi', 'Co-op', 'PvE', 'Fantasy', 'Team-Based', 'Combat', 'Story Rich', 'Co-op Campaign'],), 'features': (['Single-player', 'Online Co-op', 'Steam Achievements', 'Full controller support', 'Steam Trading Cards', 'In-App Purchases', 'Steam Cloud', 'Remote Play on Tablet'],), 'pc_systems': ['Windows']}\n"
     ]
    },
    {
     "name": "stderr",
     "output_type": "stream",
     "text": [
      "\n"
     ]
    },
    {
     "ename": "AttributeError",
     "evalue": "'NoneType' object has no attribute 'find'",
     "output_type": "error",
     "traceback": [
      "\u001b[0;31m---------------------------------------------------------------------------\u001b[0m",
      "\u001b[0;31mAttributeError\u001b[0m                            Traceback (most recent call last)",
      "\u001b[0;32m<ipython-input-73-99d80172c212>\u001b[0m in \u001b[0;36m<module>\u001b[0;34m\u001b[0m\n\u001b[1;32m     21\u001b[0m \u001b[0;32mwith\u001b[0m \u001b[0mPool\u001b[0m\u001b[0;34m(\u001b[0m\u001b[0mprocesses\u001b[0m\u001b[0;34m=\u001b[0m\u001b[0;36m2\u001b[0m\u001b[0;34m)\u001b[0m \u001b[0;32mas\u001b[0m \u001b[0mpool\u001b[0m\u001b[0;34m,\u001b[0m \u001b[0mtqdm\u001b[0m\u001b[0;34m(\u001b[0m\u001b[0mtotal\u001b[0m\u001b[0;34m=\u001b[0m\u001b[0mqueue\u001b[0m\u001b[0;34m.\u001b[0m\u001b[0mqsize\u001b[0m\u001b[0;34m(\u001b[0m\u001b[0;34m)\u001b[0m\u001b[0;34m)\u001b[0m \u001b[0;32mas\u001b[0m \u001b[0mpbar\u001b[0m\u001b[0;34m:\u001b[0m\u001b[0;34m\u001b[0m\u001b[0;34m\u001b[0m\u001b[0m\n\u001b[1;32m     22\u001b[0m     \u001b[0mlock\u001b[0m \u001b[0;34m=\u001b[0m \u001b[0mpbar\u001b[0m\u001b[0;34m.\u001b[0m\u001b[0mget_lock\u001b[0m\u001b[0;34m(\u001b[0m\u001b[0;34m)\u001b[0m\u001b[0;34m\u001b[0m\u001b[0;34m\u001b[0m\u001b[0m\n\u001b[0;32m---> 23\u001b[0;31m     \u001b[0mpool\u001b[0m\u001b[0;34m.\u001b[0m\u001b[0mmap\u001b[0m\u001b[0;34m(\u001b[0m\u001b[0mprocess_page_wrapper\u001b[0m\u001b[0;34m,\u001b[0m \u001b[0mrange\u001b[0m\u001b[0;34m(\u001b[0m\u001b[0mpool\u001b[0m\u001b[0;34m.\u001b[0m\u001b[0m_processes\u001b[0m\u001b[0;34m)\u001b[0m\u001b[0;34m)\u001b[0m\u001b[0;34m\u001b[0m\u001b[0;34m\u001b[0m\u001b[0m\n\u001b[0m",
      "\u001b[0;32m~/anaconda3/lib/python3.7/multiprocessing/pool.py\u001b[0m in \u001b[0;36mmap\u001b[0;34m(self, func, iterable, chunksize)\u001b[0m\n\u001b[1;32m    266\u001b[0m         \u001b[0;32min\u001b[0m \u001b[0ma\u001b[0m \u001b[0mlist\u001b[0m \u001b[0mthat\u001b[0m \u001b[0;32mis\u001b[0m \u001b[0mreturned\u001b[0m\u001b[0;34m.\u001b[0m\u001b[0;34m\u001b[0m\u001b[0;34m\u001b[0m\u001b[0m\n\u001b[1;32m    267\u001b[0m         '''\n\u001b[0;32m--> 268\u001b[0;31m         \u001b[0;32mreturn\u001b[0m \u001b[0mself\u001b[0m\u001b[0;34m.\u001b[0m\u001b[0m_map_async\u001b[0m\u001b[0;34m(\u001b[0m\u001b[0mfunc\u001b[0m\u001b[0;34m,\u001b[0m \u001b[0miterable\u001b[0m\u001b[0;34m,\u001b[0m \u001b[0mmapstar\u001b[0m\u001b[0;34m,\u001b[0m \u001b[0mchunksize\u001b[0m\u001b[0;34m)\u001b[0m\u001b[0;34m.\u001b[0m\u001b[0mget\u001b[0m\u001b[0;34m(\u001b[0m\u001b[0;34m)\u001b[0m\u001b[0;34m\u001b[0m\u001b[0;34m\u001b[0m\u001b[0m\n\u001b[0m\u001b[1;32m    269\u001b[0m \u001b[0;34m\u001b[0m\u001b[0m\n\u001b[1;32m    270\u001b[0m     \u001b[0;32mdef\u001b[0m \u001b[0mstarmap\u001b[0m\u001b[0;34m(\u001b[0m\u001b[0mself\u001b[0m\u001b[0;34m,\u001b[0m \u001b[0mfunc\u001b[0m\u001b[0;34m,\u001b[0m \u001b[0miterable\u001b[0m\u001b[0;34m,\u001b[0m \u001b[0mchunksize\u001b[0m\u001b[0;34m=\u001b[0m\u001b[0;32mNone\u001b[0m\u001b[0;34m)\u001b[0m\u001b[0;34m:\u001b[0m\u001b[0;34m\u001b[0m\u001b[0;34m\u001b[0m\u001b[0m\n",
      "\u001b[0;32m~/anaconda3/lib/python3.7/multiprocessing/pool.py\u001b[0m in \u001b[0;36mget\u001b[0;34m(self, timeout)\u001b[0m\n\u001b[1;32m    655\u001b[0m             \u001b[0;32mreturn\u001b[0m \u001b[0mself\u001b[0m\u001b[0;34m.\u001b[0m\u001b[0m_value\u001b[0m\u001b[0;34m\u001b[0m\u001b[0;34m\u001b[0m\u001b[0m\n\u001b[1;32m    656\u001b[0m         \u001b[0;32melse\u001b[0m\u001b[0;34m:\u001b[0m\u001b[0;34m\u001b[0m\u001b[0;34m\u001b[0m\u001b[0m\n\u001b[0;32m--> 657\u001b[0;31m             \u001b[0;32mraise\u001b[0m \u001b[0mself\u001b[0m\u001b[0;34m.\u001b[0m\u001b[0m_value\u001b[0m\u001b[0;34m\u001b[0m\u001b[0;34m\u001b[0m\u001b[0m\n\u001b[0m\u001b[1;32m    658\u001b[0m \u001b[0;34m\u001b[0m\u001b[0m\n\u001b[1;32m    659\u001b[0m     \u001b[0;32mdef\u001b[0m \u001b[0m_set\u001b[0m\u001b[0;34m(\u001b[0m\u001b[0mself\u001b[0m\u001b[0;34m,\u001b[0m \u001b[0mi\u001b[0m\u001b[0;34m,\u001b[0m \u001b[0mobj\u001b[0m\u001b[0;34m)\u001b[0m\u001b[0;34m:\u001b[0m\u001b[0;34m\u001b[0m\u001b[0;34m\u001b[0m\u001b[0m\n",
      "\u001b[0;32m~/anaconda3/lib/python3.7/multiprocessing/pool.py\u001b[0m in \u001b[0;36mworker\u001b[0;34m(inqueue, outqueue, initializer, initargs, maxtasks, wrap_exception)\u001b[0m\n\u001b[1;32m    119\u001b[0m         \u001b[0mjob\u001b[0m\u001b[0;34m,\u001b[0m \u001b[0mi\u001b[0m\u001b[0;34m,\u001b[0m \u001b[0mfunc\u001b[0m\u001b[0;34m,\u001b[0m \u001b[0margs\u001b[0m\u001b[0;34m,\u001b[0m \u001b[0mkwds\u001b[0m \u001b[0;34m=\u001b[0m \u001b[0mtask\u001b[0m\u001b[0;34m\u001b[0m\u001b[0;34m\u001b[0m\u001b[0m\n\u001b[1;32m    120\u001b[0m         \u001b[0;32mtry\u001b[0m\u001b[0;34m:\u001b[0m\u001b[0;34m\u001b[0m\u001b[0;34m\u001b[0m\u001b[0m\n\u001b[0;32m--> 121\u001b[0;31m             \u001b[0mresult\u001b[0m \u001b[0;34m=\u001b[0m \u001b[0;34m(\u001b[0m\u001b[0;32mTrue\u001b[0m\u001b[0;34m,\u001b[0m \u001b[0mfunc\u001b[0m\u001b[0;34m(\u001b[0m\u001b[0;34m*\u001b[0m\u001b[0margs\u001b[0m\u001b[0;34m,\u001b[0m \u001b[0;34m**\u001b[0m\u001b[0mkwds\u001b[0m\u001b[0;34m)\u001b[0m\u001b[0;34m)\u001b[0m\u001b[0;34m\u001b[0m\u001b[0;34m\u001b[0m\u001b[0m\n\u001b[0m\u001b[1;32m    122\u001b[0m         \u001b[0;32mexcept\u001b[0m \u001b[0mException\u001b[0m \u001b[0;32mas\u001b[0m \u001b[0me\u001b[0m\u001b[0;34m:\u001b[0m\u001b[0;34m\u001b[0m\u001b[0;34m\u001b[0m\u001b[0m\n\u001b[1;32m    123\u001b[0m             \u001b[0;32mif\u001b[0m \u001b[0mwrap_exception\u001b[0m \u001b[0;32mand\u001b[0m \u001b[0mfunc\u001b[0m \u001b[0;32mis\u001b[0m \u001b[0;32mnot\u001b[0m \u001b[0m_helper_reraises_exception\u001b[0m\u001b[0;34m:\u001b[0m\u001b[0;34m\u001b[0m\u001b[0;34m\u001b[0m\u001b[0m\n",
      "\u001b[0;32m~/anaconda3/lib/python3.7/multiprocessing/pool.py\u001b[0m in \u001b[0;36mmapstar\u001b[0;34m(args)\u001b[0m\n\u001b[1;32m     42\u001b[0m \u001b[0;34m\u001b[0m\u001b[0m\n\u001b[1;32m     43\u001b[0m \u001b[0;32mdef\u001b[0m \u001b[0mmapstar\u001b[0m\u001b[0;34m(\u001b[0m\u001b[0margs\u001b[0m\u001b[0;34m)\u001b[0m\u001b[0;34m:\u001b[0m\u001b[0;34m\u001b[0m\u001b[0;34m\u001b[0m\u001b[0m\n\u001b[0;32m---> 44\u001b[0;31m     \u001b[0;32mreturn\u001b[0m \u001b[0mlist\u001b[0m\u001b[0;34m(\u001b[0m\u001b[0mmap\u001b[0m\u001b[0;34m(\u001b[0m\u001b[0;34m*\u001b[0m\u001b[0margs\u001b[0m\u001b[0;34m)\u001b[0m\u001b[0;34m)\u001b[0m\u001b[0;34m\u001b[0m\u001b[0;34m\u001b[0m\u001b[0m\n\u001b[0m\u001b[1;32m     45\u001b[0m \u001b[0;34m\u001b[0m\u001b[0m\n\u001b[1;32m     46\u001b[0m \u001b[0;32mdef\u001b[0m \u001b[0mstarmapstar\u001b[0m\u001b[0;34m(\u001b[0m\u001b[0margs\u001b[0m\u001b[0;34m)\u001b[0m\u001b[0;34m:\u001b[0m\u001b[0;34m\u001b[0m\u001b[0;34m\u001b[0m\u001b[0m\n",
      "\u001b[0;32m<ipython-input-73-99d80172c212>\u001b[0m in \u001b[0;36mprocess_page_wrapper\u001b[0;34m(nomer_potoka)\u001b[0m\n\u001b[1;32m      9\u001b[0m \u001b[0;34m\u001b[0m\u001b[0m\n\u001b[1;32m     10\u001b[0m         \u001b[0;32mwhile\u001b[0m \u001b[0;32mnot\u001b[0m \u001b[0mqueue\u001b[0m\u001b[0;34m.\u001b[0m\u001b[0mempty\u001b[0m\u001b[0;34m(\u001b[0m\u001b[0;34m)\u001b[0m\u001b[0;34m:\u001b[0m\u001b[0;34m\u001b[0m\u001b[0;34m\u001b[0m\u001b[0m\n\u001b[0;32m---> 11\u001b[0;31m             \u001b[0mrecord\u001b[0m \u001b[0;34m=\u001b[0m \u001b[0mprocess_page\u001b[0m\u001b[0;34m(\u001b[0m\u001b[0mqueue\u001b[0m\u001b[0;34m.\u001b[0m\u001b[0mget\u001b[0m\u001b[0;34m(\u001b[0m\u001b[0;34m)\u001b[0m\u001b[0;34m)\u001b[0m\u001b[0;34m\u001b[0m\u001b[0;34m\u001b[0m\u001b[0m\n\u001b[0m\u001b[1;32m     12\u001b[0m             \u001b[0mprint\u001b[0m\u001b[0;34m(\u001b[0m\u001b[0mrecord\u001b[0m\u001b[0;34m)\u001b[0m\u001b[0;34m\u001b[0m\u001b[0;34m\u001b[0m\u001b[0m\n\u001b[1;32m     13\u001b[0m             \u001b[0mrecord_str\u001b[0m \u001b[0;34m=\u001b[0m \u001b[0mjson\u001b[0m\u001b[0;34m.\u001b[0m\u001b[0mdumps\u001b[0m\u001b[0;34m(\u001b[0m\u001b[0mrecord\u001b[0m\u001b[0;34m,\u001b[0m \u001b[0mensure_ascii\u001b[0m\u001b[0;34m=\u001b[0m\u001b[0;32mFalse\u001b[0m\u001b[0;34m)\u001b[0m\u001b[0;34m\u001b[0m\u001b[0;34m\u001b[0m\u001b[0m\n",
      "\u001b[0;32m<ipython-input-70-cc56e02a7528>\u001b[0m in \u001b[0;36mprocess_page\u001b[0;34m(url)\u001b[0m\n\u001b[1;32m     15\u001b[0m     \u001b[0mmy_dict\u001b[0m\u001b[0;34m[\u001b[0m\u001b[0;34m'release_date'\u001b[0m\u001b[0;34m]\u001b[0m\u001b[0;34m=\u001b[0m\u001b[0msoup\u001b[0m\u001b[0;34m.\u001b[0m\u001b[0mfind\u001b[0m\u001b[0;34m(\u001b[0m\u001b[0;34m'div'\u001b[0m\u001b[0;34m,\u001b[0m \u001b[0mclass_\u001b[0m\u001b[0;34m=\u001b[0m\u001b[0;34m\"game-info-details-section game-info-details-section-release\"\u001b[0m\u001b[0;34m)\u001b[0m\u001b[0;34m.\u001b[0m\u001b[0mfind\u001b[0m\u001b[0;34m(\u001b[0m\u001b[0;34m\"p\"\u001b[0m\u001b[0;34m,\u001b[0m \u001b[0mclass_\u001b[0m\u001b[0;34m=\u001b[0m\u001b[0;34m\"game-info-details-content\"\u001b[0m\u001b[0;34m)\u001b[0m\u001b[0;34m.\u001b[0m\u001b[0mtext\u001b[0m\u001b[0;34m,\u001b[0m\u001b[0;34m\u001b[0m\u001b[0;34m\u001b[0m\u001b[0m\n\u001b[1;32m     16\u001b[0m     \u001b[0mmy_dict\u001b[0m\u001b[0;34m[\u001b[0m\u001b[0;34m'developer'\u001b[0m\u001b[0;34m]\u001b[0m\u001b[0;34m=\u001b[0m\u001b[0msoup\u001b[0m\u001b[0;34m.\u001b[0m\u001b[0mfind\u001b[0m\u001b[0;34m(\u001b[0m\u001b[0;34m'div'\u001b[0m\u001b[0;34m,\u001b[0m \u001b[0mclass_\u001b[0m\u001b[0;34m=\u001b[0m\u001b[0;34m\"game-info-details-section game-info-details-section-developer\"\u001b[0m\u001b[0;34m)\u001b[0m\u001b[0;34m.\u001b[0m\u001b[0mfind\u001b[0m\u001b[0;34m(\u001b[0m\u001b[0;34m\"p\"\u001b[0m\u001b[0;34m,\u001b[0m \u001b[0mclass_\u001b[0m\u001b[0;34m=\u001b[0m\u001b[0;34m\"game-info-details-content\"\u001b[0m\u001b[0;34m)\u001b[0m\u001b[0;34m.\u001b[0m\u001b[0mtext\u001b[0m\u001b[0;34m,\u001b[0m\u001b[0;34m\u001b[0m\u001b[0;34m\u001b[0m\u001b[0m\n\u001b[0;32m---> 17\u001b[0;31m     \u001b[0mmy_dict\u001b[0m\u001b[0;34m[\u001b[0m\u001b[0;34m'metacritic_score'\u001b[0m\u001b[0;34m]\u001b[0m\u001b[0;34m=\u001b[0m\u001b[0mint\u001b[0m\u001b[0;34m(\u001b[0m\u001b[0msoup\u001b[0m\u001b[0;34m.\u001b[0m\u001b[0mfind\u001b[0m\u001b[0;34m(\u001b[0m\u001b[0;34m'a'\u001b[0m\u001b[0;34m,\u001b[0m \u001b[0mclass_\u001b[0m\u001b[0;34m=\u001b[0m\u001b[0;34m\"score-circle score-metascore\"\u001b[0m\u001b[0;34m)\u001b[0m\u001b[0;34m.\u001b[0m\u001b[0mfind\u001b[0m\u001b[0;34m(\u001b[0m\u001b[0;34m\"span\"\u001b[0m\u001b[0;34m,\u001b[0m\u001b[0mclass_\u001b[0m\u001b[0;34m=\u001b[0m\u001b[0;34m\"overlay\"\u001b[0m\u001b[0;34m)\u001b[0m\u001b[0;34m.\u001b[0m\u001b[0mtext\u001b[0m\u001b[0;34m)\u001b[0m\u001b[0;34m,\u001b[0m\u001b[0;34m\u001b[0m\u001b[0;34m\u001b[0m\u001b[0m\n\u001b[0m\u001b[1;32m     18\u001b[0m \u001b[0;34m\u001b[0m\u001b[0m\n\u001b[1;32m     19\u001b[0m     \u001b[0mmy_dict\u001b[0m\u001b[0;34m[\u001b[0m\u001b[0;34m'genres'\u001b[0m\u001b[0;34m]\u001b[0m\u001b[0;34m=\u001b[0m\u001b[0;34m[\u001b[0m\u001b[0mx\u001b[0m\u001b[0;34m.\u001b[0m\u001b[0mtext\u001b[0m \u001b[0;32mfor\u001b[0m \u001b[0mx\u001b[0m \u001b[0;32min\u001b[0m \u001b[0msoup\u001b[0m\u001b[0;34m.\u001b[0m\u001b[0mfind\u001b[0m\u001b[0;34m(\u001b[0m\u001b[0;34m'div'\u001b[0m\u001b[0;34m,\u001b[0m \u001b[0mid\u001b[0m\u001b[0;34m=\u001b[0m\u001b[0;34m'game-info-genres'\u001b[0m\u001b[0;34m)\u001b[0m\u001b[0;34m.\u001b[0m\u001b[0mfind_all\u001b[0m\u001b[0;34m(\u001b[0m\u001b[0;34m'a'\u001b[0m\u001b[0;34m,\u001b[0m \u001b[0mclass_\u001b[0m\u001b[0;34m=\u001b[0m\u001b[0;34m'badge'\u001b[0m\u001b[0;34m)\u001b[0m\u001b[0;34m]\u001b[0m\u001b[0;34m,\u001b[0m\u001b[0;34m\u001b[0m\u001b[0;34m\u001b[0m\u001b[0m\n",
      "\u001b[0;31mAttributeError\u001b[0m: 'NoneType' object has no attribute 'find'"
     ]
    }
   ],
   "source": [
    "queue = Queue()\n",
    "for el in mas_of_urls:\n",
    "    queue.put(el)  # очередь ссылок на книги\n",
    "\n",
    "\n",
    "def process_page_wrapper(nomer_potoka):\n",
    "    with gzip.open('data/part_{:05d}.jsonl.gz'.format(nomer_potoka), mode='wb') as f_json:\n",
    "        f_json = codecs.getwriter('utf8')(f_json)\n",
    "\n",
    "        while not queue.empty():\n",
    "            record = process_page(queue.get())\n",
    "            print(record)\n",
    "            record_str = json.dumps(record, ensure_ascii=False)\n",
    "            print(record_str, file=f_json)\n",
    "\n",
    "            # счетчик должен атомарно обновиться\n",
    "            with lock:\n",
    "                pbar.update(1)\n",
    "\n",
    "\n",
    "with Pool(processes=2) as pool, tqdm(total=queue.qsize()) as pbar:\n",
    "    lock = pbar.get_lock()\n",
    "    pool.map(process_page_wrapper, range(pool._processes))"
   ]
  },
  {
   "cell_type": "code",
   "execution_count": null,
   "metadata": {},
   "outputs": [],
   "source": []
  },
  {
   "cell_type": "code",
   "execution_count": 40,
   "metadata": {},
   "outputs": [],
   "source": [
    "def process_pageOld(url):\n",
    "    soup=BeautifulSoup(requests.get(url).text, 'lxml')\n",
    "    my_dict={\n",
    "            'url':url,\n",
    "            'name':soup.find_all('span', itemprop='name')[3].text,\n",
    "        \n",
    "            'img':soup.find('img',class_=\"image-game\")['src'],\n",
    "            'market_url':requests.get(soup.find_all('a',class_=\"game-link-widget\")[0]['href']).url,\n",
    "        \n",
    "            'wishlist_count':int(soup.find_all('span',class_=\"user-count\")[0].find(\"span\",class_='count').text),\n",
    "            'alert_count':int(soup.find_all('span',class_=\"user-count\")[2].find(\"span\",class_='count').text),\n",
    "            'owners_count':int(soup.find_all('span',class_=\"user-count\")[4].find(\"span\",class_='count').text),\n",
    "        \n",
    "            'release_date':soup.find('div', class_=\"game-info-details-section game-info-details-section-release\").find(\"p\", class_=\"game-info-details-content\").text,\n",
    "            'developer':soup.find('div', class_=\"game-info-details-section game-info-details-section-developer\").find(\"p\", class_=\"game-info-details-content\").text,\n",
    "            'metacritic_score':int(soup.find('a', class_=\"score-circle score-metascore\").find(\"span\",class_=\"overlay\").text),\n",
    "            #'user_score': float(soup.find('a', class_=\"score-circle score-userscore\").find(\"span\",class_=\"overlay\").text),\n",
    "            #'review_label':re.sub(r'[\\d (),]','', soup.find('span', class_=\"reviews-label\").text),\n",
    "            #'review_positive_pctg': int(soup.find('span', class_=\"reviews-label\")['title'][0:2]),\n",
    "            #'review_count':int(re.sub(r'[,-.]', '',soup.find('span', class_=\"reviews-label\").find(\"span\",class_=\"semi-transparent\").text.strip().strip(\"()\"))),\n",
    "            'genres':[x.text for x in soup.find('div', id='game-info-genres').find_all('a', class_='badge')],\n",
    "            'tags': [x.text for x in soup.find('div', id='game-info-tags').find_all('a', class_='badge')],\n",
    "            'features':[x.text for x in soup.find('div', id='game-info-features').find_all('a', class_='badge')],\n",
    "        \n",
    "            'pc_systems':[x.text for x in soup.find('div', class_='game-requirements-tabs').find_all('a')],\n",
    "            'dlcs':['https://gg.deals'+x['href'] for x in soup.find('section', id='game-dlcs').find_all('a', class_='game-info-title')]\n",
    "            \n",
    "        \n",
    "    }\n",
    "    return my_dict"
   ]
  },
  {
   "cell_type": "code",
   "execution_count": null,
   "metadata": {},
   "outputs": [],
   "source": []
  },
  {
   "cell_type": "code",
   "execution_count": null,
   "metadata": {},
   "outputs": [],
   "source": []
  },
  {
   "cell_type": "code",
   "execution_count": null,
   "metadata": {},
   "outputs": [],
   "source": []
  },
  {
   "cell_type": "code",
   "execution_count": 93,
   "metadata": {},
   "outputs": [
    {
     "name": "stdout",
     "output_type": "stream",
     "text": [
      "https://gg.deals/game/nier-replicant-ver122474487139/\n"
     ]
    },
    {
     "data": {
      "text/plain": [
       "['/ru/dlc/tricky-towers-indie-friends-pack/',\n",
       " '/ru/dlc/tricky-towers-spirit-animal-pack/',\n",
       " '/ru/dlc/tricky-towers-galaxy-bricks/',\n",
       " '/ru/dlc/tricky-towers-candy-bricks/',\n",
       " '/ru/dlc/tricky-towers-gem-bricks/',\n",
       " '/ru/dlc/tricky-towers-holographic-bricks/',\n",
       " '/ru/dlc/tricky-towers-original-soundtrack/']"
      ]
     },
     "execution_count": 93,
     "metadata": {},
     "output_type": "execute_result"
    }
   ],
   "source": [
    "u=mas_of_urls[0]\n",
    "print(u)\n",
    "s=BeautifulSoup(requests.get('https://gg.deals/game/tricky-towers/').text, 'lxml')\n",
    "get_dlcs(s)"
   ]
  },
  {
   "cell_type": "code",
   "execution_count": 26,
   "metadata": {},
   "outputs": [],
   "source": [
    "mm=process_page('https://gg.deals/game/nier-replicant-ver122474487139/')"
   ]
  },
  {
   "cell_type": "code",
   "execution_count": 27,
   "metadata": {},
   "outputs": [
    {
     "data": {
      "text/plain": [
       "{'url': 'https://gg.deals/game/nier-replicant-ver122474487139/'}"
      ]
     },
     "execution_count": 27,
     "metadata": {},
     "output_type": "execute_result"
    }
   ],
   "source": [
    "mm"
   ]
  },
  {
   "cell_type": "code",
   "execution_count": 55,
   "metadata": {},
   "outputs": [
    {
     "data": {
      "text/plain": [
       "'https://gg.deals/ru/games/relations/21937/?type=dlc&offset=4&hideKeyshops=0'"
      ]
     },
     "execution_count": 55,
     "metadata": {},
     "output_type": "execute_result"
    }
   ],
   "source": [
    "headers={'x-requested-with':'XMLHttpRequest'}\n",
    "requests.get('https://gg.deals/ru/games/relations/21937/?type=dlc&offset=4&hideKeyshops=0',headers=headers).url"
   ]
  },
  {
   "cell_type": "code",
   "execution_count": null,
   "metadata": {},
   "outputs": [],
   "source": []
  },
  {
   "cell_type": "code",
   "execution_count": 57,
   "metadata": {},
   "outputs": [],
   "source": [
    "soup=BeautifulSoup(requests.get('https://gg.deals/game/tricky-towers/').text, 'lxml')"
   ]
  },
  {
   "cell_type": "code",
   "execution_count": 58,
   "metadata": {},
   "outputs": [
    {
     "data": {
      "text/plain": [
       "['/ru/redirect/2a8957805c99632e75cf1a2b18826629773e0355/?utm_source=games%2Fsingle',\n",
       " '/ru/redirect/083d41787a5cb792387352921b337df85a8bb740/?utm_source=games%2Fsingle',\n",
       " '/ru/redirect/78ad462d83243125a2fecc68de4a60c2ab745c5a/?utm_source=games%2Fsingle',\n",
       " '/ru/redirect/99a8293924e9b331203da10130580e3ba0569f8c/?utm_source=games%2Fsingle',\n",
       " '/ru/redirect/8c03a460f74138ee156aef21c750b64e3e227309/?utm_source=games%2Fsingle',\n",
       " '/ru/redirect/c217df75baf6c0896dd8b3e2b60a2489e8d650d5/?utm_source=games%2Fsingle',\n",
       " '#',\n",
       " '#',\n",
       " '#',\n",
       " '#',\n",
       " '/ru/dlc/tricky-towers-indie-friends-pack/',\n",
       " '/ru/dlc/tricky-towers-spirit-animal-pack/',\n",
       " '/ru/dlc/tricky-towers-galaxy-bricks/',\n",
       " '/ru/dlc/tricky-towers-candy-bricks/',\n",
       " '/game/pummel-party/',\n",
       " '/game/gang-beasts/',\n",
       " '/game/fall-guys-ultimate-knockout/',\n",
       " '/game/among-us/',\n",
       " '/game/the-jackbox-party-pack-7/',\n",
       " '/game/stick-fight-the-game/',\n",
       " '/game/overcooked-2/',\n",
       " '/game/overcooked-all-you-can-eat/']"
      ]
     },
     "execution_count": 58,
     "metadata": {},
     "output_type": "execute_result"
    }
   ],
   "source": [
    "[x['href'] for x in soup.find_all('a', attrs={'class':'full-link', 'href':True})]"
   ]
  },
  {
   "cell_type": "code",
   "execution_count": null,
   "metadata": {},
   "outputs": [],
   "source": []
  },
  {
   "cell_type": "code",
   "execution_count": 62,
   "metadata": {},
   "outputs": [
    {
     "data": {
      "text/plain": [
       "['/ru/dlc/tricky-towers-indie-friends-pack/',\n",
       " '/ru/dlc/tricky-towers-spirit-animal-pack/',\n",
       " '/ru/dlc/tricky-towers-galaxy-bricks/',\n",
       " '/ru/dlc/tricky-towers-candy-bricks/']"
      ]
     },
     "execution_count": 62,
     "metadata": {},
     "output_type": "execute_result"
    }
   ],
   "source": [
    "[x['href'] for x in soup.find('section', id='game-dlcs').find_all('a', attrs={'class':'full-link', 'href':True})]"
   ]
  },
  {
   "cell_type": "code",
   "execution_count": 68,
   "metadata": {},
   "outputs": [],
   "source": [
    "link_more=soup.find('div', class_='list-show-more').find('a')['data-url']"
   ]
  },
  {
   "cell_type": "code",
   "execution_count": 69,
   "metadata": {},
   "outputs": [
    {
     "data": {
      "text/plain": [
       "[<a class=\"full-link\" href=\"/ru/dlc/tricky-towers-gem-bricks/\"></a>,\n",
       " <a class=\"full-link\" href=\"/ru/dlc/tricky-towers-holographic-bricks/\"></a>,\n",
       " <a class=\"full-link\" href=\"/ru/dlc/tricky-towers-original-soundtrack/\"></a>]"
      ]
     },
     "execution_count": 69,
     "metadata": {},
     "output_type": "execute_result"
    }
   ],
   "source": [
    "page = requests.get('https://gg.deals' + link_more,headers=headers)\n",
    "game_html=page.text\n",
    "soup = BeautifulSoup(game_html, 'lxml')\n",
    "soup.find_all('a', attrs={'class':'full-link', 'href':True})"
   ]
  },
  {
   "cell_type": "code",
   "execution_count": 95,
   "metadata": {},
   "outputs": [],
   "source": [
    "s= BeautifulSoup(requests.get('https://gg.deals/game/tricky-towers/').text, 'lxml')"
   ]
  },
  {
   "cell_type": "code",
   "execution_count": 96,
   "metadata": {},
   "outputs": [
    {
     "data": {
      "text/plain": [
       "<a class=\"widget-link-more news-list-show-more-link load-more-button\" data-url=\"/ru/games/relations/21937/?type=dlc&amp;offset=4&amp;hideKeyshops=0\" href=\"#\">Show more</a>"
      ]
     },
     "execution_count": 96,
     "metadata": {},
     "output_type": "execute_result"
    }
   ],
   "source": [
    "s.find('div', class_='list-show-more').find('a').find(\"a\",data-url=)"
   ]
  },
  {
   "cell_type": "code",
   "execution_count": 99,
   "metadata": {},
   "outputs": [],
   "source": [
    "s= BeautifulSoup(requests.get(mas_of_urls[1]).text, 'lxml')"
   ]
  },
  {
   "cell_type": "code",
   "execution_count": 100,
   "metadata": {},
   "outputs": [
    {
     "ename": "AttributeError",
     "evalue": "'NoneType' object has no attribute 'find'",
     "output_type": "error",
     "traceback": [
      "\u001b[0;31m---------------------------------------------------------------------------\u001b[0m",
      "\u001b[0;31mAttributeError\u001b[0m                            Traceback (most recent call last)",
      "\u001b[0;32m<ipython-input-100-729f9b2c5428>\u001b[0m in \u001b[0;36m<module>\u001b[0;34m\u001b[0m\n\u001b[0;32m----> 1\u001b[0;31m \u001b[0ms\u001b[0m\u001b[0;34m.\u001b[0m\u001b[0mfind\u001b[0m\u001b[0;34m(\u001b[0m\u001b[0;34m'div'\u001b[0m\u001b[0;34m,\u001b[0m \u001b[0mclass_\u001b[0m\u001b[0;34m=\u001b[0m\u001b[0;34m'list-show-more'\u001b[0m\u001b[0;34m)\u001b[0m\u001b[0;34m.\u001b[0m\u001b[0mfind\u001b[0m\u001b[0;34m(\u001b[0m\u001b[0;34m'a'\u001b[0m\u001b[0;34m)\u001b[0m\u001b[0;34m\u001b[0m\u001b[0;34m\u001b[0m\u001b[0m\n\u001b[0m",
      "\u001b[0;31mAttributeError\u001b[0m: 'NoneType' object has no attribute 'find'"
     ]
    }
   ],
   "source": [
    "s.find('div', class_='list-show-more').find('a')"
   ]
  },
  {
   "cell_type": "code",
   "execution_count": 163,
   "metadata": {},
   "outputs": [],
   "source": [
    "s= BeautifulSoup(requests.get('https://gg.deals/game/tricky-towers/').text, 'lxml')"
   ]
  },
  {
   "cell_type": "code",
   "execution_count": 119,
   "metadata": {},
   "outputs": [
    {
     "data": {
      "text/plain": [
       "'/ru/games/chartHistoricalData/21937/?hideKeyshops=0'"
      ]
     },
     "execution_count": 119,
     "metadata": {},
     "output_type": "execute_result"
    }
   ],
   "source": [
    "s.find('div', class_='chart-container')['data-with-keyshops-url']"
   ]
  },
  {
   "cell_type": "code",
   "execution_count": 120,
   "metadata": {},
   "outputs": [],
   "source": [
    "page = requests.get('https://gg.deals/ru/games/chartHistoricalData/21937/?hideKeyshops=0',headers=headers)"
   ]
  },
  {
   "cell_type": "code",
   "execution_count": 151,
   "metadata": {},
   "outputs": [
    {
     "data": {
      "text/plain": [
       "114"
      ]
     },
     "execution_count": 151,
     "metadata": {},
     "output_type": "execute_result"
    }
   ],
   "source": [
    "file= BeautifulSoup(page.text, 'lxml')\n",
    "d=json.loads(file.text)\n",
    "len(d['chartData']['deals'])"
   ]
  },
  {
   "cell_type": "code",
   "execution_count": 160,
   "metadata": {},
   "outputs": [
    {
     "data": {
      "text/plain": [
       "[{'ts': 1470140057000, 'price': 296, 'shop': 'Steam'},\n",
       " {'ts': 1470763096000, 'price': 349, 'shop': 'Steam'},\n",
       " {'ts': 1474161062000, 'price': 499, 'shop': 'Steam'},\n",
       " {'ts': 1477683754000, 'price': 334, 'shop': 'Steam'},\n",
       " {'ts': 1478026596000, 'price': 499, 'shop': 'Steam'},\n",
       " {'ts': 1479287466000, 'price': 299, 'shop': 'Steam'},\n",
       " {'ts': 1479806020000, 'price': 499, 'shop': 'Steam'},\n",
       " {'ts': 1480019837000, 'price': 299, 'shop': 'Steam'},\n",
       " {'ts': 1480456824000, 'price': 499, 'shop': 'Steam'},\n",
       " {'ts': 1482264397000, 'price': 456.89, 'shop': 'WinGameStore'},\n",
       " {'ts': 1482640273000, 'price': 249, 'shop': 'Steam'},\n",
       " {'ts': 1483386163000, 'price': 499, 'shop': 'Steam'},\n",
       " {'ts': 1484245887000, 'price': 449.93, 'shop': 'Humble Store'},\n",
       " {'ts': 1484597289000, 'price': 448.1, 'shop': 'WinGameStore'},\n",
       " {'ts': 1485158767000, 'price': 869.73, 'shop': 'WinGameStore'},\n",
       " {'ts': 1487004600000, 'price': 58.11, 'shop': 'Bundle Stars'},\n",
       " {'ts': 1488211200000, 'price': 499, 'shop': 'Steam'},\n",
       " {'ts': 1490724300000, 'price': 57.2, 'shop': 'Humble Bundle'},\n",
       " {'ts': 1491933600000, 'price': 199, 'shop': 'Steam'},\n",
       " {'ts': 1492450399000, 'price': 499, 'shop': 'Steam'},\n",
       " {'ts': 1498266130000, 'price': 249, 'shop': 'Steam'},\n",
       " {'ts': 1499294154000, 'price': 499, 'shop': 'Steam'},\n",
       " {'ts': 1500451939000, 'price': 199, 'shop': 'Steam'},\n",
       " {'ts': 1501488852000, 'price': 499, 'shop': 'Steam'},\n",
       " {'ts': 1502906090000, 'price': 169, 'shop': 'Steam'},\n",
       " {'ts': 1503083105000, 'price': 499, 'shop': 'Steam'},\n",
       " {'ts': 1509104374000, 'price': 249, 'shop': 'Steam'},\n",
       " {'ts': 1509589434000, 'price': 499, 'shop': 'Steam'},\n",
       " {'ts': 1511587712000, 'price': 299.4, 'shop': 'Steam'},\n",
       " {'ts': 1511950644000, 'price': 499, 'shop': 'Steam'},\n",
       " {'ts': 1513843842000, 'price': 387.35, 'shop': 'WinGameStore'},\n",
       " {'ts': 1514269746000, 'price': 224.55, 'shop': 'Steam'},\n",
       " {'ts': 1515138993000, 'price': 499, 'shop': 'Steam'},\n",
       " {'ts': 1515710505000, 'price': 421.87, 'shop': 'Humble Store'},\n",
       " {'ts': 1516905566000, 'price': 945.39, 'shop': 'Humble Store'},\n",
       " {'ts': 1517515076000, 'price': 174, 'shop': 'Steam'},\n",
       " {'ts': 1519088535000, 'price': 499, 'shop': 'Steam'},\n",
       " {'ts': 1523298028000, 'price': 465.88, 'shop': 'WinGameStore'},\n",
       " {'ts': 1523948854000, 'price': 943.82, 'shop': 'WinGameStore'},\n",
       " {'ts': 1525450202000, 'price': 308.24, 'shop': 'Chrono.gg'},\n",
       " {'ts': 1525533438000, 'price': 499, 'shop': 'Steam'},\n",
       " {'ts': 1525976631000, 'price': 465.31, 'shop': 'Humble Store'},\n",
       " {'ts': 1526494654000, 'price': 954.56, 'shop': 'Humble Store'},\n",
       " {'ts': 1529611596000, 'price': 472.98, 'shop': 'Fanatical'},\n",
       " {'ts': 1529857282000, 'price': 249, 'shop': 'Steam'},\n",
       " {'ts': 1530867472000, 'price': 499, 'shop': 'Steam'},\n",
       " {'ts': 1531033781000, 'price': 425.01, 'shop': 'WinGameStore'},\n",
       " {'ts': 1531120247000, 'price': 466.88, 'shop': 'WinGameStore'},\n",
       " {'ts': 1531724875000, 'price': 499, 'shop': 'Steam'},\n",
       " {'ts': 1534173807000, 'price': 505.36, 'shop': 'Fanatical'},\n",
       " {'ts': 1535440612000, 'price': 499, 'shop': 'Steam'},\n",
       " {'ts': 1535659569000, 'price': 516.4, 'shop': 'Humble Store'},\n",
       " {'ts': 1536861314000, 'price': 499, 'shop': 'Steam'},\n",
       " {'ts': 1540833864000, 'price': 249, 'shop': 'Steam'},\n",
       " {'ts': 1541103027000, 'price': 499, 'shop': 'Steam'},\n",
       " {'ts': 1542829935000, 'price': 249.5, 'shop': 'Steam'},\n",
       " {'ts': 1543345394000, 'price': 499, 'shop': 'Steam'},\n",
       " {'ts': 1545151410000, 'price': 439.12, 'shop': 'Green Man Gaming'},\n",
       " {'ts': 1545336129000, 'price': 249.5, 'shop': 'Steam'},\n",
       " {'ts': 1546547802000, 'price': 439.12, 'shop': 'Green Man Gaming'},\n",
       " {'ts': 1547145564000, 'price': 495.07, 'shop': 'Humble Store'},\n",
       " {'ts': 1548354693000, 'price': 499, 'shop': 'Green Man Gaming'},\n",
       " {'ts': 1549305217000, 'price': 249, 'shop': 'Steam'},\n",
       " {'ts': 1549909702000, 'price': 499, 'shop': 'Steam'},\n",
       " {'ts': 1557422869000, 'price': 482.14, 'shop': 'Humble Store'},\n",
       " {'ts': 1558632696000, 'price': 482.88, 'shop': 'Humble Store'},\n",
       " {'ts': 1558977866000, 'price': 499, 'shop': 'Steam'},\n",
       " {'ts': 1559404803000, 'price': 326.72, 'shop': 'Chrono.gg'},\n",
       " {'ts': 1559491205000, 'price': 499, 'shop': 'Steam'},\n",
       " {'ts': 1561486235000, 'price': 199, 'shop': 'Steam'},\n",
       " {'ts': 1562710909000, 'price': 499, 'shop': 'Steam'},\n",
       " {'ts': 1564157379000, 'price': 449.1, 'shop': 'Green Man Gaming'},\n",
       " {'ts': 1564760622000, 'price': 439.12, 'shop': 'Green Man Gaming'},\n",
       " {'ts': 1564765658000, 'price': 169, 'shop': 'Steam'},\n",
       " {'ts': 1565370514000, 'price': 499, 'shop': 'Steam'},\n",
       " {'ts': 1565716201000, 'price': 439.12, 'shop': 'Green Man Gaming'},\n",
       " {'ts': 1567168270000, 'price': 490.13, 'shop': 'Humble Store'},\n",
       " {'ts': 1568311243000, 'price': 499, 'shop': 'Green Man Gaming'},\n",
       " {'ts': 1568743200000, 'price': 64.99, 'shop': 'Humble Bundle'},\n",
       " {'ts': 1570557619000, 'price': 499, 'shop': 'Green Man Gaming'},\n",
       " {'ts': 1571990656000, 'price': 478.27, 'shop': 'WinGameStore'},\n",
       " {'ts': 1572294234000, 'price': 199, 'shop': 'Steam'},\n",
       " {'ts': 1572630616000, 'price': 499, 'shop': 'Steam'},\n",
       " {'ts': 1572851996000, 'price': 474.05, 'shop': 'Green Man Gaming'},\n",
       " {'ts': 1573403020000, 'price': 169, 'shop': 'Steam'},\n",
       " {'ts': 1573575391000, 'price': 474.05, 'shop': 'Green Man Gaming'},\n",
       " {'ts': 1574269737000, 'price': 169, 'shop': 'Steam'},\n",
       " {'ts': 1574703182000, 'price': 382.96, 'shop': 'Humble Store'},\n",
       " {'ts': 1574797610000, 'price': 169, 'shop': 'Steam'},\n",
       " {'ts': 1575417216000, 'price': 474.05, 'shop': 'Green Man Gaming'},\n",
       " {'ts': 1576781252000, 'price': 199, 'shop': 'Steam'},\n",
       " {'ts': 1577989104000, 'price': 499, 'shop': 'Steam'},\n",
       " {'ts': 1578646451000, 'price': 463.73, 'shop': 'Humble Store'},\n",
       " {'ts': 1579811295000, 'price': 224, 'shop': 'Steam'},\n",
       " {'ts': 1580156701000, 'price': 499, 'shop': 'Steam'},\n",
       " {'ts': 1583513977000, 'price': 439.12, 'shop': 'Green Man Gaming'},\n",
       " {'ts': 1583942175000, 'price': 499, 'shop': 'Green Man Gaming'},\n",
       " {'ts': 1585125198000, 'price': 249, 'shop': 'Steam'},\n",
       " {'ts': 1586160613000, 'price': 499, 'shop': 'Steam'},\n",
       " {'ts': 1593110712000, 'price': 199, 'shop': 'Steam'},\n",
       " {'ts': 1594320795000, 'price': 499, 'shop': 'Steam'},\n",
       " {'ts': 1596215446000, 'price': 199, 'shop': 'Steam'},\n",
       " {'ts': 1597079828000, 'price': 499, 'shop': 'Steam'},\n",
       " {'ts': 1603994794000, 'price': 224, 'shop': 'Steam'},\n",
       " {'ts': 1604345186000, 'price': 499, 'shop': 'Steam'},\n",
       " {'ts': 1606338163000, 'price': 249, 'shop': 'Steam'},\n",
       " {'ts': 1606846513000, 'price': 499, 'shop': 'Steam'},\n",
       " {'ts': 1608668524000, 'price': 169, 'shop': 'Steam'},\n",
       " {'ts': 1609873770000, 'price': 499, 'shop': 'Steam'},\n",
       " {'ts': 1613072293000, 'price': 249, 'shop': 'Steam'},\n",
       " {'ts': 1613417242000, 'price': 499, 'shop': 'Steam'},\n",
       " {'ts': 1616693467000, 'price': 199, 'shop': 'Steam'},\n",
       " {'ts': 1617039612000, 'price': 499, 'shop': 'Steam'},\n",
       " {'ts': 1619390386000, 'price': 499, 'shop': 'Steam'}]"
      ]
     },
     "execution_count": 160,
     "metadata": {},
     "output_type": "execute_result"
    }
   ],
   "source": [
    "price_history=[]\n",
    "for el in d['chartData']['deals']:\n",
    "    tek={\"ts\":el['x'], \"price\":el['y'], \"shop\":el['shop']}\n",
    "    price_history.append(tek)\n",
    "price_history"
   ]
  },
  {
   "cell_type": "code",
   "execution_count": 156,
   "metadata": {},
   "outputs": [
    {
     "data": {
      "text/plain": [
       "1470140057000"
      ]
     },
     "execution_count": 156,
     "metadata": {},
     "output_type": "execute_result"
    }
   ],
   "source": [
    "d['chartData']['deals'][0]['x']"
   ]
  },
  {
   "cell_type": "code",
   "execution_count": 174,
   "metadata": {},
   "outputs": [],
   "source": [
    "def get_price_history(soup):\n",
    "    adress=soup.find('div', class_='chart-container')['data-with-keyshops-url']\n",
    "    if adress is None:\n",
    "        return None\n",
    "    if adress is not None:\n",
    "        page=requests.get('https://gg.deals'+adress,headers=headers)\n",
    "        file= BeautifulSoup(page.text, 'lxml')\n",
    "        my_dict=json.loads(file.text)['chartData']['deals']\n",
    "        price_history=[]\n",
    "        for el in my_dict:\n",
    "            tek={\"ts\":el['x'], \"price\":el['y'], \"shop\":el['shop']}\n",
    "            price_history.append(tek)\n",
    "        return price_history"
   ]
  },
  {
   "cell_type": "code",
   "execution_count": 175,
   "metadata": {},
   "outputs": [
    {
     "data": {
      "text/plain": [
       "[{'ts': 1470140057000, 'price': 296, 'shop': 'Steam'},\n",
       " {'ts': 1470763096000, 'price': 349, 'shop': 'Steam'},\n",
       " {'ts': 1474161062000, 'price': 499, 'shop': 'Steam'},\n",
       " {'ts': 1477683754000, 'price': 334, 'shop': 'Steam'},\n",
       " {'ts': 1478026596000, 'price': 499, 'shop': 'Steam'},\n",
       " {'ts': 1479287466000, 'price': 299, 'shop': 'Steam'},\n",
       " {'ts': 1479806020000, 'price': 499, 'shop': 'Steam'},\n",
       " {'ts': 1480019837000, 'price': 299, 'shop': 'Steam'},\n",
       " {'ts': 1480456824000, 'price': 499, 'shop': 'Steam'},\n",
       " {'ts': 1482264397000, 'price': 456.89, 'shop': 'WinGameStore'},\n",
       " {'ts': 1482640273000, 'price': 249, 'shop': 'Steam'},\n",
       " {'ts': 1483386163000, 'price': 499, 'shop': 'Steam'},\n",
       " {'ts': 1484245887000, 'price': 449.93, 'shop': 'Humble Store'},\n",
       " {'ts': 1484597289000, 'price': 448.1, 'shop': 'WinGameStore'},\n",
       " {'ts': 1485158767000, 'price': 869.73, 'shop': 'WinGameStore'},\n",
       " {'ts': 1487004600000, 'price': 58.11, 'shop': 'Bundle Stars'},\n",
       " {'ts': 1488211200000, 'price': 499, 'shop': 'Steam'},\n",
       " {'ts': 1490724300000, 'price': 57.2, 'shop': 'Humble Bundle'},\n",
       " {'ts': 1491933600000, 'price': 199, 'shop': 'Steam'},\n",
       " {'ts': 1492450399000, 'price': 499, 'shop': 'Steam'},\n",
       " {'ts': 1498266130000, 'price': 249, 'shop': 'Steam'},\n",
       " {'ts': 1499294154000, 'price': 499, 'shop': 'Steam'},\n",
       " {'ts': 1500451939000, 'price': 199, 'shop': 'Steam'},\n",
       " {'ts': 1501488852000, 'price': 499, 'shop': 'Steam'},\n",
       " {'ts': 1502906090000, 'price': 169, 'shop': 'Steam'},\n",
       " {'ts': 1503083105000, 'price': 499, 'shop': 'Steam'},\n",
       " {'ts': 1509104374000, 'price': 249, 'shop': 'Steam'},\n",
       " {'ts': 1509589434000, 'price': 499, 'shop': 'Steam'},\n",
       " {'ts': 1511587712000, 'price': 299.4, 'shop': 'Steam'},\n",
       " {'ts': 1511950644000, 'price': 499, 'shop': 'Steam'},\n",
       " {'ts': 1513843842000, 'price': 387.35, 'shop': 'WinGameStore'},\n",
       " {'ts': 1514269746000, 'price': 224.55, 'shop': 'Steam'},\n",
       " {'ts': 1515138993000, 'price': 499, 'shop': 'Steam'},\n",
       " {'ts': 1515710505000, 'price': 421.87, 'shop': 'Humble Store'},\n",
       " {'ts': 1516905566000, 'price': 945.39, 'shop': 'Humble Store'},\n",
       " {'ts': 1517515076000, 'price': 174, 'shop': 'Steam'},\n",
       " {'ts': 1519088535000, 'price': 499, 'shop': 'Steam'},\n",
       " {'ts': 1523298028000, 'price': 465.88, 'shop': 'WinGameStore'},\n",
       " {'ts': 1523948854000, 'price': 943.82, 'shop': 'WinGameStore'},\n",
       " {'ts': 1525450202000, 'price': 308.24, 'shop': 'Chrono.gg'},\n",
       " {'ts': 1525533438000, 'price': 499, 'shop': 'Steam'},\n",
       " {'ts': 1525976631000, 'price': 465.31, 'shop': 'Humble Store'},\n",
       " {'ts': 1526494654000, 'price': 954.56, 'shop': 'Humble Store'},\n",
       " {'ts': 1529611596000, 'price': 472.98, 'shop': 'Fanatical'},\n",
       " {'ts': 1529857282000, 'price': 249, 'shop': 'Steam'},\n",
       " {'ts': 1530867472000, 'price': 499, 'shop': 'Steam'},\n",
       " {'ts': 1531033781000, 'price': 425.01, 'shop': 'WinGameStore'},\n",
       " {'ts': 1531120247000, 'price': 466.88, 'shop': 'WinGameStore'},\n",
       " {'ts': 1531724875000, 'price': 499, 'shop': 'Steam'},\n",
       " {'ts': 1534173807000, 'price': 505.36, 'shop': 'Fanatical'},\n",
       " {'ts': 1535440612000, 'price': 499, 'shop': 'Steam'},\n",
       " {'ts': 1535659569000, 'price': 516.4, 'shop': 'Humble Store'},\n",
       " {'ts': 1536861314000, 'price': 499, 'shop': 'Steam'},\n",
       " {'ts': 1540833864000, 'price': 249, 'shop': 'Steam'},\n",
       " {'ts': 1541103027000, 'price': 499, 'shop': 'Steam'},\n",
       " {'ts': 1542829935000, 'price': 249.5, 'shop': 'Steam'},\n",
       " {'ts': 1543345394000, 'price': 499, 'shop': 'Steam'},\n",
       " {'ts': 1545151410000, 'price': 439.12, 'shop': 'Green Man Gaming'},\n",
       " {'ts': 1545336129000, 'price': 249.5, 'shop': 'Steam'},\n",
       " {'ts': 1546547802000, 'price': 439.12, 'shop': 'Green Man Gaming'},\n",
       " {'ts': 1547145564000, 'price': 495.07, 'shop': 'Humble Store'},\n",
       " {'ts': 1548354693000, 'price': 499, 'shop': 'Green Man Gaming'},\n",
       " {'ts': 1549305217000, 'price': 249, 'shop': 'Steam'},\n",
       " {'ts': 1549909702000, 'price': 499, 'shop': 'Steam'},\n",
       " {'ts': 1557422869000, 'price': 482.14, 'shop': 'Humble Store'},\n",
       " {'ts': 1558632696000, 'price': 482.88, 'shop': 'Humble Store'},\n",
       " {'ts': 1558977866000, 'price': 499, 'shop': 'Steam'},\n",
       " {'ts': 1559404803000, 'price': 326.72, 'shop': 'Chrono.gg'},\n",
       " {'ts': 1559491205000, 'price': 499, 'shop': 'Steam'},\n",
       " {'ts': 1561486235000, 'price': 199, 'shop': 'Steam'},\n",
       " {'ts': 1562710909000, 'price': 499, 'shop': 'Steam'},\n",
       " {'ts': 1564157379000, 'price': 449.1, 'shop': 'Green Man Gaming'},\n",
       " {'ts': 1564760622000, 'price': 439.12, 'shop': 'Green Man Gaming'},\n",
       " {'ts': 1564765658000, 'price': 169, 'shop': 'Steam'},\n",
       " {'ts': 1565370514000, 'price': 499, 'shop': 'Steam'},\n",
       " {'ts': 1565716201000, 'price': 439.12, 'shop': 'Green Man Gaming'},\n",
       " {'ts': 1567168270000, 'price': 490.13, 'shop': 'Humble Store'},\n",
       " {'ts': 1568311243000, 'price': 499, 'shop': 'Green Man Gaming'},\n",
       " {'ts': 1568743200000, 'price': 64.99, 'shop': 'Humble Bundle'},\n",
       " {'ts': 1570557619000, 'price': 499, 'shop': 'Green Man Gaming'},\n",
       " {'ts': 1571990656000, 'price': 478.27, 'shop': 'WinGameStore'},\n",
       " {'ts': 1572294234000, 'price': 199, 'shop': 'Steam'},\n",
       " {'ts': 1572630616000, 'price': 499, 'shop': 'Steam'},\n",
       " {'ts': 1572851996000, 'price': 474.05, 'shop': 'Green Man Gaming'},\n",
       " {'ts': 1573403020000, 'price': 169, 'shop': 'Steam'},\n",
       " {'ts': 1573575391000, 'price': 474.05, 'shop': 'Green Man Gaming'},\n",
       " {'ts': 1574269737000, 'price': 169, 'shop': 'Steam'},\n",
       " {'ts': 1574703182000, 'price': 382.96, 'shop': 'Humble Store'},\n",
       " {'ts': 1574797610000, 'price': 169, 'shop': 'Steam'},\n",
       " {'ts': 1575417216000, 'price': 474.05, 'shop': 'Green Man Gaming'},\n",
       " {'ts': 1576781252000, 'price': 199, 'shop': 'Steam'},\n",
       " {'ts': 1577989104000, 'price': 499, 'shop': 'Steam'},\n",
       " {'ts': 1578646451000, 'price': 463.73, 'shop': 'Humble Store'},\n",
       " {'ts': 1579811295000, 'price': 224, 'shop': 'Steam'},\n",
       " {'ts': 1580156701000, 'price': 499, 'shop': 'Steam'},\n",
       " {'ts': 1583513977000, 'price': 439.12, 'shop': 'Green Man Gaming'},\n",
       " {'ts': 1583942175000, 'price': 499, 'shop': 'Green Man Gaming'},\n",
       " {'ts': 1585125198000, 'price': 249, 'shop': 'Steam'},\n",
       " {'ts': 1586160613000, 'price': 499, 'shop': 'Steam'},\n",
       " {'ts': 1593110712000, 'price': 199, 'shop': 'Steam'},\n",
       " {'ts': 1594320795000, 'price': 499, 'shop': 'Steam'},\n",
       " {'ts': 1596215446000, 'price': 199, 'shop': 'Steam'},\n",
       " {'ts': 1597079828000, 'price': 499, 'shop': 'Steam'},\n",
       " {'ts': 1603994794000, 'price': 224, 'shop': 'Steam'},\n",
       " {'ts': 1604345186000, 'price': 499, 'shop': 'Steam'},\n",
       " {'ts': 1606338163000, 'price': 249, 'shop': 'Steam'},\n",
       " {'ts': 1606846513000, 'price': 499, 'shop': 'Steam'},\n",
       " {'ts': 1608668524000, 'price': 169, 'shop': 'Steam'},\n",
       " {'ts': 1609873770000, 'price': 499, 'shop': 'Steam'},\n",
       " {'ts': 1613072293000, 'price': 249, 'shop': 'Steam'},\n",
       " {'ts': 1613417242000, 'price': 499, 'shop': 'Steam'},\n",
       " {'ts': 1616693467000, 'price': 199, 'shop': 'Steam'},\n",
       " {'ts': 1617039612000, 'price': 499, 'shop': 'Steam'},\n",
       " {'ts': 1619391614000, 'price': 499, 'shop': 'Steam'}]"
      ]
     },
     "execution_count": 175,
     "metadata": {},
     "output_type": "execute_result"
    }
   ],
   "source": [
    "get_price_history(s)"
   ]
  },
  {
   "cell_type": "code",
   "execution_count": null,
   "metadata": {},
   "outputs": [],
   "source": []
  }
 ],
 "metadata": {
  "kernelspec": {
   "display_name": "Python 3",
   "language": "python",
   "name": "python3"
  },
  "language_info": {
   "codemirror_mode": {
    "name": "ipython",
    "version": 3
   },
   "file_extension": ".py",
   "mimetype": "text/x-python",
   "name": "python",
   "nbconvert_exporter": "python",
   "pygments_lexer": "ipython3",
   "version": "3.7.3"
  }
 },
 "nbformat": 4,
 "nbformat_minor": 2
}
