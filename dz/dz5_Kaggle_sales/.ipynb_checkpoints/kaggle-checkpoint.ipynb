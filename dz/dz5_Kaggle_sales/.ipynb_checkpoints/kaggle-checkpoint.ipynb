{
 "cells": [
  {
   "cell_type": "code",
   "execution_count": null,
   "metadata": {},
   "outputs": [],
   "source": [
    "import pandas as pd\n",
    "import numpy as np\n",
    "from sklearn.linear_model import LinearRegression\n",
    "from statsmodels.tsa.api import ExponentialSmoothing"
   ]
  },
  {
   "cell_type": "code",
   "execution_count": null,
   "metadata": {},
   "outputs": [],
   "source": [
    "import warnings\n",
    "warnings.filterwarnings('ignore')"
   ]
  },
  {
   "cell_type": "markdown",
   "metadata": {},
   "source": [
    "[ссылка на теорию по group by](https://youtu.be/Wb2Tp35dZ-I)"
   ]
  },
  {
   "cell_type": "code",
   "execution_count": null,
   "metadata": {},
   "outputs": [],
   "source": [
    "test_df = pd.read_csv('../input/grocery-sales-forecast/test.csv')\n",
    "train_df = pd.read_csv('../input/grocery-sales-forecast/train.csv')\n",
    "train_df['sum_id'] = train_df['product_id'] * 10 + train_df['warehouse_id']"
   ]
  },
  {
   "cell_type": "code",
   "execution_count": null,
   "metadata": {},
   "outputs": [],
   "source": [
    "test_df = pd.read_csv('../input/grocery-sales-forecast/test.csv')\n",
    "train_df = pd.read_csv('../input/grocery-sales-forecast/train.csv')\n",
    "train_df['sum_id'] = train_df['product_id'] * 10 + train_df['warehouse_id']"
   ]
  },
  {
   "cell_type": "code",
   "execution_count": null,
   "metadata": {},
   "outputs": [],
   "source": [
    "grouped_train = train_df.groupby('sum_id')\n",
    "print(len(train_df['date']))\n",
    "print(len(unique_dates(train_df['date'])))\n",
    "unique_days = unique_dates(train_df['date'])"
   ]
  },
  {
   "cell_type": "code",
   "execution_count": null,
   "metadata": {},
   "outputs": [],
   "source": [
    "ans = dict()\n",
    "for sum_id, grouped_df in grouped_train:\n",
    "        #print(sum_id)\n",
    "        #print(grouped_df)\n",
    "    warehouse_id = grouped_df['warehouse_id'].iloc[0]\n",
    "    product_id = grouped_df['product_id'].iloc[0]\n",
    "        #print(warehouse_id, product_id)\n",
    "        #print(len(grouped_df['date']))\n",
    "\n",
    "    data = dict(zip(grouped_df['date'], grouped_df['quantity']))\n",
    "    for date in unique_days:\n",
    "        if date not in data:\n",
    "            data[date] = 0\n",
    "        #print(len(data))\n",
    "        \n",
    "    current_test_df = test_df[(test_df.warehouse_id == warehouse_id) & (test_df.product_id == product_id)]\n",
    "    ids = current_test_df['id']\n",
    "    week = current_test_df['date']\n",
    "    #print(ids, week)\n",
    "        #print()\n",
    "        #print(data.values())\n",
    "    train_dataset = []\n",
    "    for date in unique_days:\n",
    "            #print(date, \" \", data[date])\n",
    "        train_dataset.append(data[date])\n",
    "        \n",
    "        #result = double_exponential_smoothing(train_dataset).astype(int)\n",
    "    fit1 = ExponentialSmoothing(np.asarray(train_dataset) ,seasonal_periods=7 ,trend='add', seasonal='add',).fit()\n",
    "    forecast = fit1.forecast(7).astype(int)\n",
    "        #print(len(result), len(ids))\n",
    "    for i, _id in enumerate(ids):\n",
    "        #print(_id)\n",
    "        ans[_id] = forecast[i]\n",
    "        #print(ans)"
   ]
  },
  {
   "cell_type": "code",
   "execution_count": null,
   "metadata": {},
   "outputs": [],
   "source": [
    "csv = pd.DataFrame()\n",
    "csv['id'] = test_df['id']\n",
    "rus = []\n",
    "for cur in csv['id']:\n",
    "    try:\n",
    "        rus.append(ans[cur])\n",
    "    except KeyError:\n",
    "        rus.append(0)\n",
    "csv['quantity'] = rus\n",
    "csv.to_csv('./submission.csv', index=False)"
   ]
  }
 ],
 "metadata": {
  "kernelspec": {
   "display_name": "Python 3",
   "language": "python",
   "name": "python3"
  },
  "language_info": {
   "codemirror_mode": {
    "name": "ipython",
    "version": 3
   },
   "file_extension": ".py",
   "mimetype": "text/x-python",
   "name": "python",
   "nbconvert_exporter": "python",
   "pygments_lexer": "ipython3",
   "version": "3.7.3"
  }
 },
 "nbformat": 4,
 "nbformat_minor": 4
}
