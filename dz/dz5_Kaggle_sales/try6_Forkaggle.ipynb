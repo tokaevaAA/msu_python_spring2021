{
 "cells": [
  {
   "cell_type": "code",
   "execution_count": 1,
   "metadata": {},
   "outputs": [],
   "source": [
    "import pandas as pd\n",
    "import numpy as np\n",
    "import matplotlib.pyplot as plt \n",
    "from tqdm import tqdm\n",
    "from sklearn.metrics import mean_squared_error\n",
    "from datetime import timedelta\n",
    "from statsmodels.tsa.api import ExponentialSmoothing, SimpleExpSmoothing, Holt"
   ]
  },
  {
   "cell_type": "code",
   "execution_count": null,
   "metadata": {},
   "outputs": [],
   "source": [
    "import warnings\n",
    "warnings.filterwarnings('ignore')"
   ]
  },
  {
   "cell_type": "code",
   "execution_count": null,
   "metadata": {},
   "outputs": [],
   "source": [
    "df_train = pd.read_csv('../input/grocery-sales-forecast/train.csv',parse_dates=['date'], index_col='date').drop(columns=['id'])\n",
    "df_test = pd.read_csv('../input/grocery-sales-forecast/test.csv',parse_dates=['date'], index_col='date')\n",
    "\n",
    "df_test.head(2)"
   ]
  },
  {
   "cell_type": "code",
   "execution_count": null,
   "metadata": {},
   "outputs": [],
   "source": [
    "num_days = dict(enumerate(sorted(list(set(df_train.index)))))\n",
    "num_prod = dict(enumerate(sorted(list(set(df_train.product_id)))))\n",
    "days_num = {v: k for k, v in num_days.items()}\n",
    "prod_num = {v: k for k, v in num_prod.items()}\n",
    "arr = np.zeros((len(days_num), len(prod_num), 2))"
   ]
  },
  {
   "cell_type": "code",
   "execution_count": null,
   "metadata": {},
   "outputs": [],
   "source": [
    "for row in df_train.iterrows():\n",
    "    arr[days_num[row[0]], prod_num[row[1].product_id], row[1].warehouse_id] += row[1].quantity"
   ]
  },
  {
   "cell_type": "code",
   "execution_count": null,
   "metadata": {},
   "outputs": [],
   "source": [
    "otv_df=pd.DataFrame(columns=['id'])\n",
    "for tek_prod_id in tqdm(df_test['product_id'].unique()):\n",
    "    for tek_store_id in [0,1]:\n",
    "        \n",
    "        tek_test_df=df_test[df_test['product_id']==tek_prod_id]\n",
    "        tek_test_df=tek_test_df[tek_test_df['warehouse_id']==tek_store_id]\n",
    "        \n",
    "        mas=arr[:,prod_num[tek_prod_id],tek_store_id]\n",
    "\n",
    "        model3 = Holt(np.array(mas).astype(float)).fit()\n",
    "        #model3=ExponentialSmoothing(np.asarray(mas).astype(float) ,seasonal_periods=7 ,trend='add', seasonal='add',).fit()\n",
    "        forecast=np.round(model3.forecast(len(tek_test_df)))\n",
    "        \n",
    "        newt=tek_test_df.copy()[['id']]\n",
    "        newt['prediction'] = forecast\n",
    "        otv_df = pd.concat((otv_df,newt), axis = 0,sort=True)\n",
    "        \n",
    "otv_df.shape"
   ]
  },
  {
   "cell_type": "code",
   "execution_count": null,
   "metadata": {},
   "outputs": [],
   "source": [
    "new_df=otv_df.copy()\n",
    "new_df=new_df.sort_values(by=['id'])\n",
    "new_df.rename(columns={'prediction':'quantity'},inplace=True)\n",
    "new_df['quantity']=new_df['quantity'].astype(int)\n",
    "new_df.to_csv(\"./y_predTest.csv\",index=False)\n",
    "new_df.head(5)"
   ]
  }
 ],
 "metadata": {
  "kernelspec": {
   "display_name": "Python 3",
   "language": "python",
   "name": "python3"
  },
  "language_info": {
   "codemirror_mode": {
    "name": "ipython",
    "version": 3
   },
   "file_extension": ".py",
   "mimetype": "text/x-python",
   "name": "python",
   "nbconvert_exporter": "python",
   "pygments_lexer": "ipython3",
   "version": "3.7.3"
  }
 },
 "nbformat": 4,
 "nbformat_minor": 2
}
