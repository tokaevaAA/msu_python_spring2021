{
 "cells": [
  {
   "cell_type": "code",
   "execution_count": 1,
   "metadata": {},
   "outputs": [],
   "source": [
    "import pandas as pd\n",
    "import numpy as np\n",
    "from scipy import stats\n",
    "import matplotlib.pyplot as plt\n",
    "%matplotlib inline"
   ]
  },
  {
   "cell_type": "code",
   "execution_count": 2,
   "metadata": {},
   "outputs": [],
   "source": [
    "df=pd.read_csv(\"DataShort.csv\",sep=' ',parse_dates=['purchase_dt'])"
   ]
  },
  {
   "cell_type": "code",
   "execution_count": 3,
   "metadata": {},
   "outputs": [
    {
     "data": {
      "text/html": [
       "<div>\n",
       "<style scoped>\n",
       "    .dataframe tbody tr th:only-of-type {\n",
       "        vertical-align: middle;\n",
       "    }\n",
       "\n",
       "    .dataframe tbody tr th {\n",
       "        vertical-align: top;\n",
       "    }\n",
       "\n",
       "    .dataframe thead th {\n",
       "        text-align: right;\n",
       "    }\n",
       "</style>\n",
       "<table border=\"1\" class=\"dataframe\">\n",
       "  <thead>\n",
       "    <tr style=\"text-align: right;\">\n",
       "      <th></th>\n",
       "      <th>sample_data</th>\n",
       "      <th>acct_num_share</th>\n",
       "      <th>issr_code_numb</th>\n",
       "      <th>product_nm</th>\n",
       "      <th>funding_source</th>\n",
       "      <th>mrch_country_nm</th>\n",
       "      <th>f2f_ecomm_flg</th>\n",
       "      <th>pos_cash_flg</th>\n",
       "      <th>rub_amt</th>\n",
       "      <th>purchase_dt</th>\n",
       "      <th>mrch_category_01</th>\n",
       "      <th>mrch_category_02</th>\n",
       "      <th>mrch_category_03</th>\n",
       "      <th>mrch_category_04</th>\n",
       "    </tr>\n",
       "  </thead>\n",
       "  <tbody>\n",
       "    <tr>\n",
       "      <th>0</th>\n",
       "      <td>TRAIN_SHARED</td>\n",
       "      <td>604ee6361f8a853c947ede4e3c9da372</td>\n",
       "      <td>3</td>\n",
       "      <td>VISA REWARDS</td>\n",
       "      <td>D</td>\n",
       "      <td>RUSSIAN FEDERATION</td>\n",
       "      <td>FACE-TO-FACE</td>\n",
       "      <td>POS</td>\n",
       "      <td>811.0</td>\n",
       "      <td>2018-09-19</td>\n",
       "      <td>GROCERY STORES/SUPERMARKETS</td>\n",
       "      <td>SUPERMARKETS</td>\n",
       "      <td>FOOD &amp; DRUG</td>\n",
       "      <td>FOOD &amp; GROCERY</td>\n",
       "    </tr>\n",
       "    <tr>\n",
       "      <th>1</th>\n",
       "      <td>TRAIN_SHARED</td>\n",
       "      <td>604ee6361f8a853c947ede4e3c9da372</td>\n",
       "      <td>3</td>\n",
       "      <td>VISA REWARDS</td>\n",
       "      <td>D</td>\n",
       "      <td>RUSSIAN FEDERATION</td>\n",
       "      <td>FACE-TO-FACE</td>\n",
       "      <td>POS</td>\n",
       "      <td>175.0</td>\n",
       "      <td>2018-03-19</td>\n",
       "      <td>SERVICE STATIONS</td>\n",
       "      <td>FUEL/SERVICE STATION</td>\n",
       "      <td>FUEL</td>\n",
       "      <td>FUEL</td>\n",
       "    </tr>\n",
       "    <tr>\n",
       "      <th>2</th>\n",
       "      <td>TRAIN_SHARED</td>\n",
       "      <td>604ee6361f8a853c947ede4e3c9da372</td>\n",
       "      <td>3</td>\n",
       "      <td>VISA REWARDS</td>\n",
       "      <td>D</td>\n",
       "      <td>RUSSIAN FEDERATION</td>\n",
       "      <td>FACE-TO-FACE</td>\n",
       "      <td>POS</td>\n",
       "      <td>1367.0</td>\n",
       "      <td>2017-03-12</td>\n",
       "      <td>STATIONERY STORES</td>\n",
       "      <td>LEISURE GOODS RETAIL</td>\n",
       "      <td>RETAIL GOODS</td>\n",
       "      <td>RETAIL GOODS</td>\n",
       "    </tr>\n",
       "    <tr>\n",
       "      <th>3</th>\n",
       "      <td>TRAIN_SHARED</td>\n",
       "      <td>604ee6361f8a853c947ede4e3c9da372</td>\n",
       "      <td>3</td>\n",
       "      <td>VISA REWARDS</td>\n",
       "      <td>D</td>\n",
       "      <td>RUSSIAN FEDERATION</td>\n",
       "      <td>FACE-TO-FACE</td>\n",
       "      <td>POS</td>\n",
       "      <td>6427.0</td>\n",
       "      <td>2017-03-12</td>\n",
       "      <td>SPORTING GOODS STORES</td>\n",
       "      <td>SPORTING GOODS RETAIL</td>\n",
       "      <td>RETAIL GOODS</td>\n",
       "      <td>RETAIL GOODS</td>\n",
       "    </tr>\n",
       "    <tr>\n",
       "      <th>4</th>\n",
       "      <td>TRAIN_SHARED</td>\n",
       "      <td>604ee6361f8a853c947ede4e3c9da372</td>\n",
       "      <td>3</td>\n",
       "      <td>VISA REWARDS</td>\n",
       "      <td>D</td>\n",
       "      <td>RUSSIAN FEDERATION</td>\n",
       "      <td>FACE-TO-FACE</td>\n",
       "      <td>POS</td>\n",
       "      <td>284.0</td>\n",
       "      <td>2018-06-19</td>\n",
       "      <td>MISC FOOD STORES - DEFAULT</td>\n",
       "      <td>FOOD RETAIL</td>\n",
       "      <td>FOOD &amp; DRUG</td>\n",
       "      <td>FOOD &amp; GROCERY</td>\n",
       "    </tr>\n",
       "  </tbody>\n",
       "</table>\n",
       "</div>"
      ],
      "text/plain": [
       "    sample_data                    acct_num_share  issr_code_numb  \\\n",
       "0  TRAIN_SHARED  604ee6361f8a853c947ede4e3c9da372               3   \n",
       "1  TRAIN_SHARED  604ee6361f8a853c947ede4e3c9da372               3   \n",
       "2  TRAIN_SHARED  604ee6361f8a853c947ede4e3c9da372               3   \n",
       "3  TRAIN_SHARED  604ee6361f8a853c947ede4e3c9da372               3   \n",
       "4  TRAIN_SHARED  604ee6361f8a853c947ede4e3c9da372               3   \n",
       "\n",
       "     product_nm funding_source     mrch_country_nm f2f_ecomm_flg pos_cash_flg  \\\n",
       "0  VISA REWARDS              D  RUSSIAN FEDERATION  FACE-TO-FACE          POS   \n",
       "1  VISA REWARDS              D  RUSSIAN FEDERATION  FACE-TO-FACE          POS   \n",
       "2  VISA REWARDS              D  RUSSIAN FEDERATION  FACE-TO-FACE          POS   \n",
       "3  VISA REWARDS              D  RUSSIAN FEDERATION  FACE-TO-FACE          POS   \n",
       "4  VISA REWARDS              D  RUSSIAN FEDERATION  FACE-TO-FACE          POS   \n",
       "\n",
       "   rub_amt purchase_dt             mrch_category_01       mrch_category_02  \\\n",
       "0    811.0  2018-09-19  GROCERY STORES/SUPERMARKETS           SUPERMARKETS   \n",
       "1    175.0  2018-03-19             SERVICE STATIONS   FUEL/SERVICE STATION   \n",
       "2   1367.0  2017-03-12            STATIONERY STORES   LEISURE GOODS RETAIL   \n",
       "3   6427.0  2017-03-12        SPORTING GOODS STORES  SPORTING GOODS RETAIL   \n",
       "4    284.0  2018-06-19   MISC FOOD STORES - DEFAULT            FOOD RETAIL   \n",
       "\n",
       "  mrch_category_03 mrch_category_04  \n",
       "0      FOOD & DRUG   FOOD & GROCERY  \n",
       "1             FUEL             FUEL  \n",
       "2     RETAIL GOODS     RETAIL GOODS  \n",
       "3     RETAIL GOODS     RETAIL GOODS  \n",
       "4      FOOD & DRUG   FOOD & GROCERY  "
      ]
     },
     "execution_count": 3,
     "metadata": {},
     "output_type": "execute_result"
    }
   ],
   "source": [
    "df.head(5)"
   ]
  },
  {
   "cell_type": "markdown",
   "metadata": {},
   "source": [
    "### 1. Смотрим на данные "
   ]
  },
  {
   "cell_type": "markdown",
   "metadata": {},
   "source": [
    "Данные - это логи транзакций по картам 170 человек за два года"
   ]
  },
  {
   "cell_type": "markdown",
   "metadata": {},
   "source": [
    "Колонка sample_data вся одинаковая, просто говорит, что это трейн"
   ]
  },
  {
   "cell_type": "code",
   "execution_count": 4,
   "metadata": {},
   "outputs": [
    {
     "data": {
      "text/plain": [
       "array(['TRAIN_SHARED'], dtype=object)"
      ]
     },
     "execution_count": 4,
     "metadata": {},
     "output_type": "execute_result"
    }
   ],
   "source": [
    "df['sample_data'].unique()"
   ]
  },
  {
   "cell_type": "markdown",
   "metadata": {},
   "source": [
    "Колонка acct_num_share - это уникальный номер карнты человека\n",
    "Их всего 170"
   ]
  },
  {
   "cell_type": "code",
   "execution_count": 5,
   "metadata": {},
   "outputs": [
    {
     "data": {
      "text/plain": [
       "170"
      ]
     },
     "execution_count": 5,
     "metadata": {},
     "output_type": "execute_result"
    }
   ],
   "source": [
    "df['acct_num_share'].nunique()"
   ]
  },
  {
   "cell_type": "markdown",
   "metadata": {},
   "source": [
    "Колонка issr_code_numb - это тип карты Их всего 15"
   ]
  },
  {
   "cell_type": "code",
   "execution_count": 6,
   "metadata": {},
   "outputs": [
    {
     "data": {
      "text/plain": [
       "15"
      ]
     },
     "execution_count": 6,
     "metadata": {},
     "output_type": "execute_result"
    }
   ],
   "source": [
    "df['issr_code_numb'].nunique()"
   ]
  },
  {
   "cell_type": "markdown",
   "metadata": {},
   "source": [
    "Колонка product_nm - это тип карты Их всего 7"
   ]
  },
  {
   "cell_type": "code",
   "execution_count": 7,
   "metadata": {},
   "outputs": [
    {
     "data": {
      "text/plain": [
       "array(['VISA REWARDS', 'VISA SIGNATURE', 'VISA PLATINUM', 'VISA CLASSIC',\n",
       "       'VISA GOLD', 'VISA ELECTRON', 'VISA INFINITE'], dtype=object)"
      ]
     },
     "execution_count": 7,
     "metadata": {},
     "output_type": "execute_result"
    }
   ],
   "source": [
    "df['product_nm'].unique()"
   ]
  },
  {
   "cell_type": "markdown",
   "metadata": {},
   "source": [
    "Колонка funding_source - это тип карты, дебетовая/кредитная"
   ]
  },
  {
   "cell_type": "code",
   "execution_count": 8,
   "metadata": {},
   "outputs": [
    {
     "data": {
      "text/plain": [
       "array(['D', 'C'], dtype=object)"
      ]
     },
     "execution_count": 8,
     "metadata": {},
     "output_type": "execute_result"
    }
   ],
   "source": [
    "df['funding_source'].unique()"
   ]
  },
  {
   "cell_type": "markdown",
   "metadata": {},
   "source": [
    "Колонка  mrch_country_nm - это страна, в которой была совершена покупка"
   ]
  },
  {
   "cell_type": "code",
   "execution_count": 9,
   "metadata": {},
   "outputs": [
    {
     "data": {
      "text/plain": [
       "80"
      ]
     },
     "execution_count": 9,
     "metadata": {},
     "output_type": "execute_result"
    }
   ],
   "source": [
    "df['mrch_country_nm'].nunique()"
   ]
  },
  {
   "cell_type": "markdown",
   "metadata": {},
   "source": [
    "Колонка f2f_ecomm_flg - это тип покупки, лично или по интернету"
   ]
  },
  {
   "cell_type": "code",
   "execution_count": 10,
   "metadata": {},
   "outputs": [
    {
     "data": {
      "text/plain": [
       "array(['FACE-TO-FACE', 'E-COMM'], dtype=object)"
      ]
     },
     "execution_count": 10,
     "metadata": {},
     "output_type": "execute_result"
    }
   ],
   "source": [
    "df['f2f_ecomm_flg'].unique()"
   ]
  },
  {
   "cell_type": "markdown",
   "metadata": {},
   "source": [
    "Колонка pos_cash_flg - это тип покупки, картой или наличными"
   ]
  },
  {
   "cell_type": "code",
   "execution_count": 11,
   "metadata": {},
   "outputs": [
    {
     "data": {
      "text/plain": [
       "array(['POS', 'CASH'], dtype=object)"
      ]
     },
     "execution_count": 11,
     "metadata": {},
     "output_type": "execute_result"
    }
   ],
   "source": [
    "df['pos_cash_flg'].unique()"
   ]
  },
  {
   "cell_type": "markdown",
   "metadata": {},
   "source": [
    "Колонка rub_amt - это сумма покупки в рублях"
   ]
  },
  {
   "cell_type": "code",
   "execution_count": 12,
   "metadata": {},
   "outputs": [
    {
     "name": "stdout",
     "output_type": "stream",
     "text": [
      "2.0\n",
      "1237383.0\n"
     ]
    }
   ],
   "source": [
    "print(df['rub_amt'].min())\n",
    "print(df['rub_amt'].max())"
   ]
  },
  {
   "cell_type": "markdown",
   "metadata": {},
   "source": [
    "Колонка purchase_dt - это дата покупки"
   ]
  },
  {
   "cell_type": "code",
   "execution_count": 14,
   "metadata": {},
   "outputs": [
    {
     "name": "stdout",
     "output_type": "stream",
     "text": [
      "2016-10-01 00:00:00\n",
      "2018-09-29 00:00:00\n"
     ]
    }
   ],
   "source": [
    "print(df['purchase_dt'].min())\n",
    "print(df['purchase_dt'].max())"
   ]
  },
  {
   "cell_type": "markdown",
   "metadata": {},
   "source": [
    "Колонки mrch_category_01, mrch_category_02, mrch_category_03, mrch_category_04\n",
    "- это категории покупок, группы от очень узких разделений до более общих"
   ]
  },
  {
   "cell_type": "code",
   "execution_count": 17,
   "metadata": {},
   "outputs": [
    {
     "name": "stdout",
     "output_type": "stream",
     "text": [
      "220\n",
      "52\n",
      "14\n",
      "27\n"
     ]
    }
   ],
   "source": [
    "print(df['mrch_category_01'].nunique())\n",
    "print(df['mrch_category_02'].nunique())\n",
    "print(df['mrch_category_03'].nunique())\n",
    "print(df['mrch_category_04'].nunique())"
   ]
  },
  {
   "cell_type": "markdown",
   "metadata": {},
   "source": [
    "Как видим, дропнуть можно только колонку sample_data, потому что там одно и то же"
   ]
  },
  {
   "cell_type": "code",
   "execution_count": 18,
   "metadata": {},
   "outputs": [],
   "source": [
    "df.drop(columns=['sample_data'],inplace=True)"
   ]
  },
  {
   "cell_type": "markdown",
   "metadata": {},
   "source": [
    "Еще можно из категрий покупок оставить только самую общую, \n",
    "потому что 14 категорий нам в самый раз, а 220 слишком много"
   ]
  },
  {
   "cell_type": "code",
   "execution_count": 19,
   "metadata": {},
   "outputs": [],
   "source": [
    "df.drop(columns=['mrch_category_01','mrch_category_02','mrch_category_04'],inplace=True)"
   ]
  },
  {
   "cell_type": "code",
   "execution_count": 20,
   "metadata": {},
   "outputs": [
    {
     "data": {
      "text/html": [
       "<div>\n",
       "<style scoped>\n",
       "    .dataframe tbody tr th:only-of-type {\n",
       "        vertical-align: middle;\n",
       "    }\n",
       "\n",
       "    .dataframe tbody tr th {\n",
       "        vertical-align: top;\n",
       "    }\n",
       "\n",
       "    .dataframe thead th {\n",
       "        text-align: right;\n",
       "    }\n",
       "</style>\n",
       "<table border=\"1\" class=\"dataframe\">\n",
       "  <thead>\n",
       "    <tr style=\"text-align: right;\">\n",
       "      <th></th>\n",
       "      <th>acct_num_share</th>\n",
       "      <th>issr_code_numb</th>\n",
       "      <th>product_nm</th>\n",
       "      <th>funding_source</th>\n",
       "      <th>mrch_country_nm</th>\n",
       "      <th>f2f_ecomm_flg</th>\n",
       "      <th>pos_cash_flg</th>\n",
       "      <th>rub_amt</th>\n",
       "      <th>purchase_dt</th>\n",
       "      <th>mrch_category_03</th>\n",
       "    </tr>\n",
       "  </thead>\n",
       "  <tbody>\n",
       "    <tr>\n",
       "      <th>0</th>\n",
       "      <td>604ee6361f8a853c947ede4e3c9da372</td>\n",
       "      <td>3</td>\n",
       "      <td>VISA REWARDS</td>\n",
       "      <td>D</td>\n",
       "      <td>RUSSIAN FEDERATION</td>\n",
       "      <td>FACE-TO-FACE</td>\n",
       "      <td>POS</td>\n",
       "      <td>811.0</td>\n",
       "      <td>2018-09-19</td>\n",
       "      <td>FOOD &amp; DRUG</td>\n",
       "    </tr>\n",
       "    <tr>\n",
       "      <th>1</th>\n",
       "      <td>604ee6361f8a853c947ede4e3c9da372</td>\n",
       "      <td>3</td>\n",
       "      <td>VISA REWARDS</td>\n",
       "      <td>D</td>\n",
       "      <td>RUSSIAN FEDERATION</td>\n",
       "      <td>FACE-TO-FACE</td>\n",
       "      <td>POS</td>\n",
       "      <td>175.0</td>\n",
       "      <td>2018-03-19</td>\n",
       "      <td>FUEL</td>\n",
       "    </tr>\n",
       "    <tr>\n",
       "      <th>2</th>\n",
       "      <td>604ee6361f8a853c947ede4e3c9da372</td>\n",
       "      <td>3</td>\n",
       "      <td>VISA REWARDS</td>\n",
       "      <td>D</td>\n",
       "      <td>RUSSIAN FEDERATION</td>\n",
       "      <td>FACE-TO-FACE</td>\n",
       "      <td>POS</td>\n",
       "      <td>1367.0</td>\n",
       "      <td>2017-03-12</td>\n",
       "      <td>RETAIL GOODS</td>\n",
       "    </tr>\n",
       "    <tr>\n",
       "      <th>3</th>\n",
       "      <td>604ee6361f8a853c947ede4e3c9da372</td>\n",
       "      <td>3</td>\n",
       "      <td>VISA REWARDS</td>\n",
       "      <td>D</td>\n",
       "      <td>RUSSIAN FEDERATION</td>\n",
       "      <td>FACE-TO-FACE</td>\n",
       "      <td>POS</td>\n",
       "      <td>6427.0</td>\n",
       "      <td>2017-03-12</td>\n",
       "      <td>RETAIL GOODS</td>\n",
       "    </tr>\n",
       "    <tr>\n",
       "      <th>4</th>\n",
       "      <td>604ee6361f8a853c947ede4e3c9da372</td>\n",
       "      <td>3</td>\n",
       "      <td>VISA REWARDS</td>\n",
       "      <td>D</td>\n",
       "      <td>RUSSIAN FEDERATION</td>\n",
       "      <td>FACE-TO-FACE</td>\n",
       "      <td>POS</td>\n",
       "      <td>284.0</td>\n",
       "      <td>2018-06-19</td>\n",
       "      <td>FOOD &amp; DRUG</td>\n",
       "    </tr>\n",
       "  </tbody>\n",
       "</table>\n",
       "</div>"
      ],
      "text/plain": [
       "                     acct_num_share  issr_code_numb    product_nm  \\\n",
       "0  604ee6361f8a853c947ede4e3c9da372               3  VISA REWARDS   \n",
       "1  604ee6361f8a853c947ede4e3c9da372               3  VISA REWARDS   \n",
       "2  604ee6361f8a853c947ede4e3c9da372               3  VISA REWARDS   \n",
       "3  604ee6361f8a853c947ede4e3c9da372               3  VISA REWARDS   \n",
       "4  604ee6361f8a853c947ede4e3c9da372               3  VISA REWARDS   \n",
       "\n",
       "  funding_source     mrch_country_nm f2f_ecomm_flg pos_cash_flg  rub_amt  \\\n",
       "0              D  RUSSIAN FEDERATION  FACE-TO-FACE          POS    811.0   \n",
       "1              D  RUSSIAN FEDERATION  FACE-TO-FACE          POS    175.0   \n",
       "2              D  RUSSIAN FEDERATION  FACE-TO-FACE          POS   1367.0   \n",
       "3              D  RUSSIAN FEDERATION  FACE-TO-FACE          POS   6427.0   \n",
       "4              D  RUSSIAN FEDERATION  FACE-TO-FACE          POS    284.0   \n",
       "\n",
       "  purchase_dt mrch_category_03  \n",
       "0  2018-09-19      FOOD & DRUG  \n",
       "1  2018-03-19             FUEL  \n",
       "2  2017-03-12     RETAIL GOODS  \n",
       "3  2017-03-12     RETAIL GOODS  \n",
       "4  2018-06-19      FOOD & DRUG  "
      ]
     },
     "execution_count": 20,
     "metadata": {},
     "output_type": "execute_result"
    }
   ],
   "source": [
    "df.head(5)"
   ]
  },
  {
   "cell_type": "markdown",
   "metadata": {},
   "source": [
    "Еще создадим словарь, сопоставляющий дате порядковый номер этой даты, начиная с начала наблюдений"
   ]
  },
  {
   "cell_type": "code",
   "execution_count": 46,
   "metadata": {},
   "outputs": [],
   "source": [
    "num2days = dict(enumerate(sorted(list(set(df['purchase_dt'])))))\n",
    "days2num = {v: k for k, v in num_days.items()}\n",
    "\n",
    "df['day_numb']=list(map(lambda x: days2num[x], df['purchase_dt']))"
   ]
  },
  {
   "cell_type": "code",
   "execution_count": 45,
   "metadata": {},
   "outputs": [
    {
     "data": {
      "text/html": [
       "<div>\n",
       "<style scoped>\n",
       "    .dataframe tbody tr th:only-of-type {\n",
       "        vertical-align: middle;\n",
       "    }\n",
       "\n",
       "    .dataframe tbody tr th {\n",
       "        vertical-align: top;\n",
       "    }\n",
       "\n",
       "    .dataframe thead th {\n",
       "        text-align: right;\n",
       "    }\n",
       "</style>\n",
       "<table border=\"1\" class=\"dataframe\">\n",
       "  <thead>\n",
       "    <tr style=\"text-align: right;\">\n",
       "      <th></th>\n",
       "      <th>acct_num_share</th>\n",
       "      <th>issr_code_numb</th>\n",
       "      <th>product_nm</th>\n",
       "      <th>funding_source</th>\n",
       "      <th>mrch_country_nm</th>\n",
       "      <th>f2f_ecomm_flg</th>\n",
       "      <th>pos_cash_flg</th>\n",
       "      <th>rub_amt</th>\n",
       "      <th>purchase_dt</th>\n",
       "      <th>mrch_category_03</th>\n",
       "      <th>day_numb</th>\n",
       "    </tr>\n",
       "  </thead>\n",
       "  <tbody>\n",
       "    <tr>\n",
       "      <th>0</th>\n",
       "      <td>604ee6361f8a853c947ede4e3c9da372</td>\n",
       "      <td>3</td>\n",
       "      <td>VISA REWARDS</td>\n",
       "      <td>D</td>\n",
       "      <td>RUSSIAN FEDERATION</td>\n",
       "      <td>FACE-TO-FACE</td>\n",
       "      <td>POS</td>\n",
       "      <td>811.0</td>\n",
       "      <td>2018-09-19</td>\n",
       "      <td>FOOD &amp; DRUG</td>\n",
       "      <td>718</td>\n",
       "    </tr>\n",
       "    <tr>\n",
       "      <th>1</th>\n",
       "      <td>604ee6361f8a853c947ede4e3c9da372</td>\n",
       "      <td>3</td>\n",
       "      <td>VISA REWARDS</td>\n",
       "      <td>D</td>\n",
       "      <td>RUSSIAN FEDERATION</td>\n",
       "      <td>FACE-TO-FACE</td>\n",
       "      <td>POS</td>\n",
       "      <td>175.0</td>\n",
       "      <td>2018-03-19</td>\n",
       "      <td>FUEL</td>\n",
       "      <td>534</td>\n",
       "    </tr>\n",
       "    <tr>\n",
       "      <th>2</th>\n",
       "      <td>604ee6361f8a853c947ede4e3c9da372</td>\n",
       "      <td>3</td>\n",
       "      <td>VISA REWARDS</td>\n",
       "      <td>D</td>\n",
       "      <td>RUSSIAN FEDERATION</td>\n",
       "      <td>FACE-TO-FACE</td>\n",
       "      <td>POS</td>\n",
       "      <td>1367.0</td>\n",
       "      <td>2017-03-12</td>\n",
       "      <td>RETAIL GOODS</td>\n",
       "      <td>162</td>\n",
       "    </tr>\n",
       "    <tr>\n",
       "      <th>3</th>\n",
       "      <td>604ee6361f8a853c947ede4e3c9da372</td>\n",
       "      <td>3</td>\n",
       "      <td>VISA REWARDS</td>\n",
       "      <td>D</td>\n",
       "      <td>RUSSIAN FEDERATION</td>\n",
       "      <td>FACE-TO-FACE</td>\n",
       "      <td>POS</td>\n",
       "      <td>6427.0</td>\n",
       "      <td>2017-03-12</td>\n",
       "      <td>RETAIL GOODS</td>\n",
       "      <td>162</td>\n",
       "    </tr>\n",
       "    <tr>\n",
       "      <th>4</th>\n",
       "      <td>604ee6361f8a853c947ede4e3c9da372</td>\n",
       "      <td>3</td>\n",
       "      <td>VISA REWARDS</td>\n",
       "      <td>D</td>\n",
       "      <td>RUSSIAN FEDERATION</td>\n",
       "      <td>FACE-TO-FACE</td>\n",
       "      <td>POS</td>\n",
       "      <td>284.0</td>\n",
       "      <td>2018-06-19</td>\n",
       "      <td>FOOD &amp; DRUG</td>\n",
       "      <td>626</td>\n",
       "    </tr>\n",
       "  </tbody>\n",
       "</table>\n",
       "</div>"
      ],
      "text/plain": [
       "                     acct_num_share  issr_code_numb    product_nm  \\\n",
       "0  604ee6361f8a853c947ede4e3c9da372               3  VISA REWARDS   \n",
       "1  604ee6361f8a853c947ede4e3c9da372               3  VISA REWARDS   \n",
       "2  604ee6361f8a853c947ede4e3c9da372               3  VISA REWARDS   \n",
       "3  604ee6361f8a853c947ede4e3c9da372               3  VISA REWARDS   \n",
       "4  604ee6361f8a853c947ede4e3c9da372               3  VISA REWARDS   \n",
       "\n",
       "  funding_source     mrch_country_nm f2f_ecomm_flg pos_cash_flg  rub_amt  \\\n",
       "0              D  RUSSIAN FEDERATION  FACE-TO-FACE          POS    811.0   \n",
       "1              D  RUSSIAN FEDERATION  FACE-TO-FACE          POS    175.0   \n",
       "2              D  RUSSIAN FEDERATION  FACE-TO-FACE          POS   1367.0   \n",
       "3              D  RUSSIAN FEDERATION  FACE-TO-FACE          POS   6427.0   \n",
       "4              D  RUSSIAN FEDERATION  FACE-TO-FACE          POS    284.0   \n",
       "\n",
       "  purchase_dt mrch_category_03  day_numb  \n",
       "0  2018-09-19      FOOD & DRUG       718  \n",
       "1  2018-03-19             FUEL       534  \n",
       "2  2017-03-12     RETAIL GOODS       162  \n",
       "3  2017-03-12     RETAIL GOODS       162  \n",
       "4  2018-06-19      FOOD & DRUG       626  "
      ]
     },
     "execution_count": 45,
     "metadata": {},
     "output_type": "execute_result"
    }
   ],
   "source": [
    "df.head(5)"
   ]
  },
  {
   "cell_type": "markdown",
   "metadata": {},
   "source": [
    "### 2. Визуализация"
   ]
  },
  {
   "cell_type": "code",
   "execution_count": 37,
   "metadata": {},
   "outputs": [
    {
     "data": {
      "text/plain": [
       "(0, 20000)"
      ]
     },
     "execution_count": 37,
     "metadata": {},
     "output_type": "execute_result"
    },
    {
     "data": {
      "image/png": "[encoded data removed]",
      "text/plain": [
       "<Figure size 720x720 with 1 Axes>"
      ]
     },
     "metadata": {
      "needs_background": "light"
     },
     "output_type": "display_data"
    }
   ],
   "source": [
    "fig = plt.figure(figsize=(10, 10))\n",
    "\n",
    "df2=df.sort_values(by=['purchase_dt'])\n",
    "\n",
    "ax1 = plt.subplot(111)\n",
    "ax1.hist(df2['rub_amt'],bins=200)\n",
    "#df2.plot.hexbin(x='purchase_dt', y='rub_amt',figsize=(17,6), gridsize = 25,cmap ='Blues')\n",
    "ax1.set_xlim([0,20000])"
   ]
  },
  {
   "cell_type": "code",
   "execution_count": 64,
   "metadata": {},
   "outputs": [
    {
     "data": {
      "image/png": "[encoded data removed]",
      "text/plain": [
       "<Figure size 720x720 with 3 Axes>"
      ]
     },
     "metadata": {
      "needs_background": "light"
     },
     "output_type": "display_data"
    }
   ],
   "source": [
    "fig = plt.figure(figsize=(10, 10))\n",
    "\n",
    "mas1=df['rub_amt']\n",
    "mas2=df[df['f2f_ecomm_flg']=='FACE-TO-FACE']['rub_amt']\n",
    "mas3=df[df['f2f_ecomm_flg']=='E-COMM']['rub_amt']\n",
    "\n",
    "ax1 = plt.subplot(311)\n",
    "plt.plot(mas1)\n",
    "plt.title(\"ALL\")\n",
    "\n",
    "ax2 = plt.subplot(312)\n",
    "plt.plot(mas2)\n",
    "plt.title(\"FACE-TO-FACE\")\n",
    "\n",
    "ax3 = plt.subplot(313)\n",
    "plt.plot(mas3)\n",
    "plt.title(\"E-COMM\")\n",
    "\n",
    "plt.show()"
   ]
  },
  {
   "cell_type": "markdown",
   "metadata": {},
   "source": [
    "Видим, что распределение покупок по ценам для категорий покупок FACE-TO-FACE и E-COMM почти не отличаются  "
   ]
  },
  {
   "cell_type": "code",
   "execution_count": null,
   "metadata": {},
   "outputs": [],
   "source": [
    "Посмотрим, отличается ли средние суммы покупок в разных категриях карт"
   ]
  },
  {
   "cell_type": "code",
   "execution_count": 69,
   "metadata": {},
   "outputs": [
    {
     "data": {
      "text/html": [
       "<div>\n",
       "<style scoped>\n",
       "    .dataframe tbody tr th:only-of-type {\n",
       "        vertical-align: middle;\n",
       "    }\n",
       "\n",
       "    .dataframe tbody tr th {\n",
       "        vertical-align: top;\n",
       "    }\n",
       "\n",
       "    .dataframe thead th {\n",
       "        text-align: right;\n",
       "    }\n",
       "</style>\n",
       "<table border=\"1\" class=\"dataframe\">\n",
       "  <thead>\n",
       "    <tr style=\"text-align: right;\">\n",
       "      <th></th>\n",
       "      <th>rub_amt</th>\n",
       "    </tr>\n",
       "    <tr>\n",
       "      <th>product_nm</th>\n",
       "      <th></th>\n",
       "    </tr>\n",
       "  </thead>\n",
       "  <tbody>\n",
       "    <tr>\n",
       "      <th>VISA CLASSIC</th>\n",
       "      <td>2175.231064</td>\n",
       "    </tr>\n",
       "    <tr>\n",
       "      <th>VISA ELECTRON</th>\n",
       "      <td>883.109302</td>\n",
       "    </tr>\n",
       "    <tr>\n",
       "      <th>VISA GOLD</th>\n",
       "      <td>1719.752616</td>\n",
       "    </tr>\n",
       "    <tr>\n",
       "      <th>VISA INFINITE</th>\n",
       "      <td>11251.293292</td>\n",
       "    </tr>\n",
       "    <tr>\n",
       "      <th>VISA PLATINUM</th>\n",
       "      <td>2655.440256</td>\n",
       "    </tr>\n",
       "    <tr>\n",
       "      <th>VISA REWARDS</th>\n",
       "      <td>2321.657341</td>\n",
       "    </tr>\n",
       "    <tr>\n",
       "      <th>VISA SIGNATURE</th>\n",
       "      <td>3197.443476</td>\n",
       "    </tr>\n",
       "  </tbody>\n",
       "</table>\n",
       "</div>"
      ],
      "text/plain": [
       "                     rub_amt\n",
       "product_nm                  \n",
       "VISA CLASSIC     2175.231064\n",
       "VISA ELECTRON     883.109302\n",
       "VISA GOLD        1719.752616\n",
       "VISA INFINITE   11251.293292\n",
       "VISA PLATINUM    2655.440256\n",
       "VISA REWARDS     2321.657341\n",
       "VISA SIGNATURE   3197.443476"
      ]
     },
     "execution_count": 69,
     "metadata": {},
     "output_type": "execute_result"
    }
   ],
   "source": [
    "df_cards=pd.DataFrame(df.groupby(by='product_nm')['rub_amt'].mean())\n",
    "df_cards"
   ]
  },
  {
   "cell_type": "code",
   "execution_count": 75,
   "metadata": {},
   "outputs": [
    {
     "data": {
      "image/png": "[encoded data removed]",
      "text/plain": [
       "<Figure size 936x720 with 1 Axes>"
      ]
     },
     "metadata": {
      "needs_background": "light"
     },
     "output_type": "display_data"
    }
   ],
   "source": [
    "fig = plt.figure(figsize=(13, 10))\n",
    "\n",
    "\n",
    "ax = plt.subplot(111)\n",
    "ax.bar(df_cards.index,df_cards['rub_amt'])\n",
    "\n",
    "ax.set_xlabel(\"Тип карты\")\n",
    "ax.set_ylabel(\"Средний чек\")\n",
    "ax.set_title(\"Средний чек по типу карты\")\n",
    "ax.grid()"
   ]
  },
  {
   "cell_type": "code",
   "execution_count": null,
   "metadata": {},
   "outputs": [],
   "source": []
  }
 ],
 "metadata": {
  "kernelspec": {
   "display_name": "Python 3",
   "language": "python",
   "name": "python3"
  },
  "language_info": {
   "codemirror_mode": {
    "name": "ipython",
    "version": 3
   },
   "file_extension": ".py",
   "mimetype": "text/x-python",
   "name": "python",
   "nbconvert_exporter": "python",
   "pygments_lexer": "ipython3",
   "version": "3.7.3"
  }
 },
 "nbformat": 4,
 "nbformat_minor": 2
}
