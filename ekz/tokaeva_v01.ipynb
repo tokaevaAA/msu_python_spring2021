{
 "cells": [
  {
   "cell_type": "markdown",
   "metadata": {},
   "source": [
    "### Часть 1. Программирование на Python"
   ]
  },
  {
   "cell_type": "markdown",
   "metadata": {},
   "source": [
    "Ссылка на контест:\n",
    "\n",
    "http://45.77.142.102/cgi-bin/new-client?contest_id=11"
   ]
  },
  {
   "cell_type": "markdown",
   "metadata": {},
   "source": [
    "### Часть 2. Проверка статистических гипотез"
   ]
  },
  {
   "cell_type": "markdown",
   "metadata": {},
   "source": [
    "На платформе Delivery Club рестораны с быстрой скоростью доставки (готовка блюда + доставка блюда курьером до клиента), как правило - это рестораны, которые пользуются наибольшей популярность среди пользователей и получают наивысшую оценку (5 баллов). "
   ]
  },
  {
   "cell_type": "markdown",
   "metadata": {},
   "source": [
    "Дан датасет **quality_restaurants.csv**, который преставляет из себя выборку с характеристиками некоторых ресторанов платформы DC. \n",
    "\n",
    "*avg_cook_time* - среднее время готовки ресторана, \n",
    "\n",
    "*avg_rest_toclient_time* - среднее время доставки блюда курьером ресторана до клиента, \n",
    "\n",
    "*rating* - бальная оценка ресторана (средний пользовательский рейтинг).\n",
    "\n",
    "*restaurant_id* - идентификатор ресторана\n",
    "\n",
    "*city_id* - идентификатор города"
   ]
  },
  {
   "cell_type": "markdown",
   "metadata": {},
   "source": [
    "### Задание 1"
   ]
  },
  {
   "cell_type": "markdown",
   "metadata": {},
   "source": [
    "Есть ли разница между **средним временем готовки ресторанов с рейтингом 5 звезд, 4 звезды, меньше 4 звезд.** При оценке использовать непараметрический критерий."
   ]
  },
  {
   "cell_type": "code",
   "execution_count": 1,
   "metadata": {},
   "outputs": [],
   "source": [
    "#Место для решения"
   ]
  },
  {
   "cell_type": "code",
   "execution_count": 21,
   "metadata": {},
   "outputs": [],
   "source": [
    "import pandas as pd\n",
    "import numpy as np\n",
    "from scipy import stats\n",
    "import matplotlib.pyplot as plt\n",
    "%matplotlib inline"
   ]
  },
  {
   "cell_type": "code",
   "execution_count": 6,
   "metadata": {},
   "outputs": [
    {
     "name": "stdout",
     "output_type": "stream",
     "text": [
      "(302, 5)\n"
     ]
    },
    {
     "data": {
      "text/html": [
       "<div>\n",
       "<style scoped>\n",
       "    .dataframe tbody tr th:only-of-type {\n",
       "        vertical-align: middle;\n",
       "    }\n",
       "\n",
       "    .dataframe tbody tr th {\n",
       "        vertical-align: top;\n",
       "    }\n",
       "\n",
       "    .dataframe thead th {\n",
       "        text-align: right;\n",
       "    }\n",
       "</style>\n",
       "<table border=\"1\" class=\"dataframe\">\n",
       "  <thead>\n",
       "    <tr style=\"text-align: right;\">\n",
       "      <th></th>\n",
       "      <th>avg_cook_time</th>\n",
       "      <th>avg_rest_toclient_time</th>\n",
       "      <th>rating</th>\n",
       "      <th>city_id</th>\n",
       "      <th>restaurant_id</th>\n",
       "    </tr>\n",
       "  </thead>\n",
       "  <tbody>\n",
       "    <tr>\n",
       "      <th>0</th>\n",
       "      <td>14.567977</td>\n",
       "      <td>18.829249</td>\n",
       "      <td>5</td>\n",
       "      <td>1</td>\n",
       "      <td>0</td>\n",
       "    </tr>\n",
       "    <tr>\n",
       "      <th>1</th>\n",
       "      <td>2.663857</td>\n",
       "      <td>2.358426</td>\n",
       "      <td>3</td>\n",
       "      <td>3</td>\n",
       "      <td>1</td>\n",
       "    </tr>\n",
       "    <tr>\n",
       "      <th>2</th>\n",
       "      <td>11.066652</td>\n",
       "      <td>13.000000</td>\n",
       "      <td>1</td>\n",
       "      <td>3</td>\n",
       "      <td>2</td>\n",
       "    </tr>\n",
       "    <tr>\n",
       "      <th>3</th>\n",
       "      <td>14.843242</td>\n",
       "      <td>12.670241</td>\n",
       "      <td>5</td>\n",
       "      <td>3</td>\n",
       "      <td>3</td>\n",
       "    </tr>\n",
       "    <tr>\n",
       "      <th>4</th>\n",
       "      <td>8.097093</td>\n",
       "      <td>21.126678</td>\n",
       "      <td>3</td>\n",
       "      <td>2</td>\n",
       "      <td>4</td>\n",
       "    </tr>\n",
       "  </tbody>\n",
       "</table>\n",
       "</div>"
      ],
      "text/plain": [
       "   avg_cook_time  avg_rest_toclient_time  rating  city_id  restaurant_id\n",
       "0      14.567977               18.829249       5        1              0\n",
       "1       2.663857                2.358426       3        3              1\n",
       "2      11.066652               13.000000       1        3              2\n",
       "3      14.843242               12.670241       5        3              3\n",
       "4       8.097093               21.126678       3        2              4"
      ]
     },
     "execution_count": 6,
     "metadata": {},
     "output_type": "execute_result"
    }
   ],
   "source": [
    "df=pd.read_csv(\"quality_restaurants.csv\")\n",
    "print(df.shape)\n",
    "df.head(5)"
   ]
  },
  {
   "cell_type": "markdown",
   "metadata": {},
   "source": [
    "Создали три выборки (соответствующих времени готовки) и хотим проверить, \n",
    "есть ли разница между их средним временем"
   ]
  },
  {
   "cell_type": "code",
   "execution_count": 18,
   "metadata": {},
   "outputs": [],
   "source": [
    "rest5=np.array(df[df['rating']==5]['avg_cook_time'])\n",
    "rest4=np.array(df[df['rating']==4]['avg_cook_time'])\n",
    "rest123=np.array(df[df['rating']<4]['avg_cook_time'])"
   ]
  },
  {
   "cell_type": "code",
   "execution_count": 25,
   "metadata": {},
   "outputs": [
    {
     "name": "stdout",
     "output_type": "stream",
     "text": [
      "[14.56797749 14.84324212 24.16746317 12.8064734  18.47445037]\n",
      "[1.17447045e+01 6.86479871e+00 9.99992722e+06 5.59901920e+00\n",
      " 1.00000000e+01]\n",
      "[ 2.66385732 11.06665212  8.0970927   5.75922928  6.25264183]\n"
     ]
    }
   ],
   "source": [
    "print(rest5[0:5])\n",
    "print(rest4[0:5])\n",
    "print(rest123[0:5])"
   ]
  },
  {
   "cell_type": "code",
   "execution_count": 72,
   "metadata": {},
   "outputs": [
    {
     "name": "stdout",
     "output_type": "stream",
     "text": [
      "43\n",
      "40\n",
      "[9999927.21569108 9999927.21569108 9999927.21569108]\n"
     ]
    }
   ],
   "source": [
    "print(len(rest4))\n",
    "print(len(rest4[np.where(rest4 < 100)]))\n",
    "print(rest4[np.where(rest4 > 100)])"
   ]
  },
  {
   "cell_type": "markdown",
   "metadata": {},
   "source": [
    "В mas4 видим три выброса, выкинем их \n",
    "(можно также заменить на среднее выборки без выбросов)"
   ]
  },
  {
   "cell_type": "code",
   "execution_count": 73,
   "metadata": {},
   "outputs": [
    {
     "name": "stdout",
     "output_type": "stream",
     "text": [
      "15.513275938929116\n",
      "13.346088143392524\n",
      "12.101600034614815\n"
     ]
    }
   ],
   "source": [
    "rest4New=rest4[np.where(rest4 < 100)]\n",
    "print(rest5.mean())\n",
    "print(rest4New.mean())\n",
    "print(rest123.mean())"
   ]
  },
  {
   "cell_type": "code",
   "execution_count": 44,
   "metadata": {},
   "outputs": [
    {
     "data": {
      "image/png": "[encoded data removed]",
      "text/plain": [
       "<Figure size 720x504 with 4 Axes>"
      ]
     },
     "metadata": {
      "needs_background": "light"
     },
     "output_type": "display_data"
    }
   ],
   "source": [
    "fig = plt.figure(figsize=(10, 7))\n",
    "ax1 = plt.subplot(411)\n",
    "plt.hist(rest5)\n",
    "\n",
    "ax2 = plt.subplot(412)\n",
    "plt.hist(rest4)\n",
    "\n",
    "ax3 = plt.subplot(413)\n",
    "plt.hist(rest4New)\n",
    "\n",
    "ax4 = plt.subplot(414)\n",
    "plt.hist(rest123)\n",
    "\n",
    "plt.show()"
   ]
  },
  {
   "cell_type": "code",
   "execution_count": 45,
   "metadata": {},
   "outputs": [
    {
     "name": "stdout",
     "output_type": "stream",
     "text": [
      "rest5: 15.513275938929116\n",
      "rest4New: 13.346088143392524\n",
      "rest123: 12.101600034614815\n"
     ]
    }
   ],
   "source": [
    "print(\"rest5:\", rest5.mean())\n",
    "print(\"rest4New:\", rest4New.mean())\n",
    "print(\"rest123:\", rest123.mean())"
   ]
  },
  {
   "cell_type": "code",
   "execution_count": null,
   "metadata": {},
   "outputs": [],
   "source": []
  },
  {
   "cell_type": "markdown",
   "metadata": {},
   "source": [
    "Будем использовать непараметрический критерий манна-уитни для несвязанных выборок\n",
    "Проверим, как тест работает"
   ]
  },
  {
   "cell_type": "code",
   "execution_count": 60,
   "metadata": {},
   "outputs": [
    {
     "data": {
      "text/plain": [
       "MannwhitneyuResult(statistic=0.0, pvalue=1.4619790390710828e-08)"
      ]
     },
     "execution_count": 60,
     "metadata": {},
     "output_type": "execute_result"
    }
   ],
   "source": [
    "mas1=[1,1,1,1,1,1,1,1,1,1,1,1,1,1,1,1,1]\n",
    "mas2=[5,5,5,5,5,5,5,5,5,5,5,5,5,5,5]\n",
    "stats.mannwhitneyu(mas1, mas2, alternative = 'less')"
   ]
  },
  {
   "cell_type": "code",
   "execution_count": null,
   "metadata": {},
   "outputs": [],
   "source": []
  },
  {
   "cell_type": "markdown",
   "metadata": {},
   "source": [
    "a) проверить гипотезу H0 о том, что время готовки в rest5 и в rest4New равны, \n",
    "против альтернативы H1, что время в rest5 и в rest4New не равны."
   ]
  },
  {
   "cell_type": "code",
   "execution_count": 49,
   "metadata": {},
   "outputs": [
    {
     "data": {
      "text/plain": [
       "MannwhitneyuResult(statistic=2448.0, pvalue=0.07429638512002966)"
      ]
     },
     "execution_count": 49,
     "metadata": {},
     "output_type": "execute_result"
    }
   ],
   "source": [
    "stats.mannwhitneyu(rest4New, rest5, alternative = 'two-sided')"
   ]
  },
  {
   "cell_type": "markdown",
   "metadata": {},
   "source": [
    "Видим, что pvalue=0.84 >0.05, поэтому нулевую гипотезу отвергнуть нельзя"
   ]
  },
  {
   "cell_type": "code",
   "execution_count": null,
   "metadata": {},
   "outputs": [],
   "source": []
  },
  {
   "cell_type": "markdown",
   "metadata": {},
   "source": [
    "b) проверить гипотезу H0 о том, что время готовки в rest5 и в rest123 равны, \n",
    "против альтернативы H1, что время в rest5 и в rest123 не равны."
   ]
  },
  {
   "cell_type": "code",
   "execution_count": 50,
   "metadata": {},
   "outputs": [
    {
     "data": {
      "text/plain": [
       "MannwhitneyuResult(statistic=5644.0, pvalue=2.1158435104545363e-05)"
      ]
     },
     "execution_count": 50,
     "metadata": {},
     "output_type": "execute_result"
    }
   ],
   "source": [
    "stats.mannwhitneyu(rest123, rest5, alternative = 'two-sided')"
   ]
  },
  {
   "cell_type": "markdown",
   "metadata": {},
   "source": [
    "Видим, что pvalue=< 0.05, поэтому нулевую гипотезу отвергаем, \n",
    "то есть времена в rest5 и rest123 не равны"
   ]
  },
  {
   "cell_type": "code",
   "execution_count": null,
   "metadata": {},
   "outputs": [],
   "source": []
  },
  {
   "cell_type": "markdown",
   "metadata": {},
   "source": [
    "Проверим гипотезу H0 о том, что время готовки в rest5 и в rest123 равны, \n",
    "против альтернативы H1, что время в rest123  <  времени в rest5."
   ]
  },
  {
   "cell_type": "code",
   "execution_count": 52,
   "metadata": {},
   "outputs": [
    {
     "data": {
      "text/plain": [
       "MannwhitneyuResult(statistic=5644.0, pvalue=1.0579217552272682e-05)"
      ]
     },
     "execution_count": 52,
     "metadata": {},
     "output_type": "execute_result"
    }
   ],
   "source": [
    "stats.mannwhitneyu(rest123, rest5, alternative = 'less')"
   ]
  },
  {
   "cell_type": "markdown",
   "metadata": {},
   "source": [
    "Видим, что pvalue=< 0.05, поэтому нулевую гипотезу отвергаем, \n",
    "альтернативу принимаем"
   ]
  },
  {
   "cell_type": "code",
   "execution_count": null,
   "metadata": {},
   "outputs": [],
   "source": []
  },
  {
   "cell_type": "markdown",
   "metadata": {},
   "source": [
    "Проверим гипотезу H0 о том, что время готовки в rest5 и в rest123 равны, \n",
    "против альтернативы H1, что время в rest123  > времени в rest5."
   ]
  },
  {
   "cell_type": "code",
   "execution_count": 59,
   "metadata": {},
   "outputs": [
    {
     "data": {
      "text/plain": [
       "MannwhitneyuResult(statistic=5644.0, pvalue=0.9999894999058471)"
      ]
     },
     "execution_count": 59,
     "metadata": {},
     "output_type": "execute_result"
    }
   ],
   "source": [
    "stats.mannwhitneyu(rest123, rest5, alternative = 'greater')"
   ]
  },
  {
   "cell_type": "markdown",
   "metadata": {},
   "source": [
    "Видим, что pvalue> 0.05, поэтому нулевую гипотезу не отвергаем"
   ]
  },
  {
   "cell_type": "code",
   "execution_count": null,
   "metadata": {},
   "outputs": [],
   "source": []
  },
  {
   "cell_type": "markdown",
   "metadata": {},
   "source": [
    "c) проверить гипотезу H0 о том, что время готовки в rest4New и в rest123 равны, против альтернативы H1, что время в rest4New и в rest123 не равны."
   ]
  },
  {
   "cell_type": "code",
   "execution_count": 61,
   "metadata": {},
   "outputs": [
    {
     "data": {
      "text/plain": [
       "MannwhitneyuResult(statistic=1894.0, pvalue=0.22119693883173397)"
      ]
     },
     "execution_count": 61,
     "metadata": {},
     "output_type": "execute_result"
    }
   ],
   "source": [
    "stats.mannwhitneyu(rest123, rest4New, alternative = 'two-sided')"
   ]
  },
  {
   "cell_type": "code",
   "execution_count": null,
   "metadata": {},
   "outputs": [],
   "source": [
    "pvalue > 0.05, поэтому нулевую гипотезу о равенстве отвергнуть не можем"
   ]
  },
  {
   "cell_type": "code",
   "execution_count": null,
   "metadata": {},
   "outputs": [],
   "source": []
  },
  {
   "cell_type": "code",
   "execution_count": 62,
   "metadata": {},
   "outputs": [
    {
     "data": {
      "text/plain": [
       "MannwhitneyuResult(statistic=1894.0, pvalue=0.11059846941586698)"
      ]
     },
     "execution_count": 62,
     "metadata": {},
     "output_type": "execute_result"
    }
   ],
   "source": [
    "stats.mannwhitneyu(rest123, rest4New, alternative = 'less')"
   ]
  },
  {
   "cell_type": "code",
   "execution_count": 63,
   "metadata": {},
   "outputs": [
    {
     "data": {
      "text/plain": [
       "MannwhitneyuResult(statistic=1894.0, pvalue=0.8902082749431278)"
      ]
     },
     "execution_count": 63,
     "metadata": {},
     "output_type": "execute_result"
    }
   ],
   "source": [
    "stats.mannwhitneyu(rest123, rest4New, alternative = 'greater')"
   ]
  },
  {
   "cell_type": "markdown",
   "metadata": {},
   "source": [
    "Тест не смог отвергнуть гипотезу о равенстве ни в пользу правосторонней, ни в пользу левосторонней гипотезы"
   ]
  },
  {
   "cell_type": "markdown",
   "metadata": {},
   "source": [
    "### Задание 2\n"
   ]
  },
  {
   "cell_type": "markdown",
   "metadata": {},
   "source": [
    "Для **города 2** рассчитать силу взаимосвязи между среднем временем готовки ресторана и среднем временем доставки. Позволяют ли полученные данные говорить о существовании связи? "
   ]
  },
  {
   "cell_type": "code",
   "execution_count": 2,
   "metadata": {},
   "outputs": [],
   "source": [
    "#Место для решения"
   ]
  },
  {
   "cell_type": "code",
   "execution_count": 67,
   "metadata": {},
   "outputs": [
    {
     "name": "stdout",
     "output_type": "stream",
     "text": [
      "(97, 5)\n"
     ]
    },
    {
     "data": {
      "text/html": [
       "<div>\n",
       "<style scoped>\n",
       "    .dataframe tbody tr th:only-of-type {\n",
       "        vertical-align: middle;\n",
       "    }\n",
       "\n",
       "    .dataframe tbody tr th {\n",
       "        vertical-align: top;\n",
       "    }\n",
       "\n",
       "    .dataframe thead th {\n",
       "        text-align: right;\n",
       "    }\n",
       "</style>\n",
       "<table border=\"1\" class=\"dataframe\">\n",
       "  <thead>\n",
       "    <tr style=\"text-align: right;\">\n",
       "      <th></th>\n",
       "      <th>avg_cook_time</th>\n",
       "      <th>avg_rest_toclient_time</th>\n",
       "      <th>rating</th>\n",
       "      <th>city_id</th>\n",
       "      <th>restaurant_id</th>\n",
       "    </tr>\n",
       "  </thead>\n",
       "  <tbody>\n",
       "    <tr>\n",
       "      <th>4</th>\n",
       "      <td>8.097093</td>\n",
       "      <td>21.126678</td>\n",
       "      <td>3</td>\n",
       "      <td>2</td>\n",
       "      <td>4</td>\n",
       "    </tr>\n",
       "    <tr>\n",
       "      <th>5</th>\n",
       "      <td>24.167463</td>\n",
       "      <td>15.557156</td>\n",
       "      <td>5</td>\n",
       "      <td>2</td>\n",
       "      <td>5</td>\n",
       "    </tr>\n",
       "    <tr>\n",
       "      <th>6</th>\n",
       "      <td>12.806473</td>\n",
       "      <td>25.317246</td>\n",
       "      <td>5</td>\n",
       "      <td>2</td>\n",
       "      <td>6</td>\n",
       "    </tr>\n",
       "    <tr>\n",
       "      <th>7</th>\n",
       "      <td>5.759229</td>\n",
       "      <td>9.280962</td>\n",
       "      <td>3</td>\n",
       "      <td>2</td>\n",
       "      <td>7</td>\n",
       "    </tr>\n",
       "    <tr>\n",
       "      <th>15</th>\n",
       "      <td>12.947928</td>\n",
       "      <td>7.920449</td>\n",
       "      <td>5</td>\n",
       "      <td>2</td>\n",
       "      <td>15</td>\n",
       "    </tr>\n",
       "  </tbody>\n",
       "</table>\n",
       "</div>"
      ],
      "text/plain": [
       "    avg_cook_time  avg_rest_toclient_time  rating  city_id  restaurant_id\n",
       "4        8.097093               21.126678       3        2              4\n",
       "5       24.167463               15.557156       5        2              5\n",
       "6       12.806473               25.317246       5        2              6\n",
       "7        5.759229                9.280962       3        2              7\n",
       "15      12.947928                7.920449       5        2             15"
      ]
     },
     "execution_count": 67,
     "metadata": {},
     "output_type": "execute_result"
    }
   ],
   "source": [
    "city2=df[df['city_id']==2]\n",
    "print(city2.shape)\n",
    "city2.head(5)"
   ]
  },
  {
   "cell_type": "code",
   "execution_count": 68,
   "metadata": {},
   "outputs": [],
   "source": [
    "gotovka=np.array(city2['avg_cook_time'])\n",
    "dostavka=np.array(city2['avg_rest_toclient_time'])"
   ]
  },
  {
   "cell_type": "code",
   "execution_count": 70,
   "metadata": {},
   "outputs": [
    {
     "data": {
      "image/png": "[encoded data removed]",
      "text/plain": [
       "<Figure size 360x216 with 2 Axes>"
      ]
     },
     "metadata": {
      "needs_background": "light"
     },
     "output_type": "display_data"
    }
   ],
   "source": [
    "fig = plt.figure(figsize=(5, 3))\n",
    "ax1 = plt.subplot(211)\n",
    "plt.hist(gotovka)\n",
    "\n",
    "ax2 = plt.subplot(212)\n",
    "plt.hist(dostavka)\n",
    "\n",
    "plt.show()"
   ]
  },
  {
   "cell_type": "markdown",
   "metadata": {},
   "source": [
    "Видим, что есть выбросы"
   ]
  },
  {
   "cell_type": "code",
   "execution_count": 75,
   "metadata": {},
   "outputs": [
    {
     "name": "stdout",
     "output_type": "stream",
     "text": [
      "[9999927.21569108]\n",
      "[88887789.93528406]\n"
     ]
    }
   ],
   "source": [
    "print(gotovka[np.where(gotovka > 100)])\n",
    "print(dostavka[np.where(dostavka > 100)])"
   ]
  },
  {
   "cell_type": "code",
   "execution_count": 85,
   "metadata": {},
   "outputs": [],
   "source": [
    "gotovkaNew=gotovka[np.where(gotovka < 100)]\n",
    "dostavkaNew=dostavka[np.where(dostavka < 100)]"
   ]
  },
  {
   "cell_type": "code",
   "execution_count": 92,
   "metadata": {},
   "outputs": [
    {
     "data": {
      "text/html": [
       "<div>\n",
       "<style scoped>\n",
       "    .dataframe tbody tr th:only-of-type {\n",
       "        vertical-align: middle;\n",
       "    }\n",
       "\n",
       "    .dataframe tbody tr th {\n",
       "        vertical-align: top;\n",
       "    }\n",
       "\n",
       "    .dataframe thead th {\n",
       "        text-align: right;\n",
       "    }\n",
       "</style>\n",
       "<table border=\"1\" class=\"dataframe\">\n",
       "  <thead>\n",
       "    <tr style=\"text-align: right;\">\n",
       "      <th></th>\n",
       "      <th>gotovka</th>\n",
       "      <th>dostavka</th>\n",
       "    </tr>\n",
       "  </thead>\n",
       "  <tbody>\n",
       "    <tr>\n",
       "      <th>0</th>\n",
       "      <td>8.097093</td>\n",
       "      <td>21.126678</td>\n",
       "    </tr>\n",
       "    <tr>\n",
       "      <th>1</th>\n",
       "      <td>24.167463</td>\n",
       "      <td>15.557156</td>\n",
       "    </tr>\n",
       "    <tr>\n",
       "      <th>2</th>\n",
       "      <td>12.806473</td>\n",
       "      <td>25.317246</td>\n",
       "    </tr>\n",
       "    <tr>\n",
       "      <th>3</th>\n",
       "      <td>5.759229</td>\n",
       "      <td>9.280962</td>\n",
       "    </tr>\n",
       "    <tr>\n",
       "      <th>4</th>\n",
       "      <td>12.947928</td>\n",
       "      <td>7.920449</td>\n",
       "    </tr>\n",
       "  </tbody>\n",
       "</table>\n",
       "</div>"
      ],
      "text/plain": [
       "     gotovka   dostavka\n",
       "0   8.097093  21.126678\n",
       "1  24.167463  15.557156\n",
       "2  12.806473  25.317246\n",
       "3   5.759229   9.280962\n",
       "4  12.947928   7.920449"
      ]
     },
     "execution_count": 92,
     "metadata": {},
     "output_type": "execute_result"
    }
   ],
   "source": [
    "mydict = {'gotovka': gotovkaNew, 'dostavka': dostavkaNew}\n",
    "new_df=pd.DataFrame(mydict)\n",
    "new_df.head(5)"
   ]
  },
  {
   "cell_type": "code",
   "execution_count": 93,
   "metadata": {},
   "outputs": [
    {
     "data": {
      "text/html": [
       "<div>\n",
       "<style scoped>\n",
       "    .dataframe tbody tr th:only-of-type {\n",
       "        vertical-align: middle;\n",
       "    }\n",
       "\n",
       "    .dataframe tbody tr th {\n",
       "        vertical-align: top;\n",
       "    }\n",
       "\n",
       "    .dataframe thead th {\n",
       "        text-align: right;\n",
       "    }\n",
       "</style>\n",
       "<table border=\"1\" class=\"dataframe\">\n",
       "  <thead>\n",
       "    <tr style=\"text-align: right;\">\n",
       "      <th></th>\n",
       "      <th>gotovka</th>\n",
       "      <th>dostavka</th>\n",
       "    </tr>\n",
       "  </thead>\n",
       "  <tbody>\n",
       "    <tr>\n",
       "      <th>gotovka</th>\n",
       "      <td>1.000000</td>\n",
       "      <td>-0.096783</td>\n",
       "    </tr>\n",
       "    <tr>\n",
       "      <th>dostavka</th>\n",
       "      <td>-0.096783</td>\n",
       "      <td>1.000000</td>\n",
       "    </tr>\n",
       "  </tbody>\n",
       "</table>\n",
       "</div>"
      ],
      "text/plain": [
       "           gotovka  dostavka\n",
       "gotovka   1.000000 -0.096783\n",
       "dostavka -0.096783  1.000000"
      ]
     },
     "execution_count": 93,
     "metadata": {},
     "output_type": "execute_result"
    }
   ],
   "source": [
    "new_df[['gotovka','dostavka']].corr()"
   ]
  },
  {
   "cell_type": "markdown",
   "metadata": {},
   "source": [
    "Видим, что корреляция очень маленькая"
   ]
  },
  {
   "cell_type": "markdown",
   "metadata": {},
   "source": [
    "Проверим это тестом: \n",
    "нулевая гипотеза: корреляция=0,\n",
    "    альтернатива-что не равна"
   ]
  },
  {
   "cell_type": "code",
   "execution_count": 95,
   "metadata": {},
   "outputs": [
    {
     "data": {
      "text/plain": [
       "(-0.09678320877190644, 0.3482133328271465)"
      ]
     },
     "execution_count": 95,
     "metadata": {},
     "output_type": "execute_result"
    }
   ],
   "source": [
    "stats.pearsonr(new_df.gotovka,new_df.dostavka)"
   ]
  },
  {
   "cell_type": "markdown",
   "metadata": {},
   "source": [
    "pvalue > 0.05, поэтому нулевую гипотезу о равенстве корреляции нулю - не отвергаем"
   ]
  },
  {
   "cell_type": "markdown",
   "metadata": {},
   "source": [
    "### Часть 3. SQL"
   ]
  },
  {
   "cell_type": "markdown",
   "metadata": {},
   "source": [
    "Дана таблица **CLIENTS** со следующими столбцами: id (идентификатор клиента), point (местоположение клиента).\n",
    "Также дана таблица **RESTAURANTS**, поля - id (идентификатор ресторана), point (местоположение ресторана).\n",
    "Задача - написать SQL-запрос, отвечающий на следующий вопрос: какое среднее расстояние между каждым клиентом и каждым рестораном.\n",
    "\n",
    "*Примечание*: функция для вычисления расстояни между 2 местоположениями - st_distance(point1,point2)."
   ]
  },
  {
   "cell_type": "code",
   "execution_count": 3,
   "metadata": {},
   "outputs": [],
   "source": [
    "#Место для решения\n",
    "#Надо написать только код запроса"
   ]
  },
  {
   "cell_type": "code",
   "execution_count": null,
   "metadata": {},
   "outputs": [],
   "source": [
    "\"\"\"SELECT st_distance(cl.point, rest.point)\n",
    "FROM CLIENTS as cl, RESTAURANTS as rest \n",
    " \"\"\"\n",
    "#это декартово произведение"
   ]
  },
  {
   "cell_type": "code",
   "execution_count": null,
   "metadata": {},
   "outputs": [],
   "source": []
  },
  {
   "cell_type": "code",
   "execution_count": 119,
   "metadata": {},
   "outputs": [],
   "source": [
    "import time\n",
    "import functools\n",
    "import math\n",
    "\n",
    "\n",
    "def retry(check, n_attempts=5):\n",
    "    def decorator(func):\n",
    "        @functools.wraps(func)\n",
    "        def wrapper(*args, **argv):\n",
    "            \n",
    "            nonlocal n_attempts\n",
    "            state_of_check=False\n",
    "            \n",
    "            if (n_attempts is None or n_attempts <=0):\n",
    "                while True:\n",
    "                    result = func(*args, **argv)\n",
    "                    state_of_check=check(result)\n",
    "                    if (state_of_check):\n",
    "                        break\n",
    "                    \n",
    "            else:\n",
    "                for i in range(n_attempts):\n",
    "                    result = func(*args, **argv)\n",
    "                    state_of_check=check(result)\n",
    "                    if (state_of_check):\n",
    "                        break\n",
    "                \n",
    "            if (state_of_check is False):\n",
    "                raise RuntimeError(\"Expired number of retries\")\n",
    "                \n",
    "            return result\n",
    "        return wrapper\n",
    "    return decorator"
   ]
  },
  {
   "cell_type": "code",
   "execution_count": 120,
   "metadata": {},
   "outputs": [
    {
     "name": "stdout",
     "output_type": "stream",
     "text": [
      "3\n"
     ]
    }
   ],
   "source": [
    "@retry(check=bool)\n",
    "def func(a):\n",
    "    return a\n",
    "\n",
    "try:\n",
    "    print(func(3))\n",
    "except RuntimeError as e:\n",
    "    print(e)"
   ]
  },
  {
   "cell_type": "code",
   "execution_count": 121,
   "metadata": {},
   "outputs": [
    {
     "name": "stdout",
     "output_type": "stream",
     "text": [
      "5\n"
     ]
    }
   ],
   "source": [
    "gen = iter(range(100))\n",
    "\n",
    "@retry(check=lambda x: x >= 5, n_attempts=6)\n",
    "def func():\n",
    "    return next(gen, -1)\n",
    "\n",
    "try:\n",
    "    print(func())\n",
    "except RuntimeError as e:\n",
    "    print(e)"
   ]
  },
  {
   "cell_type": "code",
   "execution_count": 122,
   "metadata": {},
   "outputs": [
    {
     "name": "stdout",
     "output_type": "stream",
     "text": [
      "Expired number of retries\n"
     ]
    }
   ],
   "source": [
    "gen = iter(range(2))\n",
    "\n",
    "@retry(check=lambda x: x >= 5, n_attempts=6)\n",
    "def func():\n",
    "    return next(gen, -1)\n",
    "\n",
    "try:\n",
    "    print(func())\n",
    "except RuntimeError as e:\n",
    "    print(e)\n"
   ]
  },
  {
   "cell_type": "code",
   "execution_count": 123,
   "metadata": {},
   "outputs": [
    {
     "name": "stdout",
     "output_type": "stream",
     "text": [
      "-1\n"
     ]
    }
   ],
   "source": [
    "gen = iter(range(1000))\n",
    "\n",
    "@retry(check=lambda x: x < 0, n_attempts=-1)\n",
    "def func():\n",
    "    return next(gen, -1)\n",
    "\n",
    "try:\n",
    "    print(func())\n",
    "except RuntimeError as e:\n",
    "    print(e)"
   ]
  },
  {
   "cell_type": "code",
   "execution_count": null,
   "metadata": {},
   "outputs": [],
   "source": []
  },
  {
   "cell_type": "code",
   "execution_count": 197,
   "metadata": {},
   "outputs": [],
   "source": [
    "def sew(mas1, mas2):\n",
    "    if len(mas1) == 0:\n",
    "        return mas2\n",
    "    if len(mas2) == 0:\n",
    "        return mas1\n",
    "    if mas1[0] > mas2[0]:\n",
    "        mas1, mas2 = mas2, mas1\n",
    "    otv = []\n",
    "    otv.append(mas1[0])\n",
    "    i = 1\n",
    "    j = 0\n",
    "    while (i < len(mas1) and j < len(mas2)):\n",
    "        while (j < len(mas2) and mas2[j] < mas1[i]):\n",
    "            otv.append(mas2[j])\n",
    "            j = j + 1\n",
    "        otv.append(mas1[i])\n",
    "        i = i + 1\n",
    "    while (i < len(mas1)):\n",
    "        otv.append(mas1[i])\n",
    "        i = i + 1\n",
    "    while(j < len(mas2)):\n",
    "        otv.append(mas2[j])\n",
    "        j = j + 1\n",
    "    return otv\n",
    "\n",
    "\n",
    "def merge_sort(mas, group_len=1):\n",
    "    mas = [el for el in mas]\n",
    "    if (group_len >= len(mas)):\n",
    "        return\n",
    "    new_mas = []\n",
    "    i = 0\n",
    "    while (i + 2 * group_len - 1 <= len(mas)):\n",
    "        mas1 = mas[i: i + group_len]\n",
    "        mas2 = mas[i + group_len: i + 2 * group_len]\n",
    "        for el in sew(mas1, mas2):\n",
    "            new_mas.append(el)\n",
    "        i = i + 2 * group_len\n",
    "    if (i + group_len - 1 <= len(mas)):\n",
    "        mas1 = mas[i: i + group_len]\n",
    "        mas2 = mas[i + group_len:]\n",
    "        for el in sew(mas1, mas2):\n",
    "            new_mas.append(el)\n",
    "    else:\n",
    "        for el in mas[i:]:\n",
    "            new_mas.append(el)\n",
    "    yield new_mas\n",
    "    yield from merge_sort(new_mas, 2 * group_len)\n"
   ]
  },
  {
   "cell_type": "code",
   "execution_count": 198,
   "metadata": {},
   "outputs": [
    {
     "name": "stdout",
     "output_type": "stream",
     "text": [
      "[3, 5, 4, 6]\n",
      "[3, 4, 5, 6]\n"
     ]
    }
   ],
   "source": [
    "for item in merge_sort([5, 3, 4, 6]):\n",
    "    print(item)"
   ]
  },
  {
   "cell_type": "code",
   "execution_count": 199,
   "metadata": {},
   "outputs": [
    {
     "name": "stdout",
     "output_type": "stream",
     "text": [
      "[12, 13, 10, 11, 8, 9, 6, 7, 4, 5, 2, 3, 0, 1]\n",
      "[10, 11, 12, 13, 6, 7, 8, 9, 2, 3, 4, 5, 0, 1]\n",
      "[6, 7, 8, 9, 10, 11, 12, 13, 0, 1, 2, 3, 4, 5]\n",
      "[0, 1, 2, 3, 4, 5, 6, 7, 8, 9, 10, 11, 12, 13]\n"
     ]
    }
   ],
   "source": [
    "for item in merge_sort(reversed(range(14))):\n",
    "    print(item)"
   ]
  },
  {
   "cell_type": "code",
   "execution_count": 200,
   "metadata": {},
   "outputs": [
    {
     "name": "stdout",
     "output_type": "stream",
     "text": [
      "[3, 5, 4, 8, 6]\n",
      "[3, 4, 5, 8, 6]\n",
      "[3, 4, 5, 6, 8]\n"
     ]
    }
   ],
   "source": [
    "for item in merge_sort([5, 3,8, 4, 6]):\n",
    "    print(item)"
   ]
  },
  {
   "cell_type": "code",
   "execution_count": null,
   "metadata": {},
   "outputs": [],
   "source": []
  }
 ],
 "metadata": {
  "kernelspec": {
   "display_name": "Python 3",
   "language": "python",
   "name": "python3"
  },
  "language_info": {
   "codemirror_mode": {
    "name": "ipython",
    "version": 3
   },
   "file_extension": ".py",
   "mimetype": "text/x-python",
   "name": "python",
   "nbconvert_exporter": "python",
   "pygments_lexer": "ipython3",
   "version": "3.7.3"
  }
 },
 "nbformat": 4,
 "nbformat_minor": 2
}
