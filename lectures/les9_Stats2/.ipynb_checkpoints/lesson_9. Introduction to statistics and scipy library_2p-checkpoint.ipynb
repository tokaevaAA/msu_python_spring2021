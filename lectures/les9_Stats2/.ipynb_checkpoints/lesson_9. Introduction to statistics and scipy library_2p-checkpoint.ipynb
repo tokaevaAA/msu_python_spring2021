{
 "cells": [
  {
   "cell_type": "markdown",
   "metadata": {},
   "source": [
    "### 2.7 Доверительные интервалы"
   ]
  },
  {
   "cell_type": "markdown",
   "metadata": {},
   "source": [
    "Проверка гипотез - качественная оценка, с помощью доверительных интервалов можем получить количественную оценку."
   ]
  },
  {
   "cell_type": "markdown",
   "metadata": {},
   "source": [
    "В математической статистике - интервал, в пределах которого с заданной вероятностью лежат выборочные оценки статистических характеристик генеральной совокупности."
   ]
  },
  {
   "cell_type": "markdown",
   "metadata": {},
   "source": [
    "**ДИ для разности средних**"
   ]
  },
  {
   "cell_type": "markdown",
   "metadata": {},
   "source": [
    "Видоизменим формулу для $\\Large t$ так, чтобы распределение были центрировано относительно 0, просто вычитая разность истинных(!) средних распредления, то есть средних генеральной совокупности, разницу которых мы и хотим оценить."
   ]
  },
  {
   "cell_type": "markdown",
   "metadata": {},
   "source": [
    "**t** = $ \\Large \\frac{\\text{Разность выборочных средних} - \\text{Разность истинных средних}} {\\text{Стандартная ошибка разности выборочных средних}} $"
   ]
  },
  {
   "cell_type": "markdown",
   "metadata": {},
   "source": [
    "**t** = $ \\Large \\frac{\\overline{X_1}-\\overline{X_2}} {{S_{\\overline{X_1} - \\overline{X_2}}}} = \\frac{(\\overline{X_1}-\\overline{X_2}) - (\\mu_1 - \\mu_2)} {{S_{\\overline{X_1} - \\overline{X_2}}}} $, также справедливо, так как $ 100(1 – \\alpha/2) $\n",
    "процентов значений t попадают в интервал от $ –t\\alpha/2 $ до $ +t\\alpha/2 $.\n",
    "\n",
    "$\\Large - t_{\\alpha/2} < \\frac{(\\overline{X_1}-\\overline{X_2}) - (\\mu_1 - \\mu_2)} {{S_{\\overline{X_1} - \\overline{X_2}}}} < + t_{\\alpha/2}$,\n",
    "\n",
    "$\\Large (\\overline{X_1}-\\overline{X_2}) - t_{\\alpha / 2} S_{\\overline{X_1} - \\overline{X_2}} < \\mu_1 - \\mu_2 <  (\\overline{X_1}-\\overline{X_2}) + t_{\\alpha/2} S_{\\overline{X_1} - \\overline{X_2}} $"
   ]
  },
  {
   "cell_type": "markdown",
   "metadata": {},
   "source": [
    "Полученное неравенство задает **доверительный интервал** для разности средних, в этот интервал разность истинных средних попадет в 95% случаев, при $\\Large \\alpha$ = 0.05."
   ]
  },
  {
   "cell_type": "markdown",
   "metadata": {},
   "source": [
    "**Задача**. Курьеры ездили на велосипедах, затем им выдали электросамокаты. Понять, увеличилась ли скорость доставки на электросамокатах. "
   ]
  },
  {
   "cell_type": "code",
   "execution_count": 1,
   "metadata": {},
   "outputs": [],
   "source": [
    "from scipy import stats\n",
    "import pandas as pd\n",
    "import numpy as np\n",
    "np.random.seed(seed=233423)\n",
    "\n",
    "import matplotlib.pyplot as plt\n",
    "%matplotlib inline\n",
    "\n",
    "\n",
    "# Построим две новые теоретические генеральные совокупности:\n",
    "# курьеры, которые доставляли на велосипедах:\n",
    "norm_vel = stats.norm(loc=37, scale = 10)\n",
    "# курьеры, которые доставляли на электросамокатах:\n",
    "norm_sam = stats.norm(loc=28, scale = 13)\n",
    "\n",
    "norm_vel_sample = norm_vel.rvs(size=50)\n",
    "norm_sam_sample = norm_sam.rvs(size=50)"
   ]
  },
  {
   "cell_type": "code",
   "execution_count": 2,
   "metadata": {},
   "outputs": [
    {
     "name": "stdout",
     "output_type": "stream",
     "text": [
      "(2.2673047124784818, 11.246070352844225)\n"
     ]
    }
   ],
   "source": [
    "#Расчет для задачи про курьеров на разных транспортных средствах\n",
    "import statsmodels.stats.api as sms\n",
    "cm = sms.CompareMeans(sms.DescrStatsW(norm_vel_sample), sms.DescrStatsW(norm_sam_sample))\n",
    "print (cm.tconfint_diff())"
   ]
  },
  {
   "cell_type": "markdown",
   "metadata": {},
   "source": [
    "То есть, с 95% вероятностью можно утверждать, что с новыми самокатами курьеры уменьшили время доставки от 2 до 11 минут."
   ]
  },
  {
   "cell_type": "markdown",
   "metadata": {},
   "source": [
    "**Если 100(1 – α)-процентный доверительный интервал разности средних не содержит нуля, то различия статистически значимы (Р < α); напротив, если этот интервал содержит ноль, то различия статистически не значимы (Р > α).**"
   ]
  },
  {
   "cell_type": "markdown",
   "metadata": {},
   "source": [
    "Можно применять, как и в случае с критериями, только тогда, когда совокупность имеет хотя бы приближенно нормальное распредление. "
   ]
  },
  {
   "cell_type": "markdown",
   "metadata": {},
   "source": [
    "С помощью доверительных интервалов мы точно также можем проверять статистические гипотезы."
   ]
  },
  {
   "cell_type": "code",
   "execution_count": 3,
   "metadata": {},
   "outputs": [
    {
     "name": "stdout",
     "output_type": "stream",
     "text": [
      "(0.813884439289728, 12.699490626032977)\n"
     ]
    }
   ],
   "source": [
    "cm = sms.CompareMeans(sms.DescrStatsW(norm_vel_sample), sms.DescrStatsW(norm_sam_sample))\n",
    "print (cm.tconfint_diff(alpha=0.01))"
   ]
  },
  {
   "cell_type": "markdown",
   "metadata": {},
   "source": [
    "Здесь уже утверждаем с вероятностью 99%."
   ]
  },
  {
   "cell_type": "markdown",
   "metadata": {},
   "source": [
    "**ДИ для среднего**"
   ]
  },
  {
   "cell_type": "markdown",
   "metadata": {},
   "source": [
    "$ \\Large \\overline{X} - t_{\\alpha/2} S_{\\overline{X}} < \\mu <  \\overline{X} + t_{\\alpha/2} S_{\\overline{X}} $"
   ]
  },
  {
   "cell_type": "code",
   "execution_count": 4,
   "metadata": {},
   "outputs": [
    {
     "data": {
      "text/plain": [
       "(33.20110922608528, 38.33652874013045)"
      ]
     },
     "execution_count": 4,
     "metadata": {},
     "output_type": "execute_result"
    }
   ],
   "source": [
    "t = sms.DescrStatsW(norm_vel_sample)\n",
    "t.tconfint_mean()"
   ]
  },
  {
   "cell_type": "markdown",
   "metadata": {},
   "source": [
    "То есть истинное среднее с 95% вероятностью лежит в интервале от 33 до 38 минуты."
   ]
  },
  {
   "cell_type": "markdown",
   "metadata": {},
   "source": [
    "**ДИ для разности долей**"
   ]
  },
  {
   "cell_type": "markdown",
   "metadata": {},
   "source": [
    "$ \\Large (\\hat{p_1}-\\hat{p_2}) - z_{\\alpha/2} S_{\\hat{p_1} - \\hat{p_2}} < p1 - p2 <  (\\hat{p_1}-\\hat{p_2}) + z_{\\alpha/2} S_{\\hat{p_1} - \\hat{p_2}} $"
   ]
  },
  {
   "cell_type": "code",
   "execution_count": 5,
   "metadata": {},
   "outputs": [],
   "source": [
    "def proportions_diff_confint_ind(sample1, sample2, alpha = 0.05): \n",
    "    #PPF - оппределяет значение функции по заданной вероятности     \n",
    "    \n",
    "    #Z-критерий имеет нормальное распределение\n",
    "    z = stats.norm.ppf(1 - alpha / 2.)\n",
    "    \n",
    "    p1 = float(sum(sample1)) / len(sample1)\n",
    "    p2 = float(sum(sample2)) / len(sample2)\n",
    "    \n",
    "    left_boundary = (p1 - p2) - z * np.sqrt(p1 * (1 - p1)/ len(sample1) + p2 * (1 - p2)/ len(sample2))\n",
    "    right_boundary = (p1 - p2) + z * np.sqrt(p1 * (1 - p1)/ len(sample1) + p2 * (1 - p2)/ len(sample2))\n",
    "    \n",
    "    return (left_boundary, right_boundary)"
   ]
  },
  {
   "cell_type": "markdown",
   "metadata": {},
   "source": [
    "Еще раз про **pdf**,**ppf** и **cdf**"
   ]
  },
  {
   "cell_type": "code",
   "execution_count": 6,
   "metadata": {},
   "outputs": [],
   "source": [
    "gaussian = stats.norm(loc=0.0, scale=1.0)\n",
    "x = np.linspace(-5.0, 5.0, 100)"
   ]
  },
  {
   "cell_type": "code",
   "execution_count": 7,
   "metadata": {},
   "outputs": [
    {
     "data": {
      "text/plain": [
       "[<matplotlib.lines.Line2D at 0x1efd1a664e0>]"
      ]
     },
     "execution_count": 7,
     "metadata": {},
     "output_type": "execute_result"
    },
    {
     "data": {
      "image/png": "[encoded data removed]",
      "text/plain": [
       "<Figure size 432x288 with 1 Axes>"
      ]
     },
     "metadata": {
      "needs_background": "light"
     },
     "output_type": "display_data"
    }
   ],
   "source": [
    "# при заданном распределении, какова вероятность наблюдения\n",
    "y_pdf = gaussian.pdf(x)\n",
    "plt.plot(x,y_pdf)"
   ]
  },
  {
   "cell_type": "code",
   "execution_count": 8,
   "metadata": {},
   "outputs": [
    {
     "data": {
      "text/plain": [
       "[<matplotlib.lines.Line2D at 0x1efd1b12940>]"
      ]
     },
     "execution_count": 8,
     "metadata": {},
     "output_type": "execute_result"
    },
    {
     "data": {
      "image/png": "[encoded data removed]",
      "text/plain": [
       "<Figure size 432x288 with 1 Axes>"
      ]
     },
     "metadata": {
      "needs_background": "light"
     },
     "output_type": "display_data"
    }
   ],
   "source": [
    "# при заданном распределении, какова вероятность того, что результат окажется меньше или равен заданному\n",
    "z = gaussian.cdf(x)\n",
    "plt.plot(x,z)"
   ]
  },
  {
   "cell_type": "code",
   "execution_count": 9,
   "metadata": {},
   "outputs": [
    {
     "name": "stdout",
     "output_type": "stream",
     "text": [
      "0.0\n",
      "-2.3263478740408408\n"
     ]
    }
   ],
   "source": [
    "# Функция обратная CDF, где у нас задаются вероятности\n",
    "# Какое значение имеет заданную вероятность при заданной функции распределения\n",
    "print(stats.norm.ppf(0.5))\n",
    "print(stats.norm.ppf(0.01))"
   ]
  },
  {
   "cell_type": "code",
   "execution_count": 10,
   "metadata": {},
   "outputs": [
    {
     "data": {
      "text/plain": [
       "[<matplotlib.lines.Line2D at 0x1efd1b78dd8>]"
      ]
     },
     "execution_count": 10,
     "metadata": {},
     "output_type": "execute_result"
    },
    {
     "data": {
      "image/png": "[encoded data removed]",
      "text/plain": [
       "<Figure size 432x288 with 1 Axes>"
      ]
     },
     "metadata": {
      "needs_background": "light"
     },
     "output_type": "display_data"
    }
   ],
   "source": [
    "probs = np.linspace(0.1,0.9,100)\n",
    "ppf = gaussian.ppf(probs)\n",
    "plt.plot(probs,ppf)"
   ]
  },
  {
   "cell_type": "markdown",
   "metadata": {},
   "source": [
    "**ДИ для разности долей (связанные выборки)**"
   ]
  },
  {
   "cell_type": "markdown",
   "metadata": {},
   "source": [
    "$$ \\Large \\frac{f - g}{n} - z_{\\alpha/2}\\sqrt{\\frac{f + g}{n^2} - \\frac{(f - g)^2}{n^3}} <p_1 - p_2 <  \\frac{f - g}{n} + z_{\\alpha/2}\\sqrt{\\frac{f + g}{n^2} - \\frac{(f - g)^2}{n^3}}$$"
   ]
  },
  {
   "cell_type": "code",
   "execution_count": 11,
   "metadata": {},
   "outputs": [],
   "source": [
    "def proportions_confint_diff_rel(sample1, sample2, alpha = 0.05):\n",
    "    z = stats.norm.ppf(1 - alpha / 2.)\n",
    "    sample = zip(sample1, sample2)\n",
    "    n = len(sample)\n",
    "        \n",
    "    f = sum([1 if (x[0] == 1 and x[1] == 0) else 0 for x in sample])\n",
    "    g = sum([1 if (x[0] == 0 and x[1] == 1) else 0 for x in sample])\n",
    "    \n",
    "    left_boundary = float(f - g) / n  - z * np.sqrt(float((f + g)) / n**2 - float((f - g)**2) / n**3)\n",
    "    right_boundary = float(f - g) / n  + z * np.sqrt(float((f + g)) / n**2 - float((f - g)**2) / n**3)\n",
    "    return (left_boundary, right_boundary)"
   ]
  },
  {
   "cell_type": "markdown",
   "metadata": {},
   "source": [
    "**ДИ для доли**"
   ]
  },
  {
   "cell_type": "markdown",
   "metadata": {},
   "source": [
    "$ \\Large \\hat{p} - z_{\\alpha/2} S_{\\hat{p}}<  p  < \\hat{p} + z_{\\alpha/2} S_{\\hat{p}} $"
   ]
  },
  {
   "cell_type": "code",
   "execution_count": 12,
   "metadata": {},
   "outputs": [
    {
     "data": {
      "text/plain": [
       "(0.465352404391258, 0.534647595608742)"
      ]
     },
     "execution_count": 12,
     "metadata": {},
     "output_type": "execute_result"
    }
   ],
   "source": [
    "import statsmodels\n",
    "statsmodels.stats.proportion.proportion_confint(400,800)"
   ]
  },
  {
   "cell_type": "markdown",
   "metadata": {},
   "source": [
    "Доверительный интервал для доли кликов на баннер B."
   ]
  },
  {
   "cell_type": "code",
   "execution_count": 13,
   "metadata": {},
   "outputs": [
    {
     "data": {
      "text/plain": [
       "(0.15352404391258045, 0.8464759560874195)"
      ]
     },
     "execution_count": 13,
     "metadata": {},
     "output_type": "execute_result"
    }
   ],
   "source": [
    "statsmodels.stats.proportion.proportion_confint(4,8)"
   ]
  },
  {
   "cell_type": "markdown",
   "metadata": {},
   "source": [
    "С малым кол-вом наблюдений доверительный интервал очень широкий, совершенно не уверены в заявленной доли."
   ]
  },
  {
   "cell_type": "markdown",
   "metadata": {},
   "source": [
    "### Непараметрические критерии"
   ]
  },
  {
   "cell_type": "markdown",
   "metadata": {},
   "source": [
    "Непараметрические критерии не требуют соответствия какому-либо из распределений. Непараметрические критерии заменяют реальные значения признака рангами. "
   ]
  },
  {
   "cell_type": "markdown",
   "metadata": {},
   "source": [
    "По сравнению с парамтерическими критериями, непараметрические - менее чувствительны."
   ]
  },
  {
   "cell_type": "markdown",
   "metadata": {},
   "source": [
    "### 2.9 Критерий знаков "
   ]
  },
  {
   "cell_type": "markdown",
   "metadata": {},
   "source": [
    "### Одновыборочный критерий"
   ]
  },
  {
   "cell_type": "markdown",
   "metadata": {},
   "source": [
    "Очень простой критерий, не требует от выборки практически ничего. Его мощность составляет примерно 2/3 мощности критерия Стьюдента."
   ]
  },
  {
   "cell_type": "markdown",
   "metadata": {},
   "source": [
    "Проверим гипотезу о том, что курьеры на велосипедах доставляют заказ за 40 минут."
   ]
  },
  {
   "cell_type": "markdown",
   "metadata": {},
   "source": [
    "H0: med X = 40\n",
    "\n",
    "H1: med X <> 40"
   ]
  },
  {
   "cell_type": "markdown",
   "metadata": {},
   "source": [
    "M = $ \\frac {N(+) - N(-)} {2} $, где N(+) - кол-во значений больше проверяемого значения, N(-) - меньше."
   ]
  },
  {
   "cell_type": "markdown",
   "metadata": {},
   "source": [
    "Статистика данного критерия будет иметь биноминальное распределение."
   ]
  },
  {
   "cell_type": "code",
   "execution_count": 2,
   "metadata": {},
   "outputs": [
    {
     "data": {
      "text/plain": [
       "array([29.90537131, 41.51641505, 39.16887653, 62.88805331, 46.45908516,\n",
       "       31.28816531, 29.87775103, 28.76428319, 30.43395038, 31.91912166,\n",
       "       45.4854331 , 41.3478631 , 24.58664468, 35.78256423, 38.76670304,\n",
       "       25.91107488, 44.0169818 , 61.20208294, 50.68808286, 39.27319929,\n",
       "       24.88867563, 31.38006995, 45.43965008, 23.11459189, 41.11943426,\n",
       "       25.65411019, 32.58537847, 40.21341924, 40.92185705, 33.04549801,\n",
       "       28.25062387, 26.61121981, 33.43256446, 30.99335375, 31.19437811,\n",
       "       44.41422034, 45.56531822, 41.59749497, 35.24973984, 22.27153502,\n",
       "       41.20946482, 25.51437897, 32.61714704, 30.8223441 , 31.30167461,\n",
       "       23.91757042, 31.06342411, 45.22536446, 37.18751564, 32.35722899])"
      ]
     },
     "execution_count": 2,
     "metadata": {},
     "output_type": "execute_result"
    }
   ],
   "source": [
    "norm_vel_sample"
   ]
  },
  {
   "cell_type": "code",
   "execution_count": 3,
   "metadata": {},
   "outputs": [],
   "source": [
    "N_plus = len([x for x in norm_vel_sample if x>40])\n",
    "N_minus = len([x for x in norm_vel_sample if x<40])"
   ]
  },
  {
   "cell_type": "code",
   "execution_count": 4,
   "metadata": {},
   "outputs": [
    {
     "data": {
      "text/plain": [
       "17"
      ]
     },
     "execution_count": 4,
     "metadata": {},
     "output_type": "execute_result"
    }
   ],
   "source": [
    "N_plus"
   ]
  },
  {
   "cell_type": "code",
   "execution_count": 5,
   "metadata": {},
   "outputs": [
    {
     "data": {
      "text/plain": [
       "33"
      ]
     },
     "execution_count": 5,
     "metadata": {},
     "output_type": "execute_result"
    }
   ],
   "source": [
    "N_minus"
   ]
  },
  {
   "cell_type": "code",
   "execution_count": 14,
   "metadata": {},
   "outputs": [
    {
     "data": {
      "text/plain": [
       "-8.0"
      ]
     },
     "execution_count": 14,
     "metadata": {},
     "output_type": "execute_result"
    }
   ],
   "source": [
    "M = (N_plus - N_minus)/2\n",
    "M"
   ]
  },
  {
   "cell_type": "code",
   "execution_count": 7,
   "metadata": {},
   "outputs": [
    {
     "data": {
      "image/png": "[encoded data removed]",
      "text/plain": [
       "<Figure size 720x432 with 1 Axes>"
      ]
     },
     "metadata": {
      "needs_background": "light"
     },
     "output_type": "display_data"
    }
   ],
   "source": [
    "M_stat = []\n",
    "\n",
    "norm_vel = stats.norm(loc=40, scale = 2)\n",
    "\n",
    "for i in range(50000):\n",
    "    norm_vel_sample_ = norm_vel.rvs(size=50)\n",
    "    \n",
    "    N_plus = len([x for x in norm_vel_sample_ if x>40])\n",
    "    N_minus = len([x for x in norm_vel_sample_ if x<40])\n",
    "    M_stat.append((N_plus - N_minus)/2)\n",
    "\n",
    "fig, ax = plt.subplots(figsize=(10, 6))\n",
    "plt.hist(M_stat,bins = 15)\n",
    "plt.show()"
   ]
  },
  {
   "cell_type": "code",
   "execution_count": 8,
   "metadata": {},
   "outputs": [
    {
     "data": {
      "text/plain": [
       "0.03232"
      ]
     },
     "execution_count": 8,
     "metadata": {},
     "output_type": "execute_result"
    }
   ],
   "source": [
    "S = pd.Series(M_stat)\n",
    "(S[S<=-8].shape[0]+S[S>=8].shape[0])/S.shape[0]"
   ]
  },
  {
   "cell_type": "markdown",
   "metadata": {},
   "source": [
    "Статистика критерия имеет биноминальное распределение."
   ]
  },
  {
   "cell_type": "code",
   "execution_count": 11,
   "metadata": {},
   "outputs": [
    {
     "data": {
      "text/plain": [
       "(-8.0, 0.03283913756426849)"
      ]
     },
     "execution_count": 11,
     "metadata": {},
     "output_type": "execute_result"
    }
   ],
   "source": [
    "from statsmodels.stats.descriptivestats import sign_test\n",
    "sign_test(norm_vel_sample, 40)"
   ]
  },
  {
   "cell_type": "markdown",
   "metadata": {},
   "source": [
    "Гипотеза H0 отвергается."
   ]
  },
  {
   "cell_type": "markdown",
   "metadata": {},
   "source": [
    "### Двувыборочный критерий для связанных выборок"
   ]
  },
  {
   "cell_type": "markdown",
   "metadata": {},
   "source": [
    "Аналогично можно посчитать критерий для связанных выборок."
   ]
  },
  {
   "cell_type": "markdown",
   "metadata": {},
   "source": [
    "$ H0: P(X_1 > X_2) = \\frac{1} {2}$\n",
    "\n",
    "$ H1: P(X_1 > X_2) <> \\frac{1} {2}$"
   ]
  },
  {
   "cell_type": "markdown",
   "metadata": {},
   "source": [
    "Курьерам выдали велосипеды и записали среднее время, с которым они доставляли заказы до и после выдачи. "
   ]
  },
  {
   "cell_type": "code",
   "execution_count": 18,
   "metadata": {},
   "outputs": [
    {
     "data": {
      "text/html": [
       "<div>\n",
       "<style scoped>\n",
       "    .dataframe tbody tr th:only-of-type {\n",
       "        vertical-align: middle;\n",
       "    }\n",
       "\n",
       "    .dataframe tbody tr th {\n",
       "        vertical-align: top;\n",
       "    }\n",
       "\n",
       "    .dataframe thead th {\n",
       "        text-align: right;\n",
       "    }\n",
       "</style>\n",
       "<table border=\"1\" class=\"dataframe\">\n",
       "  <thead>\n",
       "    <tr style=\"text-align: right;\">\n",
       "      <th></th>\n",
       "      <th>courier_id</th>\n",
       "      <th>time_before</th>\n",
       "      <th>time_after</th>\n",
       "      <th>stat_M</th>\n",
       "    </tr>\n",
       "  </thead>\n",
       "  <tbody>\n",
       "    <tr>\n",
       "      <th>0</th>\n",
       "      <td>0</td>\n",
       "      <td>35.913613</td>\n",
       "      <td>38.101909</td>\n",
       "      <td>0</td>\n",
       "    </tr>\n",
       "    <tr>\n",
       "      <th>1</th>\n",
       "      <td>1</td>\n",
       "      <td>38.408630</td>\n",
       "      <td>25.874920</td>\n",
       "      <td>1</td>\n",
       "    </tr>\n",
       "    <tr>\n",
       "      <th>2</th>\n",
       "      <td>2</td>\n",
       "      <td>20.729774</td>\n",
       "      <td>30.836369</td>\n",
       "      <td>0</td>\n",
       "    </tr>\n",
       "    <tr>\n",
       "      <th>3</th>\n",
       "      <td>3</td>\n",
       "      <td>50.186385</td>\n",
       "      <td>49.587923</td>\n",
       "      <td>1</td>\n",
       "    </tr>\n",
       "    <tr>\n",
       "      <th>4</th>\n",
       "      <td>4</td>\n",
       "      <td>30.150604</td>\n",
       "      <td>41.098808</td>\n",
       "      <td>0</td>\n",
       "    </tr>\n",
       "  </tbody>\n",
       "</table>\n",
       "</div>"
      ],
      "text/plain": [
       "   courier_id  time_before  time_after  stat_M\n",
       "0           0    35.913613   38.101909       0\n",
       "1           1    38.408630   25.874920       1\n",
       "2           2    20.729774   30.836369       0\n",
       "3           3    50.186385   49.587923       1\n",
       "4           4    30.150604   41.098808       0"
      ]
     },
     "execution_count": 18,
     "metadata": {},
     "output_type": "execute_result"
    }
   ],
   "source": [
    "norm_rv1 = stats.norm(loc=35, scale = 10)\n",
    "\n",
    "\n",
    "df = pd.DataFrame()\n",
    "df['courier_id'] = np.arange(0,100)\n",
    "df['time_before'] = norm_rv1.rvs(size=100)\n",
    "df['time_after'] = norm_rv1.rvs(size=100)\n",
    "df['stat_M'] = np.where(df.time_before > df.time_after,1,0)\n",
    "df.head()"
   ]
  },
  {
   "cell_type": "markdown",
   "metadata": {},
   "source": [
    "Аналогично одновыборочному критерию:"
   ]
  },
  {
   "cell_type": "code",
   "execution_count": 19,
   "metadata": {},
   "outputs": [],
   "source": [
    "N_plus = df.stat_M.sum()\n",
    "N_minus = df.shape[0] - N_plus"
   ]
  },
  {
   "cell_type": "code",
   "execution_count": 20,
   "metadata": {},
   "outputs": [
    {
     "data": {
      "text/plain": [
       "-7.0"
      ]
     },
     "execution_count": 20,
     "metadata": {},
     "output_type": "execute_result"
    }
   ],
   "source": [
    "M = (N_plus - N_minus)/2\n",
    "M"
   ]
  },
  {
   "cell_type": "code",
   "execution_count": 21,
   "metadata": {},
   "outputs": [
    {
     "data": {
      "text/plain": [
       "(-7.0, 0.19334790449564238)"
      ]
     },
     "execution_count": 21,
     "metadata": {},
     "output_type": "execute_result"
    }
   ],
   "source": [
    "sign_test(df.time_before - df.time_after)"
   ]
  },
  {
   "cell_type": "markdown",
   "metadata": {},
   "source": [
    "### Ранговые критерии"
   ]
  },
  {
   "cell_type": "markdown",
   "metadata": {},
   "source": [
    "Знаковые критерии выбрасывают большую часть информации, вместо значений используют лишь бинарный вектор, ранговые критерии сохраняют больше информации. Ранг - позиция элемента в вариационном ряду. "
   ]
  },
  {
   "cell_type": "markdown",
   "metadata": {},
   "source": [
    "### 2.10 Критерий знаков рангов Уилкоксона"
   ]
  },
  {
   "cell_type": "markdown",
   "metadata": {},
   "source": [
    "### Одновыборочный критерий"
   ]
  },
  {
   "cell_type": "markdown",
   "metadata": {},
   "source": [
    "$H0: medX = m0$\n",
    "\n",
    "$H1: medX <> m0$\n",
    "    \n",
    "$ статистика: W = \\sum_{i=1}^N rank(|Xi −m0|)·sign(Xi −m0)$"
   ]
  },
  {
   "cell_type": "code",
   "execution_count": null,
   "metadata": {},
   "outputs": [],
   "source": [
    "23 24 25.6 12.1 0.001 10 12 91\n",
    "\n",
    "3 = -2\n",
    "2 = -1 \n",
    "1 =  0.6\n",
    " -12.9\n",
    " = - 24.999\n",
    " =  -15 \n",
    " =  -13\n",
    " 66\n",
    "\n",
    "m0 = 25"
   ]
  },
  {
   "cell_type": "markdown",
   "metadata": {},
   "source": [
    "Нулевое распределение данного критерия - табличное."
   ]
  },
  {
   "cell_type": "markdown",
   "metadata": {},
   "source": [
    "При справедливости нулевой гипотезы каждый из рангов в выборке мог с одинаковой вероятностью реализоваться с любым знаком (sign(Xi −m0)): и с «+», и с «−». Таким образом, получается $2^n$ вариантов распределения знаков по рангам."
   ]
  },
  {
   "cell_type": "markdown",
   "metadata": {},
   "source": [
    "Перебирая все эти варианты, для каждого из них можно вычислить значение статистики."
   ]
  },
  {
   "cell_type": "markdown",
   "metadata": {},
   "source": [
    "Ограничения: число измерений - от 5 до 50. Рапределение статистики похоже на нормальное."
   ]
  },
  {
   "cell_type": "markdown",
   "metadata": {},
   "source": [
    "**Задача** - проверить, среднее время доставки заказа курьеров на велосипеде равно 40 минутам."
   ]
  },
  {
   "cell_type": "code",
   "execution_count": 14,
   "metadata": {},
   "outputs": [
    {
     "data": {
      "text/plain": [
       "array([-10.09462869,   1.51641505,  -0.83112347,  22.88805331,\n",
       "         6.45908516,  -8.71183469, -10.12224897, -11.23571681,\n",
       "        -9.56604962,  -8.08087834,   5.4854331 ,   1.3478631 ,\n",
       "       -15.41335532,  -4.21743577,  -1.23329696, -14.08892512,\n",
       "         4.0169818 ,  21.20208294,  10.68808286,  -0.72680071,\n",
       "       -15.11132437,  -8.61993005,   5.43965008, -16.88540811,\n",
       "         1.11943426, -14.34588981,  -7.41462153,   0.21341924,\n",
       "         0.92185705,  -6.95450199, -11.74937613, -13.38878019,\n",
       "        -6.56743554,  -9.00664625,  -8.80562189,   4.41422034,\n",
       "         5.56531822,   1.59749497,  -4.75026016, -17.72846498,\n",
       "         1.20946482, -14.48562103,  -7.38285296,  -9.1776559 ,\n",
       "        -8.69832539, -16.08242958,  -8.93657589,   5.22536446,\n",
       "        -2.81248436,  -7.64277101])"
      ]
     },
     "execution_count": 14,
     "metadata": {},
     "output_type": "execute_result"
    }
   ],
   "source": [
    "norm_vel_sample - m0"
   ]
  },
  {
   "cell_type": "code",
   "execution_count": 13,
   "metadata": {},
   "outputs": [],
   "source": [
    "m0 = 40"
   ]
  },
  {
   "cell_type": "code",
   "execution_count": 24,
   "metadata": {},
   "outputs": [
    {
     "data": {
      "text/plain": [
       "WilcoxonResult(statistic=295.0, pvalue=0.0009455437739258553)"
      ]
     },
     "execution_count": 24,
     "metadata": {},
     "output_type": "execute_result"
    }
   ],
   "source": [
    "stats.wilcoxon(norm_vel_sample - m0)"
   ]
  },
  {
   "cell_type": "markdown",
   "metadata": {},
   "source": [
    "### Двувыборочный критерий со связанными выборками"
   ]
  },
  {
   "cell_type": "markdown",
   "metadata": {},
   "source": [
    "$H0: med(X_1 - X_2) = 0 $\n",
    "\n",
    "$H1: med(X_1 - X_2) <> 0 $\n",
    "    \n",
    "$ статистика: W = \\sum_{i=1}^N rank(|X_{1i} − X_{2i}|)·sign(X_{1i} − X_{2i})$"
   ]
  },
  {
   "cell_type": "markdown",
   "metadata": {},
   "source": [
    "Аналогично одновыборочному критерию."
   ]
  },
  {
   "cell_type": "markdown",
   "metadata": {},
   "source": [
    "**Задача** - проверить, значимо ли изменилось время доставки курьеров после выдачи им велосипедов."
   ]
  },
  {
   "cell_type": "code",
   "execution_count": 25,
   "metadata": {},
   "outputs": [
    {
     "data": {
      "text/plain": [
       "WilcoxonResult(statistic=622.0, pvalue=0.8810598365200165)"
      ]
     },
     "execution_count": 25,
     "metadata": {},
     "output_type": "execute_result"
    }
   ],
   "source": [
    "stats.wilcoxon(df.time_before.iloc[:50],df.time_after.iloc[:50])"
   ]
  },
  {
   "cell_type": "markdown",
   "metadata": {},
   "source": [
    "### 2.11 Критерий Манна-Уитни"
   ]
  },
  {
   "cell_type": "markdown",
   "metadata": {},
   "source": [
    "### Двувыборочный критерий с несвязанными выборками"
   ]
  },
  {
   "cell_type": "markdown",
   "metadata": {},
   "source": [
    "$ H_0: F_{X_{1}} (x) =  F_{X_{2}} (x) $\n",
    "    \n",
    "$ H1: F_{X_{1}} (x) =  F_{X_{2}} (x + ∆),∆ <> 0 $"
   ]
  },
  {
   "cell_type": "markdown",
   "metadata": {},
   "source": [
    "Если нулевая гипотеза справедлива, то каждый из рангов с одинаковой вероятностью мог реализоваться как в выборке X1, так и в выборке X2. "
   ]
  },
  {
   "cell_type": "markdown",
   "metadata": {},
   "source": [
    "$ статистика: U = n_1 * n_2 + \\frac{n_x*(n_x+1)}{2} - T_x$ "
   ]
  },
  {
   "cell_type": "markdown",
   "metadata": {},
   "source": [
    "Как считается коэффициент:"
   ]
  },
  {
   "cell_type": "markdown",
   "metadata": {},
   "source": [
    "- в составленном едином ранжированном ряду общее количество рангов получится равным: n1 + n2.\n",
    "- подсчитываем отдельно сумму рангов, пришедшихся на долю элементов первой выборки, и отдельно - на долю элементов второй выборки.\n",
    "- определяем большую из двух ранговых сумм (Tx) соответствующую выборке с nx элементами."
   ]
  },
  {
   "cell_type": "markdown",
   "metadata": {},
   "source": [
    "Критерий подходит для сравнения малых выборок: в каждой из выборок должно быть не менее 3 значений признака. Допускается, чтобы в одной выборке было 2 значения, но во второй тогда должно быть не менее пяти."
   ]
  },
  {
   "cell_type": "markdown",
   "metadata": {},
   "source": [
    "**Задача** - проверить гипотезу  о том, что скорость доставки заказов на электросамокате больше, чем на велосипеде.  "
   ]
  },
  {
   "cell_type": "code",
   "execution_count": 26,
   "metadata": {},
   "outputs": [
    {
     "data": {
      "text/plain": [
       "MannwhitneyuResult(statistic=1685.0, pvalue=0.001370584241441102)"
      ]
     },
     "execution_count": 26,
     "metadata": {},
     "output_type": "execute_result"
    }
   ],
   "source": [
    "stats.mannwhitneyu(norm_vel_sample, norm_sam_sample, alternative = 'greater')"
   ]
  },
  {
   "cell_type": "markdown",
   "metadata": {},
   "source": [
    "Нулевая гипотеза отвергается."
   ]
  },
  {
   "cell_type": "markdown",
   "metadata": {},
   "source": [
    "### 2.12 - Bootstrap - универсальный метод для проверки гипотез"
   ]
  },
  {
   "cell_type": "markdown",
   "metadata": {},
   "source": [
    "Очень много тестов со своей спецификой преминения и ограничениями!"
   ]
  },
  {
   "cell_type": "markdown",
   "metadata": {},
   "source": [
    "<img width = '300' src=\"images/lesson_9/book.png\">"
   ]
  },
  {
   "cell_type": "markdown",
   "metadata": {},
   "source": [
    "Есть универсальное решение для проверки гипотез - метод **бутстреп**."
   ]
  },
  {
   "cell_type": "markdown",
   "metadata": {},
   "source": [
    "Идея бутстрепа в том, чтобы использовать результаты вычислений по выборкам как \"фиктивную популяцию\" с целью определить выборочное распределение статистики. Фактически, при этом анализируется большое число \"фантомных\" выборок, называемых бутстреп-выборками.\n",
    "\n",
    "Выборки формируются методом \"с возращением\"."
   ]
  },
  {
   "cell_type": "markdown",
   "metadata": {},
   "source": [
    "В бутстрепе мы не получаем новой информации, но разумно используем имеющиеся данные, исходя из поставленной задачи.\n",
    "\n",
    "Например, бутстреп можно использовать для малых выборок, для оценок медианы, корреляций, построения доверительных интервалов и в других ситуациях."
   ]
  },
  {
   "cell_type": "markdown",
   "metadata": {},
   "source": [
    "Единственное **ограничение**, что выборка, с которой мы работаем при использовании бутстрепа должна быть похожа схожа с генеральной совокупностью."
   ]
  },
  {
   "cell_type": "markdown",
   "metadata": {},
   "source": [
    "<img width = '600' src=\"images/lesson_9/bootstrap.png\">"
   ]
  },
  {
   "cell_type": "markdown",
   "metadata": {},
   "source": [
    "Пример задачи. \n",
    "\n",
    "Разрабатываем алгоритм для высоконагруженной системы. Есть старая версия алгоритма, при этом было подготовлена новая версия алгоритма с использованием современных бибилотек. Нужно оценить 90-перцентиль времени работы алгоритмов, проверив одностороннюю гипотезу о том, что новый алгоритм эффективнее.\n",
    "  \n",
    "    "
   ]
  },
  {
   "cell_type": "code",
   "execution_count": 71,
   "metadata": {},
   "outputs": [
    {
     "data": {
      "image/png": "[encoded data removed]",
      "text/plain": [
       "<Figure size 1008x216 with 2 Axes>"
      ]
     },
     "metadata": {
      "needs_background": "light"
     },
     "output_type": "display_data"
    }
   ],
   "source": [
    "ln_distrib = stats.lognorm(0.5, loc = 20, scale = 7)\n",
    "old_version = ln_distrib.rvs(size=1000)\n",
    "\n",
    "ln_distrib = stats.lognorm(0.5, loc = 17, scale = 8.3)\n",
    "new_version = ln_distrib.rvs(size=1000)\n",
    "\n",
    "fig = plt.figure(figsize=(14, 3))\n",
    "ax1 = plt.subplot(121)\n",
    "plt.hist(old_version, 100, alpha=0.8)\n",
    "plt.title('Распределение времени работы старого алгоритма')\n",
    "\n",
    "ax1 = plt.subplot(122)\n",
    "plt.hist(new_version, 100, alpha=0.8, color = 'r')\n",
    "plt.title('Распределение времени работы нового алгоритма')\n",
    "\n",
    "plt.show()"
   ]
  },
  {
   "cell_type": "code",
   "execution_count": 72,
   "metadata": {},
   "outputs": [],
   "source": [
    "from sklearn.utils import resample"
   ]
  },
  {
   "cell_type": "code",
   "execution_count": 73,
   "metadata": {},
   "outputs": [],
   "source": [
    "old_version_90p_boostrap_distribution = []\n",
    "new_version_90p_boostrap_distribution = []\n",
    "\n",
    "for i in range(5000):\n",
    "    sample_old_version = resample(old_version, replace=True, n_samples=100, random_state=i)\n",
    "    sample_new_version = resample(new_version, replace=True, n_samples=100, random_state=i)\n",
    "    \n",
    "    old_version_90p_boostrap_distribution.append(np.percentile(sample_old_version, 90))\n",
    "    new_version_90p_boostrap_distribution.append(np.percentile(sample_new_version, 90))"
   ]
  },
  {
   "cell_type": "code",
   "execution_count": 74,
   "metadata": {},
   "outputs": [
    {
     "data": {
      "image/png": "[encoded data removed]",
      "text/plain": [
       "<Figure size 1008x216 with 2 Axes>"
      ]
     },
     "metadata": {
      "needs_background": "light"
     },
     "output_type": "display_data"
    }
   ],
   "source": [
    "fig = plt.figure(figsize=(14, 3))\n",
    "ax1 = plt.subplot(121)\n",
    "plt.hist(old_version_90p_boostrap_distribution, 100, alpha=0.8)\n",
    "\n",
    "ax1 = plt.subplot(122)\n",
    "plt.hist(new_version_90p_boostrap_distribution, 100, alpha=0.8, color = 'r')\n",
    "\n",
    "plt.show()"
   ]
  },
  {
   "cell_type": "code",
   "execution_count": 75,
   "metadata": {},
   "outputs": [],
   "source": [
    "t, p = stats.ttest_ind(old_version_90p_boostrap_distribution, new_version_90p_boostrap_distribution )  "
   ]
  },
  {
   "cell_type": "code",
   "execution_count": 76,
   "metadata": {},
   "outputs": [
    {
     "data": {
      "text/plain": [
       "0.48532112143599315"
      ]
     },
     "execution_count": 76,
     "metadata": {},
     "output_type": "execute_result"
    }
   ],
   "source": [
    "t"
   ]
  },
  {
   "cell_type": "code",
   "execution_count": 80,
   "metadata": {},
   "outputs": [
    {
     "data": {
      "text/plain": [
       "0.3137296046410443"
      ]
     },
     "execution_count": 80,
     "metadata": {},
     "output_type": "execute_result"
    }
   ],
   "source": [
    "p/2"
   ]
  },
  {
   "cell_type": "markdown",
   "metadata": {},
   "source": [
    "Не можем отвергнуть нулевую гипотезу о равенстве 90 перцентилей времени работы алгоритмов в пользу односторонней альтернативной."
   ]
  },
  {
   "cell_type": "markdown",
   "metadata": {},
   "source": [
    "### 3. Анализ зависимостей"
   ]
  },
  {
   "cell_type": "markdown",
   "metadata": {},
   "source": [
    "### 3.1 Регрессия"
   ]
  },
  {
   "cell_type": "markdown",
   "metadata": {},
   "source": [
    "Рассмотрим среднедневное кол-во заказов блюда \"Пицца\" ресторанов определенного сегмента на платформе DC в октябре 2018 года."
   ]
  },
  {
   "cell_type": "code",
   "execution_count": 148,
   "metadata": {},
   "outputs": [
    {
     "data": {
      "text/html": [
       "<div>\n",
       "<style scoped>\n",
       "    .dataframe tbody tr th:only-of-type {\n",
       "        vertical-align: middle;\n",
       "    }\n",
       "\n",
       "    .dataframe tbody tr th {\n",
       "        vertical-align: top;\n",
       "    }\n",
       "\n",
       "    .dataframe thead th {\n",
       "        text-align: right;\n",
       "    }\n",
       "</style>\n",
       "<table border=\"1\" class=\"dataframe\">\n",
       "  <thead>\n",
       "    <tr style=\"text-align: right;\">\n",
       "      <th></th>\n",
       "      <th>Price</th>\n",
       "      <th>Orders</th>\n",
       "    </tr>\n",
       "  </thead>\n",
       "  <tbody>\n",
       "    <tr>\n",
       "      <th>0</th>\n",
       "      <td>912</td>\n",
       "      <td>32</td>\n",
       "    </tr>\n",
       "    <tr>\n",
       "      <th>1</th>\n",
       "      <td>958</td>\n",
       "      <td>25</td>\n",
       "    </tr>\n",
       "    <tr>\n",
       "      <th>2</th>\n",
       "      <td>979</td>\n",
       "      <td>11</td>\n",
       "    </tr>\n",
       "    <tr>\n",
       "      <th>3</th>\n",
       "      <td>530</td>\n",
       "      <td>33</td>\n",
       "    </tr>\n",
       "    <tr>\n",
       "      <th>4</th>\n",
       "      <td>750</td>\n",
       "      <td>16</td>\n",
       "    </tr>\n",
       "  </tbody>\n",
       "</table>\n",
       "</div>"
      ],
      "text/plain": [
       "   Price  Orders\n",
       "0    912      32\n",
       "1    958      25\n",
       "2    979      11\n",
       "3    530      33\n",
       "4    750      16"
      ]
     },
     "execution_count": 148,
     "metadata": {},
     "output_type": "execute_result"
    }
   ],
   "source": [
    "orders_info = pd.read_excel('files/oct_2018_Samara_pizza.xlsx')\n",
    "orders_info.head()"
   ]
  },
  {
   "cell_type": "code",
   "execution_count": 149,
   "metadata": {},
   "outputs": [
    {
     "data": {
      "text/plain": [
       "<matplotlib.axes._subplots.AxesSubplot at 0x188d01c0b70>"
      ]
     },
     "execution_count": 149,
     "metadata": {},
     "output_type": "execute_result"
    },
    {
     "data": {
      "image/png": "[encoded data removed]",
      "text/plain": [
       "<Figure size 1152x360 with 1 Axes>"
      ]
     },
     "metadata": {
      "needs_background": "light"
     },
     "output_type": "display_data"
    }
   ],
   "source": [
    "fig = plt.figure(figsize=(16,5))\n",
    "ax1 = plt.subplot(111)\n",
    "\n",
    "orders_info.plot.scatter('Price','Orders',ax = ax1)"
   ]
  },
  {
   "cell_type": "markdown",
   "metadata": {},
   "source": [
    "**Задача.** На платформе появляется новый ресторан и хочет продавать Пиццу по определенной цене. Сколько у данного ресторана будет продаж в день?"
   ]
  },
  {
   "cell_type": "code",
   "execution_count": 152,
   "metadata": {},
   "outputs": [],
   "source": [
    "import statsmodels.formula.api as smf\n",
    "model = smf.ols('Orders~Price',data=orders_info)\n",
    "fitted = model.fit()"
   ]
  },
  {
   "cell_type": "code",
   "execution_count": 153,
   "metadata": {},
   "outputs": [
    {
     "data": {
      "text/plain": [
       "Intercept    87.989346\n",
       "Price        -0.080659\n",
       "dtype: float64"
      ]
     },
     "execution_count": 153,
     "metadata": {},
     "output_type": "execute_result"
    }
   ],
   "source": [
    "fitted.params"
   ]
  },
  {
   "cell_type": "code",
   "execution_count": 154,
   "metadata": {},
   "outputs": [],
   "source": [
    "orders_info['predicted'] = fitted.params[0] + fitted.params[1]*orders_info['Price']"
   ]
  },
  {
   "cell_type": "code",
   "execution_count": 155,
   "metadata": {},
   "outputs": [
    {
     "data": {
      "text/plain": [
       "<matplotlib.axes._subplots.AxesSubplot at 0x188d0eedf28>"
      ]
     },
     "execution_count": 155,
     "metadata": {},
     "output_type": "execute_result"
    },
    {
     "data": {
      "image/png": "[encoded data removed]",
      "text/plain": [
       "<Figure size 1152x360 with 1 Axes>"
      ]
     },
     "metadata": {
      "needs_background": "light"
     },
     "output_type": "display_data"
    }
   ],
   "source": [
    "fig = plt.figure(figsize=(16,5))\n",
    "ax1 = plt.subplot(111)\n",
    "\n",
    "orders_info.plot.scatter('Price','Orders',ax = ax1)\n",
    "orders_info.plot.line('Price','predicted',ax = ax1,color = 'orange')"
   ]
  },
  {
   "cell_type": "code",
   "execution_count": 156,
   "metadata": {},
   "outputs": [
    {
     "name": "stdout",
     "output_type": "stream",
     "text": [
      "                            OLS Regression Results                            \n",
      "==============================================================================\n",
      "Dep. Variable:                 Orders   R-squared:                       0.580\n",
      "Model:                            OLS   Adj. R-squared:                  0.579\n",
      "Method:                 Least Squares   F-statistic:                     687.8\n",
      "Date:                Sun, 10 Nov 2019   Prob (F-statistic):           7.12e-96\n",
      "Time:                        01:08:41   Log-Likelihood:                -2087.4\n",
      "No. Observations:                 500   AIC:                             4179.\n",
      "Df Residuals:                     498   BIC:                             4187.\n",
      "Df Model:                           1                                         \n",
      "Covariance Type:            nonrobust                                         \n",
      "==============================================================================\n",
      "                 coef    std err          t      P>|t|      [0.025      0.975]\n",
      "------------------------------------------------------------------------------\n",
      "Intercept     87.9893      1.999     44.010      0.000      84.061      91.917\n",
      "Price         -0.0807      0.003    -26.226      0.000      -0.087      -0.075\n",
      "==============================================================================\n",
      "Omnibus:                       80.640   Durbin-Watson:                   1.980\n",
      "Prob(Omnibus):                  0.000   Jarque-Bera (JB):              158.964\n",
      "Skew:                           0.905   Prob(JB):                     3.03e-35\n",
      "Kurtosis:                       5.087   Cond. No.                     1.84e+03\n",
      "==============================================================================\n",
      "\n",
      "Warnings:\n",
      "[1] Standard Errors assume that the covariance matrix of the errors is correctly specified.\n",
      "[2] The condition number is large, 1.84e+03. This might indicate that there are\n",
      "strong multicollinearity or other numerical problems.\n"
     ]
    }
   ],
   "source": [
    "print (fitted.summary())"
   ]
  },
  {
   "cell_type": "markdown",
   "metadata": {},
   "source": [
    "**Коэффициент детерминации**"
   ]
  },
  {
   "cell_type": "markdown",
   "metadata": {},
   "source": [
    "$\\Large MSE = \\frac{\\sum_{i=1}^n(\\hat{y_i}-y)^2}{n} $ "
   ]
  },
  {
   "cell_type": "markdown",
   "metadata": {},
   "source": [
    "Среднеквадратичная ошибка подходит для сравнения двух моделей или для контроля качества во время обучения, но не позволяет сделать выводы том, насколько хорошо данная модель решает задачу. Вместо среднеквадратичной ошибки полезно использовать коэффициент детерминации."
   ]
  },
  {
   "cell_type": "markdown",
   "metadata": {},
   "source": [
    "Попробуем нормализовать ошибку:"
   ]
  },
  {
   "cell_type": "markdown",
   "metadata": {},
   "source": [
    "$ TSS =  ESS + RSS $"
   ]
  },
  {
   "cell_type": "markdown",
   "metadata": {},
   "source": [
    "$TSS = \\sum_{i=1}^n(y_i-\\overline{y})^2 $ - разброс относительно своего среднего (~ ошибка наивного предсказания без X) "
   ]
  },
  {
   "cell_type": "markdown",
   "metadata": {},
   "source": [
    "$ESS = \\sum_{i=1}^n(\\hat{y_i}-\\overline{y})^2 $ - объясненная сумма квадратов,сумма квадратов отклонений среднего от предсказанных y."
   ]
  },
  {
   "cell_type": "markdown",
   "metadata": {},
   "source": [
    "$RSS = \\sum_{i=1}^n(\\hat{y_i}-y_i)^2 $ - остаточная сумма квадратов."
   ]
  },
  {
   "cell_type": "markdown",
   "metadata": {},
   "source": [
    "$R^2 = \\frac{ESS}{TSS}$ - **коэффициент детерминации**, доля объясненной дисперсии отклика во всей дисперсии отклика."
   ]
  },
  {
   "cell_type": "markdown",
   "metadata": {},
   "source": [
    "<img width = '1000px' src=\"images/lesson_9/lr_2.png\">"
   ]
  },
  {
   "cell_type": "code",
   "execution_count": 157,
   "metadata": {},
   "outputs": [
    {
     "data": {
      "text/plain": [
       "0.5800274817271208"
      ]
     },
     "execution_count": 157,
     "metadata": {},
     "output_type": "execute_result"
    }
   ],
   "source": [
    "fitted.rsquared"
   ]
  },
  {
   "cell_type": "markdown",
   "metadata": {},
   "source": [
    "Основная проблема применения коэффициента детерминации заключается в том, что его значение увеличивается от добавления в модель новых переменных, даже если эти переменные никакого отношения к объясняемой переменной не имеют. "
   ]
  },
  {
   "cell_type": "markdown",
   "metadata": {},
   "source": [
    "Для того, чтобы была возможность сравнивать модели с разным числом признаков так, чтобы число регрессоров (признаков) не влияло на статистику  обычно используется **скорректированный коэффициент детерминации**."
   ]
  },
  {
   "cell_type": "markdown",
   "metadata": {},
   "source": [
    "$\\Large R^2_{adj} = 1 - (1 - R^2) \\frac{n - 1}{n - k - 1}$,\n",
    "\n",
    "n - кол-во наблюдений,\n",
    "\n",
    "k - кол-во независимых переменных"
   ]
  },
  {
   "cell_type": "code",
   "execution_count": 123,
   "metadata": {},
   "outputs": [
    {
     "data": {
      "text/plain": [
       "0.5791841634173359"
      ]
     },
     "execution_count": 123,
     "metadata": {},
     "output_type": "execute_result"
    }
   ],
   "source": [
    "fitted.rsquared_adj"
   ]
  },
  {
   "cell_type": "markdown",
   "metadata": {},
   "source": [
    "**Критерий Фишера**"
   ]
  },
  {
   "cell_type": "markdown",
   "metadata": {},
   "source": [
    "Требуется проверить гипотезу о том, что все признаки X для предсказания y не нужны, то есть лучшее предсказание для y — это константа. "
   ]
  },
  {
   "cell_type": "markdown",
   "metadata": {},
   "source": [
    "$ H0: a_1 ... a_k = 0 $\n",
    "\n",
    "$ H1: \\text{H0 неверна} $\n",
    "\n",
    "Статистика F:\n",
    "\n",
    "$ \\Large F =  \\frac{R^2/k}{(1 - R^2)/(n-k-1)}$"
   ]
  },
  {
   "cell_type": "code",
   "execution_count": 127,
   "metadata": {},
   "outputs": [
    {
     "data": {
      "text/plain": [
       "687.7918752588998"
      ]
     },
     "execution_count": 127,
     "metadata": {},
     "output_type": "execute_result"
    }
   ],
   "source": [
    "fitted.fvalue"
   ]
  },
  {
   "cell_type": "code",
   "execution_count": 126,
   "metadata": {},
   "outputs": [
    {
     "data": {
      "text/plain": [
       "7.124488003451089e-96"
      ]
     },
     "execution_count": 126,
     "metadata": {},
     "output_type": "execute_result"
    }
   ],
   "source": [
    "fitted.f_pvalue"
   ]
  },
  {
   "cell_type": "markdown",
   "metadata": {},
   "source": [
    "**Метод максимального правдоподобия**"
   ]
  },
  {
   "cell_type": "markdown",
   "metadata": {},
   "source": [
    "**Метод максимального правдоподобия** -- метод поиска модели, наилучшим в каком-то смысле образом описывающей обучающую выборку, полученную с некоторым неизвестным распределением."
   ]
  },
  {
   "cell_type": "markdown",
   "metadata": {},
   "source": [
    "Отличный ресурс по статистике - https://www.youtube.com/user/joshstarmer"
   ]
  },
  {
   "cell_type": "markdown",
   "metadata": {},
   "source": [
    "Откуда такая идея – искать значение параметра, при котором функция правдоподобия достигает максимума? \n",
    "Идея проистекает из представления о том, что выборка – это **единственный источник знания** о генеральной совокупности, доступный нам. Все, что мы знаем о генеральной совокупности, содержится в выборке. Поэтому нам\n",
    "ничего иного не остается, как сказать, что выборка – это наиболее точное отражение\n",
    "генеральной совокупности, доступное нам. А раз так, мы должны полностью положиться\n",
    "на выборку и понять, каков должен быть искомый параметр, чтобы появление именно\n",
    "такой выборки было наиболее вероятным. \n",
    "\n",
    "Центральная идея ММП – это поиск\n",
    "такого значения параметра генеральной совокупности, при котором имеющаяся\n",
    "выборка становится наиболее вероятной."
   ]
  },
  {
   "cell_type": "markdown",
   "metadata": {},
   "source": [
    "*-Как максимизировать максимальное правдободобие?*\n",
    "\n",
    "*-Можно изменить параметры нашего распределения ( в данном случае - это среднее и стандартное отклонение).*"
   ]
  },
  {
   "cell_type": "markdown",
   "metadata": {},
   "source": [
    "**При чем тут линейная регрессия?**"
   ]
  },
  {
   "cell_type": "markdown",
   "metadata": {},
   "source": [
    "Если предположить, что каждое из наблюдений из тренировочного датасета немного неточно описывают исходный датасет (генеральную совокупность) - каждое наблюдение в отдельности - это случайная величина, взятая из нормального распредления. \n",
    "\n",
    "Цель линейной регрессии - воссоздать исходную модель генеральной совокупности с учетом неопределенности в распредлениях каждого из наблюдений.  "
   ]
  },
  {
   "cell_type": "markdown",
   "metadata": {},
   "source": [
    "<img width = '600' src=\"images/lesson_9/ll.png\">"
   ]
  },
  {
   "cell_type": "markdown",
   "metadata": {},
   "source": [
    "Правдоподобие - произведение вероятностей каждого из наблюдений."
   ]
  },
  {
   "cell_type": "markdown",
   "metadata": {},
   "source": [
    "<img width = '600' src=\"images/lesson_9/eq1.png\">"
   ]
  },
  {
   "cell_type": "markdown",
   "metadata": {},
   "source": [
    "После логарифмирования и упрощения уравнение в векторной форме выглядит следующим образом."
   ]
  },
  {
   "cell_type": "markdown",
   "metadata": {},
   "source": [
    "<img width = '600' src=\"images/lesson_9/eq2.png\">"
   ]
  },
  {
   "cell_type": "markdown",
   "metadata": {},
   "source": [
    "**Информационные критерии**"
   ]
  },
  {
   "cell_type": "markdown",
   "metadata": {},
   "source": [
    "**Информационный критерий** — мера относительного качества моделей, учитывающая степень «подгонки» модели под данные с корректировкой (штрафом) на используемое количество оцениваемых параметров. То есть критерии основаны на неком компромиссе между точностью и сложностью модели. "
   ]
  },
  {
   "cell_type": "markdown",
   "metadata": {},
   "source": [
    "$ AIC = 2k/n - 2l/n $\n",
    "\n",
    "k - кол-во парметров модели, l - логарифмическая функция правдоподобия, n - объем выборки"
   ]
  },
  {
   "cell_type": "markdown",
   "metadata": {},
   "source": [
    "${\\displaystyle BIC=SC=k\\ln n-2l}$"
   ]
  },
  {
   "cell_type": "markdown",
   "metadata": {},
   "source": [
    "Данный критерий налагает больший штраф на увеличение количества параметров по сравнению с AIC, так как ${\\displaystyle \\ln n} {\\displaystyle \\ln n} $ больше 2 уже при количестве 8 наблюдений."
   ]
  },
  {
   "cell_type": "markdown",
   "metadata": {},
   "source": [
    "Чем меньше значение критерия, тем лучше модель."
   ]
  },
  {
   "cell_type": "markdown",
   "metadata": {},
   "source": [
    "**Критерий Стьюдента**"
   ]
  },
  {
   "cell_type": "markdown",
   "metadata": {},
   "source": [
    "$ H0: a_i = 0 $\n",
    "\n",
    "$ H1: a_i  <> 0 $\n",
    "\n",
    "Статистика T:\n",
    "\n",
    "$\\Large T =  \\frac{a_i}{\\sqrt{\\frac{RSS}{n-k-1}(XX^{t})^{-1}_{ii}}}$"
   ]
  },
  {
   "cell_type": "markdown",
   "metadata": {},
   "source": [
    "Гипотеза о равенстве нулю коэффициента **a** означает, что признак x не влияет на отклик y."
   ]
  },
  {
   "cell_type": "code",
   "execution_count": 144,
   "metadata": {},
   "outputs": [
    {
     "data": {
      "text/plain": [
       "Intercept    44.009606\n",
       "Price       -26.225786\n",
       "dtype: float64"
      ]
     },
     "execution_count": 144,
     "metadata": {},
     "output_type": "execute_result"
    }
   ],
   "source": [
    "fitted.tvalues"
   ]
  },
  {
   "cell_type": "code",
   "execution_count": 145,
   "metadata": {},
   "outputs": [
    {
     "data": {
      "text/plain": [
       "Intercept    9.578626e-174\n",
       "Price         7.124488e-96\n",
       "dtype: float64"
      ]
     },
     "execution_count": 145,
     "metadata": {},
     "output_type": "execute_result"
    }
   ],
   "source": [
    "fitted.pvalues"
   ]
  },
  {
   "cell_type": "markdown",
   "metadata": {},
   "source": [
    "**Прочие индикаторы линейной регрессии**"
   ]
  },
  {
   "cell_type": "markdown",
   "metadata": {},
   "source": [
    "Скос и эксцесс."
   ]
  },
  {
   "cell_type": "markdown",
   "metadata": {},
   "source": [
    "<img width = '450' src=\"images/lesson_9/skK.gif\">"
   ]
  },
  {
   "cell_type": "markdown",
   "metadata": {},
   "source": [
    "**Skew/Kurtosis** - меры скоса и эксцесса, ожидается значение ближе к 0."
   ]
  },
  {
   "cell_type": "markdown",
   "metadata": {},
   "source": [
    "**Omnibus/Prob(Omnibus)** - тест на скосс и эксцесс остатков модели линейной регрессии, Prob(Omnibus) ближе к 1 говорит о нормальности остатков модели."
   ]
  },
  {
   "cell_type": "markdown",
   "metadata": {},
   "source": [
    "**Durbin-Watson** - тест на автокорреляцию между остатками регрессионнной модели, наилучший показатель - значения между 1 и 2."
   ]
  },
  {
   "cell_type": "markdown",
   "metadata": {},
   "source": [
    "**Jarque-Bera (JB)/Prob(JB)** - тест по аналогии с тестом Omnibus."
   ]
  },
  {
   "cell_type": "markdown",
   "metadata": {},
   "source": [
    "**Condition Number** - тест на чувствительность результата модели к входным данным, например, в случае мультиколлинеарности (наличие зависимости между объясняющими переменными), малейшие изменения входных параметров могут сильно повлиять на результат модели, ожидается значение меньшее 30."
   ]
  },
  {
   "cell_type": "markdown",
   "metadata": {},
   "source": [
    "Почему в нашей модели такой большой Condition Number, если в ней всего лишь 1 переменная (Цена) ?"
   ]
  },
  {
   "cell_type": "markdown",
   "metadata": {},
   "source": [
    "### 3.2 Корреляция"
   ]
  },
  {
   "cell_type": "markdown",
   "metadata": {},
   "source": [
    "Регрессионный анализ позволяет оценить, как одна переменная\n",
    "зависит от другой и каков разброс значений зависимой переменной вокруг прямой, определяющей зависимость.  Однако часто интересует не предсказание\n",
    "значения одной переменной по значению другой, а просто характеристика тесноты (силы) связи между ними, при этом выраженная одним числом."
   ]
  },
  {
   "cell_type": "markdown",
   "metadata": {},
   "source": [
    "**Корреляция Пирсона**"
   ]
  },
  {
   "cell_type": "markdown",
   "metadata": {},
   "source": [
    "$ \\Large r = \\frac{{}\\sum_{i=1}^{n} (x_i - \\overline{x})(y_i - \\overline{y})}\n",
    "{\\sqrt{\\sum_{i=1}^{n} (x_i - \\overline{x})^2(y_i - \\overline{y})^2}}$"
   ]
  },
  {
   "cell_type": "markdown",
   "metadata": {},
   "source": [
    "Корреляция Пирсона — это мера силы линейной взаимосвязи между двумя случайными величинами X1 и X2."
   ]
  },
  {
   "cell_type": "markdown",
   "metadata": {},
   "source": [
    "<img width = '900px' src=\"images/lesson_9/corp4.png\">"
   ]
  },
  {
   "cell_type": "code",
   "execution_count": 104,
   "metadata": {},
   "outputs": [
    {
     "data": {
      "text/html": [
       "<div>\n",
       "<style scoped>\n",
       "    .dataframe tbody tr th:only-of-type {\n",
       "        vertical-align: middle;\n",
       "    }\n",
       "\n",
       "    .dataframe tbody tr th {\n",
       "        vertical-align: top;\n",
       "    }\n",
       "\n",
       "    .dataframe thead th {\n",
       "        text-align: right;\n",
       "    }\n",
       "</style>\n",
       "<table border=\"1\" class=\"dataframe\">\n",
       "  <thead>\n",
       "    <tr style=\"text-align: right;\">\n",
       "      <th></th>\n",
       "      <th>Price</th>\n",
       "      <th>Orders</th>\n",
       "    </tr>\n",
       "  </thead>\n",
       "  <tbody>\n",
       "    <tr>\n",
       "      <th>Price</th>\n",
       "      <td>1.000000</td>\n",
       "      <td>-0.761595</td>\n",
       "    </tr>\n",
       "    <tr>\n",
       "      <th>Orders</th>\n",
       "      <td>-0.761595</td>\n",
       "      <td>1.000000</td>\n",
       "    </tr>\n",
       "  </tbody>\n",
       "</table>\n",
       "</div>"
      ],
      "text/plain": [
       "           Price    Orders\n",
       "Price   1.000000 -0.761595\n",
       "Orders -0.761595  1.000000"
      ]
     },
     "execution_count": 104,
     "metadata": {},
     "output_type": "execute_result"
    }
   ],
   "source": [
    "orders_info[['Price','Orders']].corr()"
   ]
  },
  {
   "cell_type": "markdown",
   "metadata": {},
   "source": [
    "Как интерпретировать полученный коэффицент? "
   ]
  },
  {
   "cell_type": "markdown",
   "metadata": {},
   "source": [
    "Для ответа на вопрос по аналогии существует критерий (статистический критерий Стьюдента) и соответвующая статистика:"
   ]
  },
  {
   "cell_type": "markdown",
   "metadata": {},
   "source": [
    "H0: r = 0\n",
    "\n",
    "H1: r <> 0"
   ]
  },
  {
   "cell_type": "markdown",
   "metadata": {},
   "source": [
    "$\\Large T = \\frac{r_{X_1X_2}\\sqrt{n-2}}{\\sqrt{1 - r_{X_1X_2}^2}}$"
   ]
  },
  {
   "cell_type": "code",
   "execution_count": 105,
   "metadata": {},
   "outputs": [
    {
     "data": {
      "text/plain": [
       "(-0.7615953530104559, 7.124488003450482e-96)"
      ]
     },
     "execution_count": 105,
     "metadata": {},
     "output_type": "execute_result"
    }
   ],
   "source": [
    "scipy.stats.pearsonr(orders_info.Price,orders_info.Orders)"
   ]
  },
  {
   "cell_type": "markdown",
   "metadata": {},
   "source": [
    "**Корреляция Спирмена**"
   ]
  },
  {
   "cell_type": "markdown",
   "metadata": {},
   "source": [
    "Коэффициент корреляции Спирмена — это мера силы монотонной взаимосвязи между двумя случайными величинами, он равен коэффициенту корреляции Пирсона между рангами наблюдений."
   ]
  },
  {
   "cell_type": "markdown",
   "metadata": {},
   "source": [
    "$ \\Large \\rho = 1- {\\frac {6 \\sum d_i^2}{n(n^2 - 1)}} $\n"
   ]
  },
  {
   "cell_type": "markdown",
   "metadata": {},
   "source": [
    "<img width = '900px' src=\"images/lesson_9/cors4.png\">"
   ]
  },
  {
   "cell_type": "code",
   "execution_count": 150,
   "metadata": {},
   "outputs": [
    {
     "data": {
      "text/plain": [
       "SpearmanrResult(correlation=-0.7882611757083685, pvalue=4.320553213521898e-107)"
      ]
     },
     "execution_count": 150,
     "metadata": {},
     "output_type": "execute_result"
    }
   ],
   "source": [
    "scipy.stats.spearmanr(orders_info.Price, orders_info.Orders)"
   ]
  },
  {
   "cell_type": "markdown",
   "metadata": {},
   "source": [
    "**Корреялция Мэтьюса**"
   ]
  },
  {
   "cell_type": "markdown",
   "metadata": {},
   "source": [
    "Коэффициент корреляции Мэтьюса — это мера силы взаимосвязи между двумя бинарными переменными. "
   ]
  },
  {
   "cell_type": "markdown",
   "metadata": {},
   "source": [
    "<img width = '500px' src=\"images/lesson_9/mat.png\">"
   ]
  },
  {
   "cell_type": "markdown",
   "metadata": {},
   "source": [
    "$\\Large MCC = \\frac{ad-bc}{\\sqrt{(a+b)(a+c)(b+d)(c+d)}} $"
   ]
  },
  {
   "cell_type": "markdown",
   "metadata": {},
   "source": [
    "Проверка значимости корреляции:"
   ]
  },
  {
   "cell_type": "markdown",
   "metadata": {},
   "source": [
    "H0: MCC = 0\n",
    "\n",
    "H1: MCC <> 0"
   ]
  },
  {
   "cell_type": "markdown",
   "metadata": {},
   "source": [
    "Статистика критерия: $\\chi^2  = nMCC^2$"
   ]
  },
  {
   "cell_type": "code",
   "execution_count": 107,
   "metadata": {},
   "outputs": [
    {
     "data": {
      "text/plain": [
       "-0.3333333333333333"
      ]
     },
     "execution_count": 107,
     "metadata": {},
     "output_type": "execute_result"
    }
   ],
   "source": [
    "#Коэффициент используется как качество моделей бинарной классификации\n",
    "from sklearn.metrics import matthews_corrcoef\n",
    "y_true = [+1, +1, +1, -1]\n",
    "y_pred = [+1, -1, +1, +1]\n",
    "matthews_corrcoef(y_true, y_pred) "
   ]
  },
  {
   "cell_type": "markdown",
   "metadata": {},
   "source": [
    "**Корреляция Крамера**"
   ]
  },
  {
   "cell_type": "markdown",
   "metadata": {},
   "source": [
    "Коэффициент корреляции Крамера — это мера силы взаимосвязи между категориальными переменными. "
   ]
  },
  {
   "cell_type": "markdown",
   "metadata": {},
   "source": [
    "Коэффициент Крамера принимает значения исключительно в интервале от 0 до 1,то есть он не может быть отрицательным. 0 соответствует полному отсутствию взаимосвязи,а 1 — полному совпадению переменных X1 и X2 с точностью до переименования уровней. Корреляция между двумя категориальными переменными не может быть отрицательной,поскольку уровни категориальных переменных не связаны друг с другом отношениями порядков."
   ]
  },
  {
   "cell_type": "markdown",
   "metadata": {},
   "source": [
    "<img width = '500px' src=\"images/lesson_9/kram.png\">"
   ]
  },
  {
   "cell_type": "markdown",
   "metadata": {},
   "source": [
    "$ \\Large \\phi = \\sqrt{\\frac{\\chi^2(X_1^n,X_2^n)}{n(min(K_1,K_2) - 1)} }$"
   ]
  },
  {
   "cell_type": "markdown",
   "metadata": {},
   "source": [
    "Значимость критерия:"
   ]
  },
  {
   "cell_type": "markdown",
   "metadata": {},
   "source": [
    "H0: X1 и X2 независимы\n",
    "\n",
    "H1: H0 неверна"
   ]
  },
  {
   "cell_type": "markdown",
   "metadata": {},
   "source": [
    "Статистика критерия - стаистика хи-квадрат."
   ]
  },
  {
   "cell_type": "code",
   "execution_count": null,
   "metadata": {},
   "outputs": [],
   "source": [
    "import pandas as pd\n",
    "confusion_matrix = pd.crosstab(df[column1], df[column2])"
   ]
  },
  {
   "cell_type": "code",
   "execution_count": 110,
   "metadata": {},
   "outputs": [],
   "source": [
    "def cramers_corrected_stat(confusion_matrix):\n",
    "    \"\"\" calculate Cramers V statistic for categorial-categorial association.\n",
    "        uses correction from Bergsma and Wicher, \n",
    "        Journal of the Korean Statistical Society 42 (2013): 323-328\n",
    "    \"\"\"\n",
    "    chi2 = ss.chi2_contingency(confusion_matrix)[0]\n",
    "    n = confusion_matrix.sum()\n",
    "    phi2 = chi2/n\n",
    "    r,k = confusion_matrix.shape\n",
    "    phi2corr = max(0, phi2 - ((k-1)*(r-1))/(n-1))    \n",
    "    rcorr = r - ((r-1)**2)/(n-1)\n",
    "    kcorr = k - ((k-1)**2)/(n-1)\n",
    "    return np.sqrt(phi2corr / min( (kcorr-1), (rcorr-1)))"
   ]
  },
  {
   "cell_type": "markdown",
   "metadata": {},
   "source": [
    "### Литература"
   ]
  },
  {
   "cell_type": "markdown",
   "metadata": {},
   "source": [
    "- Кобзарь. Прикладная математическая статистика (2006)\n",
    "- Kanji. 100 statistical tests (2006)\n",
    "- Глантц. Медико-биологическая статистика (1999)\n",
    "- Лагутин. Наглядная математическая статистика (2007)"
   ]
  }
 ],
 "metadata": {
  "kernelspec": {
   "display_name": "Python 3",
   "language": "python",
   "name": "python3"
  },
  "language_info": {
   "codemirror_mode": {
    "name": "ipython",
    "version": 3
   },
   "file_extension": ".py",
   "mimetype": "text/x-python",
   "name": "python",
   "nbconvert_exporter": "python",
   "pygments_lexer": "ipython3",
   "version": "3.7.3"
  }
 },
 "nbformat": 4,
 "nbformat_minor": 2
}
